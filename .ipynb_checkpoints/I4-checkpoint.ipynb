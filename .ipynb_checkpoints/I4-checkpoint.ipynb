{
 "cells": [
  {
   "cell_type": "code",
   "execution_count": 29,
   "id": "9e108d3d",
   "metadata": {},
   "outputs": [],
   "source": [
    "import findspark\n",
    "findspark.init('/home/ubuntu/spark-3.2.1-bin-hadoop2.7')\n",
    "import pyspark\n",
    "from pyspark.sql import SparkSession\n",
    "from pyspark.sql.functions import *\n",
    "spark = SparkSession.builder.appName('basics').getOrCreate()"
   ]
  },
  {
   "cell_type": "markdown",
   "id": "41126826",
   "metadata": {},
   "source": [
    "# 02 - Data Understanding"
   ]
  },
  {
   "cell_type": "code",
   "execution_count": 30,
   "id": "371374a3",
   "metadata": {},
   "outputs": [
    {
     "name": "stdout",
     "output_type": "stream",
     "text": [
      "+---------+------+---+--------------------+--------------+----------------+-----------------------+------------+-------------+--------------+----------+-----------+--------------+\n",
      "|Person ID|Gender|Age|          Occupation|Sleep Duration|Quality of Sleep|Physical Activity Level|Stress Level| BMI Category|Blood Pressure|Heart Rate|Daily Steps|Sleep Disorder|\n",
      "+---------+------+---+--------------------+--------------+----------------+-----------------------+------------+-------------+--------------+----------+-----------+--------------+\n",
      "|        1|  Male| 27|   Software Engineer|           6.1|             3.5|                     42|           6|   Overweight|        126/83|        77|       5200|          None|\n",
      "|        2|  Male| 28|              Doctor|           6.2|               4|                     82|           8|       Normal|        125/80|        75|       8000|          None|\n",
      "|        3|  Male| 28|              Doctor|           6.2|               5|                     67|           8|       Normal|        125/80|        75|       6000|          None|\n",
      "|        4|  Male| 28|Sales Representative|           5.9|               2|                     33|           8|        Obese|        140/90|        85|       2500|   Sleep Apnea|\n",
      "|        5|  Male| 28|Sales Representative|           5.9|               2|                     31|           6|        Obese|        140/90|        85|       3000|   Sleep Apnea|\n",
      "|        6|  Male| 28|   Software Engineer|           5.9|               3|                     30|           5|        Obese|        140/90|        85|       2800|      Insomnia|\n",
      "|        7|  Male| 29|             Teacher|           6.3|               5|                     41|           6|        Obese|        140/90|        82|       3300|      Insomnia|\n",
      "|        8|  Male| 29|              Doctor|           6.3|               6|                     75|           7|       Normal|        120/80|        70|       6000|          None|\n",
      "|        9|  Male| 29|              Doctor|           6.4|               5|                     77|           7|       Normal|        120/80|        70|       4000|          None|\n",
      "|       10|  Male| 29|              Doctor|           5.5|               6|                     71|           8|       Normal|        120/80|        70|       6000|          None|\n",
      "|       11|  Male| 29|              Doctor|           5.7|               6|                     55|           7|       Normal|        120/80|        70|       8000|          None|\n",
      "|       12|  Male| 29|              Doctor|           4.3|               2|                     72|           9|   Overweight|        120/80|        88|       6000|      Insomnia|\n",
      "|       13|  Male| 29|              Doctor|           5.3|               4|                     55|           8|   Overweight|        120/80|        70|       4500|          None|\n",
      "|       14|  Male| 29|              Doctor|             6|               6|                     42|           8|       Normal|        120/80|        70|       6000|          None|\n",
      "|       15|  Male| 29|              Doctor|           5.6|               6|                     62|           8|       Normal|        120/80|        70|       5000|      Insomnia|\n",
      "|       16|  Male| 29|              Doctor|           5.7|               6|                     44|           8|       Normal|        120/80|        70|       8000|      Insomnia|\n",
      "|       17|Female| 29|               Nurse|           6.5|               5|                     30|           7|Normal Weight|        132/87|        80|       4000|   Sleep Apnea|\n",
      "|       18|  Male| 29|              Doctor|             6|               6|                     38|           8|       Normal|        120/80|        70|       8000|   Sleep Apnea|\n",
      "|       19|Female| 29|               Nurse|           6.5|               5|                     42|           7|Normal Weight|        132/87|        80|       4000|      Insomnia|\n",
      "|       20|  Male| 30|              Doctor|           6.6|               7|                     73|           7|       Normal|        120/80|        70|       5000|          None|\n",
      "+---------+------+---+--------------------+--------------+----------------+-----------------------+------------+-------------+--------------+----------+-----------+--------------+\n",
      "only showing top 20 rows\n",
      "\n",
      "+---------+-------+--------+------------+---------+\n",
      "|Person ID|Bedtime|PhoneUse|WearsGlasses|Religious|\n",
      "+---------+-------+--------+------------+---------+\n",
      "|        1|   1:00|       Y|           Y|        Y|\n",
      "|        2|   0:30|       N|           N|        Y|\n",
      "|        3|   1:00|       Y|           N|        Y|\n",
      "|        4|   1:00|       Y|           N|        Y|\n",
      "|        5|   1:40|       Y|           N|        Y|\n",
      "|        6|   3:00|       Y|           N|        Y|\n",
      "|        7|   0:50|       Y|           Y|        Y|\n",
      "|        8|   2:50|       N|           N|        N|\n",
      "|        9|   1:30|       Y|           Y|        Y|\n",
      "|       10|   3:30|       N|           Y|        Y|\n",
      "|       11|   4:30|       N|           Y|        Y|\n",
      "|       12|   3:00|       N|           Y|        N|\n",
      "|       13|   2:00|       Y|           N|        N|\n",
      "|       14|   0:50|       Y|           Y|        Y|\n",
      "|       15|   3:00|       Y|           N|        Y|\n",
      "|       16|   2:20|       Y|           Y|        Y|\n",
      "|       17|   1:50|       Y|           Y|        Y|\n",
      "|       18|   0:00|       Y|           Y|        N|\n",
      "|       19|   1:15|       Y|           Y|        Y|\n",
      "|       20|  23:30|       N|           N|        Y|\n",
      "+---------+-------+--------+------------+---------+\n",
      "only showing top 20 rows\n",
      "\n"
     ]
    }
   ],
   "source": [
    "# Load datasets\n",
    "df_1 = spark.read.csv('Sleep_health_and_lifestyle_dataset.csv', header=True)\n",
    "df_2 = spark.read.csv('Sleep_health_and_lifestyle_dataset_2.csv', header=True)\n",
    "\n",
    "# Explore data\n",
    "# Initial inspection of data\n",
    "df_1.show()\n",
    "df_2.show()\n"
   ]
  },
  {
   "cell_type": "code",
   "execution_count": 31,
   "id": "98cfb28b",
   "metadata": {},
   "outputs": [
    {
     "name": "stdout",
     "output_type": "stream",
     "text": [
      "(374, 13)\n",
      "(374, 5)\n"
     ]
    }
   ],
   "source": [
    "# Getting number of rows and columns for datasets\n",
    "print((df_1.count(), len(df_1.columns)))\n",
    "print((df_2.count(), len(df_2.columns)))"
   ]
  },
  {
   "cell_type": "code",
   "execution_count": 32,
   "id": "1c3e1447",
   "metadata": {},
   "outputs": [
    {
     "name": "stdout",
     "output_type": "stream",
     "text": [
      "['Person ID', 'Gender', 'Age', 'Occupation', 'Sleep Duration', 'Quality of Sleep', 'Physical Activity Level', 'Stress Level', 'BMI Category', 'Blood Pressure', 'Heart Rate', 'Daily Steps', 'Sleep Disorder']\n",
      "['Person ID', 'Bedtime', 'PhoneUse', 'WearsGlasses', 'Religious']\n"
     ]
    }
   ],
   "source": [
    "# Columns labels\n",
    "print(df_1.columns)\n",
    "print(df_2.columns)"
   ]
  },
  {
   "cell_type": "code",
   "execution_count": 33,
   "id": "7b3136d0",
   "metadata": {
    "scrolled": true
   },
   "outputs": [
    {
     "name": "stdout",
     "output_type": "stream",
     "text": [
      "-RECORD 0-------------------------------------\n",
      " summary                 | count              \n",
      " Person ID               | 374                \n",
      " Gender                  | 374                \n",
      " Age                     | 374                \n",
      " Occupation              | 374                \n",
      " Sleep Duration          | 374                \n",
      " Quality of Sleep        | 374                \n",
      " Physical Activity Level | 374                \n",
      " Stress Level            | 374                \n",
      " BMI Category            | 374                \n",
      " Blood Pressure          | 374                \n",
      " Heart Rate              | 374                \n",
      " Daily Steps             | 374                \n",
      " Sleep Disorder          | 374                \n",
      "-RECORD 1-------------------------------------\n",
      " summary                 | mean               \n",
      " Person ID               | 187.5              \n",
      " Gender                  | null               \n",
      " Age                     | 42.18449197860963  \n",
      " Occupation              | null               \n",
      " Sleep Duration          | 6.874866310160423  \n",
      " Quality of Sleep        | 6.278074866310161  \n",
      " Physical Activity Level | 47.094652406417104 \n",
      " Stress Level            | 5.737967914438503  \n",
      " BMI Category            | null               \n",
      " Blood Pressure          | null               \n",
      " Heart Rate              | 70.1096256684492   \n",
      " Daily Steps             | NaN                \n",
      " Sleep Disorder          | null               \n",
      "-RECORD 2-------------------------------------\n",
      " summary                 | stddev             \n",
      " Person ID               | 108.10874155219827 \n",
      " Gender                  | null               \n",
      " Age                     | 8.673133465547242  \n",
      " Occupation              | null               \n",
      " Sleep Duration          | 0.863939079304409  \n",
      " Quality of Sleep        | 1.5273030900788678 \n",
      " Physical Activity Level | 25.761316746150158 \n",
      " Stress Level            | 1.7330727531954802 \n",
      " BMI Category            | null               \n",
      " Blood Pressure          | null               \n",
      " Heart Rate              | 4.374709595139524  \n",
      " Daily Steps             | NaN                \n",
      " Sleep Disorder          | null               \n",
      "-RECORD 3-------------------------------------\n",
      " summary                 | min                \n",
      " Person ID               | 1                  \n",
      " Gender                  | F                  \n",
      " Age                     | 27                 \n",
      " Occupation              | Accountant         \n",
      " Sleep Duration          | 4.3                \n",
      " Quality of Sleep        | 2                  \n",
      " Physical Activity Level | 0.3                \n",
      " Stress Level            | 2                  \n",
      " BMI Category            | Normal             \n",
      " Blood Pressure          | 115/75             \n",
      " Heart Rate              | 45                 \n",
      " Daily Steps             | 10000              \n",
      " Sleep Disorder          | Insomnia           \n",
      "-RECORD 4-------------------------------------\n",
      " summary                 | max                \n",
      " Person ID               | 99                 \n",
      " Gender                  | Male               \n",
      " Age                     | 59                 \n",
      " Occupation              | Teacher            \n",
      " Sleep Duration          | 8.7                \n",
      " Quality of Sleep        | 9                  \n",
      " Physical Activity Level | 92                 \n",
      " Stress Level            | 9                  \n",
      " BMI Category            | Overweight         \n",
      " Blood Pressure          | 142/92             \n",
      " Heart Rate              | 88                 \n",
      " Daily Steps             | NaN                \n",
      " Sleep Disorder          | Sleep Apnea        \n",
      "\n",
      "+-------+------------------+-------+--------+------------+---------+\n",
      "|summary|         Person ID|Bedtime|PhoneUse|WearsGlasses|Religious|\n",
      "+-------+------------------+-------+--------+------------+---------+\n",
      "|  count|               374|    374|     374|         374|      374|\n",
      "|   mean|             187.5|   null|    null|        null|     null|\n",
      "| stddev|108.10874155219827|   null|    null|        null|     null|\n",
      "|    min|                 1|   0:00|       N|           N|        N|\n",
      "|    max|                99|   9:30|       Y|           Y|        Y|\n",
      "+-------+------------------+-------+--------+------------+---------+\n",
      "\n"
     ]
    }
   ],
   "source": [
    "# Description of data\n",
    "df_1.describe().show(truncate=False, vertical=True)\n",
    "df_2.describe().show()"
   ]
  },
  {
   "cell_type": "code",
   "execution_count": 38,
   "id": "3e1adae3",
   "metadata": {},
   "outputs": [
    {
     "name": "stdout",
     "output_type": "stream",
     "text": [
      "root\n",
      " |-- PersonID: float (nullable = true)\n",
      " |-- Gender: string (nullable = true)\n",
      " |-- Age: float (nullable = true)\n",
      " |-- Occupation: string (nullable = true)\n",
      " |-- Sleep Duration: float (nullable = true)\n",
      " |-- Quality of Sleep: float (nullable = true)\n",
      " |-- Physical Activity Level: float (nullable = true)\n",
      " |-- Stress Level: float (nullable = true)\n",
      " |-- BMI Category: string (nullable = true)\n",
      " |-- Blood Pressure: string (nullable = true)\n",
      " |-- Heart Rate: float (nullable = true)\n",
      " |-- Daily Steps: float (nullable = true)\n",
      " |-- Sleep Disorder: string (nullable = true)\n",
      "\n"
     ]
    }
   ],
   "source": [
    "# Let's import in the relevant types.\n",
    "\n",
    "from pyspark.sql.types import (StructField,StringType,IntegerType,FloatType,StructType)\n",
    "\n",
    "# Correct structure for now\n",
    "data_schema = [StructField('PersonID',FloatType(),True),\n",
    "              StructField('Gender',StringType(),True),\n",
    "              StructField('Age',FloatType(),True),\n",
    "              StructField('Occupation',StringType(),True),\n",
    "              StructField('Sleep Duration',FloatType(),True),\n",
    "              StructField('Quality of Sleep',FloatType(),True),\n",
    "              StructField('Physical Activity Level',FloatType(),True),\n",
    "              StructField('Stress Level',FloatType(),True),\n",
    "              StructField('BMI Category',StringType(),True),\n",
    "              StructField('Blood Pressure',StringType(),True),\n",
    "              StructField('Heart Rate',FloatType(),True),\n",
    "              StructField('Daily Steps',FloatType(),True),\n",
    "              StructField('Sleep Disorder',StringType(),True),\n",
    "              ]\n",
    "\n",
    "final_struct = StructType(fields=data_schema)\n",
    "# Apply schema to df_1 with new variable types\n",
    "df_1 = spark.read.csv('Sleep_health_and_lifestyle_dataset.csv', schema=final_struct)\n",
    "\n",
    "df_1.printSchema()\n"
   ]
  },
  {
   "cell_type": "code",
   "execution_count": 41,
   "id": "d1babbb5",
   "metadata": {},
   "outputs": [
    {
     "name": "stdout",
     "output_type": "stream",
     "text": [
      "+-------+-----------------+\n",
      "|summary|              Age|\n",
      "+-------+-----------------+\n",
      "|  count|              374|\n",
      "|   mean|42.18449197860963|\n",
      "| stddev|8.673133465547242|\n",
      "|    min|             27.0|\n",
      "|    max|             59.0|\n",
      "+-------+-----------------+\n",
      "\n"
     ]
    }
   ],
   "source": [
    "# Only looking at age.show()\n",
    "df_1.select('Age').describe().show()\n"
   ]
  },
  {
   "cell_type": "code",
   "execution_count": 47,
   "id": "a052fdde",
   "metadata": {},
   "outputs": [
    {
     "name": "stdout",
     "output_type": "stream",
     "text": [
      "+-------+-----------------------+\n",
      "|summary|Physical Activity Level|\n",
      "+-------+-----------------------+\n",
      "|  count|                    374|\n",
      "|   mean|     47.094652406512736|\n",
      "| stddev|     25.761316745976746|\n",
      "|    min|                    0.3|\n",
      "|    max|                  210.0|\n",
      "+-------+-----------------------+\n",
      "\n",
      "+-------+------------------+\n",
      "|summary|       Daily Steps|\n",
      "+-------+------------------+\n",
      "|  count|               368|\n",
      "|   mean| 5839.942934782609|\n",
      "| stddev|1769.0999572833714|\n",
      "|    min|            2000.0|\n",
      "|    max|           14000.0|\n",
      "+-------+------------------+\n",
      "\n"
     ]
    }
   ],
   "source": [
    "# Looking at summary of Physical Activity Level and Daily Steps\n",
    "df_1.select('Physical Activity Level').describe().show()\n",
    "df_1.dropna(subset=['Daily Steps']).select('Daily Steps').describe().show()"
   ]
  },
  {
   "cell_type": "code",
   "execution_count": 44,
   "id": "25556023",
   "metadata": {},
   "outputs": [
    {
     "name": "stdout",
     "output_type": "stream",
     "text": [
      "68\n",
      "63\n"
     ]
    }
   ],
   "source": [
    "# Number of unique values\n",
    "print (df_1.select('Physical Activity Level').distinct().count())\n",
    "print (df_1.select('Daily Steps').distinct().count())"
   ]
  },
  {
   "cell_type": "code",
   "execution_count": 51,
   "id": "2fc40263",
   "metadata": {},
   "outputs": [
    {
     "name": "stdout",
     "output_type": "stream",
     "text": [
      "+--------------------+-----+\n",
      "|          Occupation|count|\n",
      "+--------------------+-----+\n",
      "|           Scientist|    4|\n",
      "|          Occupation|    1|\n",
      "|               Nurse|   73|\n",
      "|         Salesperson|   32|\n",
      "|              Lawyer|   47|\n",
      "|             Teacher|   40|\n",
      "|Sales Representative|    2|\n",
      "|              Doctor|   71|\n",
      "|            Engineer|   63|\n",
      "|          Accountant|   37|\n",
      "|             Manager|    1|\n",
      "|   Software Engineer|    4|\n",
      "+--------------------+-----+\n",
      "\n"
     ]
    }
   ],
   "source": [
    "# Count of values for each occupation\n",
    "df_1.groupBy('Occupation').count().show()"
   ]
  },
  {
   "cell_type": "code",
   "execution_count": 58,
   "id": "7689ba72",
   "metadata": {},
   "outputs": [
    {
     "name": "stdout",
     "output_type": "stream",
     "text": [
      "42\n"
     ]
    }
   ],
   "source": [
    "# Distinct values for Bedtime\n",
    "print (df_2.select('Bedtime').distinct().count())\n"
   ]
  },
  {
   "cell_type": "code",
   "execution_count": 52,
   "id": "bca06052",
   "metadata": {},
   "outputs": [
    {
     "name": "stdout",
     "output_type": "stream",
     "text": [
      "+--------+------+----+-----------------+--------------+----------------+-----------------------+------------+------------+--------------+----------+-----------+--------------+\n",
      "|PersonID|Gender| Age|       Occupation|Sleep Duration|Quality of Sleep|Physical Activity Level|Stress Level|BMI Category|Blood Pressure|Heart Rate|Daily Steps|Sleep Disorder|\n",
      "+--------+------+----+-----------------+--------------+----------------+-----------------------+------------+------------+--------------+----------+-----------+--------------+\n",
      "|     1.0|  Male|27.0|Software Engineer|           6.1|             3.5|                   42.0|         6.0|  Overweight|        126/83|      77.0|     5200.0|          None|\n",
      "|    91.0|  Male|35.0|         Engineer|           7.3|             7.5|                   60.0|         4.0|      Normal|        125/80|      65.0|     5000.0|          None|\n",
      "|   134.0|Female|38.0|       Accountant|           7.1|             7.5|                   60.0|         4.0|      Normal|        115/75|      68.0|     4700.0|          None|\n",
      "|   212.0|  Male|43.0|         Engineer|           8.0|             6.5|                  105.0|         3.0|      Normal|        130/85|      70.0|     8000.0|          None|\n",
      "|   235.0|Female|44.0|          Teacher|           6.6|             6.5|                   35.0|         4.0|  Overweight|        135/90|      65.0|     5200.0|      Insomnia|\n",
      "|   268.0|Female|49.0|            Nurse|           6.2|             3.5|                   40.0|         6.0|  Overweight|        140/95|      75.0|     6500.0|          None|\n",
      "|   296.0|Female|50.0|            Nurse|           6.0|             2.5|                   21.0|         8.0|  Overweight|        140/95|      75.0|     2000.0|   Sleep Apnea|\n",
      "|   371.0|Female|59.0|            Nurse|           8.0|             7.5|                   15.0|         6.0|  Overweight|        140/95|      68.0|     4900.0|   Sleep Apnea|\n",
      "+--------+------+----+-----------------+--------------+----------------+-----------------------+------------+------------+--------------+----------+-----------+--------------+\n",
      "\n"
     ]
    }
   ],
   "source": [
    "# Get values with decimal points (not .0) in Quality of Sleep\n",
    "df_1.filter(col('Quality of Sleep') % 1 != 0).show()"
   ]
  },
  {
   "cell_type": "code",
   "execution_count": 56,
   "id": "97207bd5",
   "metadata": {},
   "outputs": [
    {
     "name": "stdout",
     "output_type": "stream",
     "text": [
      "-RECORD 0----------------------\n",
      " PersonID                | 1   \n",
      " Gender                  | 0   \n",
      " Age                     | 1   \n",
      " Occupation              | 0   \n",
      " Sleep Duration          | 1   \n",
      " Quality of Sleep        | 1   \n",
      " Physical Activity Level | 1   \n",
      " Stress Level            | 1   \n",
      " BMI Category            | 0   \n",
      " Blood Pressure          | 0   \n",
      " Heart Rate              | 1   \n",
      " Daily Steps             | 1   \n",
      " Sleep Disorder          | 0   \n",
      "\n"
     ]
    }
   ],
   "source": [
    "df_1.select([sum(col(c).isNull().cast(\"int\")).alias(c) for c in df_1.columns]).show(truncate=False, vertical=True)\n"
   ]
  },
  {
   "cell_type": "code",
   "execution_count": null,
   "id": "33a867e2",
   "metadata": {},
   "outputs": [],
   "source": []
  }
 ],
 "metadata": {
  "kernelspec": {
   "display_name": "Python 3 (ipykernel)",
   "language": "python",
   "name": "python3"
  },
  "language_info": {
   "codemirror_mode": {
    "name": "ipython",
    "version": 3
   },
   "file_extension": ".py",
   "mimetype": "text/x-python",
   "name": "python",
   "nbconvert_exporter": "python",
   "pygments_lexer": "ipython3",
   "version": "3.10.12"
  }
 },
 "nbformat": 4,
 "nbformat_minor": 5
}
