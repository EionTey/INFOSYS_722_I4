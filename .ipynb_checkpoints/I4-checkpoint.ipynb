{
 "cells": [
  {
   "cell_type": "code",
   "execution_count": 82,
   "id": "9e108d3d",
   "metadata": {},
   "outputs": [],
   "source": [
    "import findspark\n",
    "findspark.init('/home/ubuntu/spark-3.2.1-bin-hadoop2.7')\n",
    "import pyspark\n",
    "from pyspark.sql import SparkSession\n",
    "from pyspark.sql.functions import *\n",
    "import seaborn as sns\n",
    "import pandas as pd\n",
    "import matplotlib.pyplot as plt\n",
    "import numpy as np\n",
    "spark = SparkSession.builder.appName('basics').getOrCreate()"
   ]
  },
  {
   "cell_type": "markdown",
   "id": "41126826",
   "metadata": {},
   "source": [
    "# 02 - Data Understanding"
   ]
  },
  {
   "cell_type": "markdown",
   "id": "9a8d0562",
   "metadata": {},
   "source": [
    "## 2.2 Describing Data"
   ]
  },
  {
   "cell_type": "code",
   "execution_count": 2,
   "id": "371374a3",
   "metadata": {},
   "outputs": [
    {
     "name": "stdout",
     "output_type": "stream",
     "text": [
      "+---------+------+---+--------------------+--------------+----------------+-----------------------+------------+-------------+--------------+----------+-----------+--------------+\n",
      "|Person ID|Gender|Age|          Occupation|Sleep Duration|Quality of Sleep|Physical Activity Level|Stress Level| BMI Category|Blood Pressure|Heart Rate|Daily Steps|Sleep Disorder|\n",
      "+---------+------+---+--------------------+--------------+----------------+-----------------------+------------+-------------+--------------+----------+-----------+--------------+\n",
      "|        1|  Male| 27|   Software Engineer|           6.1|             3.5|                     42|           6|   Overweight|        126/83|        77|       5200|          None|\n",
      "|        2|  Male| 28|              Doctor|           6.2|               4|                     82|           8|       Normal|        125/80|        75|       8000|          None|\n",
      "|        3|  Male| 28|              Doctor|           6.2|               5|                     67|           8|       Normal|        125/80|        75|       6000|          None|\n",
      "|        4|  Male| 28|Sales Representative|           5.9|               2|                     33|           8|        Obese|        140/90|        85|       2500|   Sleep Apnea|\n",
      "|        5|  Male| 28|Sales Representative|           5.9|               2|                     31|           6|        Obese|        140/90|        85|       3000|   Sleep Apnea|\n",
      "|        6|  Male| 28|   Software Engineer|           5.9|               3|                     30|           5|        Obese|        140/90|        85|       2800|      Insomnia|\n",
      "|        7|  Male| 29|             Teacher|           6.3|               5|                     41|           6|        Obese|        140/90|        82|       3300|      Insomnia|\n",
      "|        8|  Male| 29|              Doctor|           6.3|               6|                     75|           7|       Normal|        120/80|        70|       6000|          None|\n",
      "|        9|  Male| 29|              Doctor|           6.4|               5|                     77|           7|       Normal|        120/80|        70|       4000|          None|\n",
      "|       10|  Male| 29|              Doctor|           5.5|               6|                     71|           8|       Normal|        120/80|        70|       6000|          None|\n",
      "|       11|  Male| 29|              Doctor|           5.7|               6|                     55|           7|       Normal|        120/80|        70|       8000|          None|\n",
      "|       12|  Male| 29|              Doctor|           4.3|               2|                     72|           9|   Overweight|        120/80|        88|       6000|      Insomnia|\n",
      "|       13|  Male| 29|              Doctor|           5.3|               4|                     55|           8|   Overweight|        120/80|        70|       4500|          None|\n",
      "|       14|  Male| 29|              Doctor|             6|               6|                     42|           8|       Normal|        120/80|        70|       6000|          None|\n",
      "|       15|  Male| 29|              Doctor|           5.6|               6|                     62|           8|       Normal|        120/80|        70|       5000|      Insomnia|\n",
      "|       16|  Male| 29|              Doctor|           5.7|               6|                     44|           8|       Normal|        120/80|        70|       8000|      Insomnia|\n",
      "|       17|Female| 29|               Nurse|           6.5|               5|                     30|           7|Normal Weight|        132/87|        80|       4000|   Sleep Apnea|\n",
      "|       18|  Male| 29|              Doctor|             6|               6|                     38|           8|       Normal|        120/80|        70|       8000|   Sleep Apnea|\n",
      "|       19|Female| 29|               Nurse|           6.5|               5|                     42|           7|Normal Weight|        132/87|        80|       4000|      Insomnia|\n",
      "|       20|  Male| 30|              Doctor|           6.6|               7|                     73|           7|       Normal|        120/80|        70|       5000|          None|\n",
      "+---------+------+---+--------------------+--------------+----------------+-----------------------+------------+-------------+--------------+----------+-----------+--------------+\n",
      "only showing top 20 rows\n",
      "\n",
      "+---------+-------+--------+------------+---------+\n",
      "|Person ID|Bedtime|PhoneUse|WearsGlasses|Religious|\n",
      "+---------+-------+--------+------------+---------+\n",
      "|        1|   1:00|       Y|           Y|        Y|\n",
      "|        2|   0:30|       N|           N|        Y|\n",
      "|        3|   1:00|       Y|           N|        Y|\n",
      "|        4|   1:00|       Y|           N|        Y|\n",
      "|        5|   1:40|       Y|           N|        Y|\n",
      "|        6|   3:00|       Y|           N|        Y|\n",
      "|        7|   0:50|       Y|           Y|        Y|\n",
      "|        8|   2:50|       N|           N|        N|\n",
      "|        9|   1:30|       Y|           Y|        Y|\n",
      "|       10|   3:30|       N|           Y|        Y|\n",
      "|       11|   4:30|       N|           Y|        Y|\n",
      "|       12|   3:00|       N|           Y|        N|\n",
      "|       13|   2:00|       Y|           N|        N|\n",
      "|       14|   0:50|       Y|           Y|        Y|\n",
      "|       15|   3:00|       Y|           N|        Y|\n",
      "|       16|   2:20|       Y|           Y|        Y|\n",
      "|       17|   1:50|       Y|           Y|        Y|\n",
      "|       18|   0:00|       Y|           Y|        N|\n",
      "|       19|   1:15|       Y|           Y|        Y|\n",
      "|       20|  23:30|       N|           N|        Y|\n",
      "+---------+-------+--------+------------+---------+\n",
      "only showing top 20 rows\n",
      "\n"
     ]
    }
   ],
   "source": [
    "# Load datasets\n",
    "df_1 = spark.read.csv('Sleep_health_and_lifestyle_dataset.csv', header=True)\n",
    "df_2 = spark.read.csv('Sleep_health_and_lifestyle_dataset_2.csv', header=True)\n",
    "\n",
    "# Explore data\n",
    "# Initial inspection of data\n",
    "df_1.show()\n",
    "df_2.show()\n"
   ]
  },
  {
   "cell_type": "code",
   "execution_count": 3,
   "id": "98cfb28b",
   "metadata": {},
   "outputs": [
    {
     "name": "stdout",
     "output_type": "stream",
     "text": [
      "(374, 13)\n",
      "(374, 5)\n"
     ]
    }
   ],
   "source": [
    "# Getting number of rows and columns for datasets\n",
    "print((df_1.count(), len(df_1.columns)))\n",
    "print((df_2.count(), len(df_2.columns)))"
   ]
  },
  {
   "cell_type": "code",
   "execution_count": 4,
   "id": "1c3e1447",
   "metadata": {},
   "outputs": [
    {
     "name": "stdout",
     "output_type": "stream",
     "text": [
      "['Person ID', 'Gender', 'Age', 'Occupation', 'Sleep Duration', 'Quality of Sleep', 'Physical Activity Level', 'Stress Level', 'BMI Category', 'Blood Pressure', 'Heart Rate', 'Daily Steps', 'Sleep Disorder']\n",
      "['Person ID', 'Bedtime', 'PhoneUse', 'WearsGlasses', 'Religious']\n"
     ]
    }
   ],
   "source": [
    "# Columns labels\n",
    "print(df_1.columns)\n",
    "print(df_2.columns)"
   ]
  },
  {
   "cell_type": "code",
   "execution_count": 5,
   "id": "7b3136d0",
   "metadata": {
    "scrolled": true
   },
   "outputs": [
    {
     "name": "stderr",
     "output_type": "stream",
     "text": [
      "                                                                                \r"
     ]
    },
    {
     "name": "stdout",
     "output_type": "stream",
     "text": [
      "-RECORD 0-------------------------------------\n",
      " summary                 | count              \n",
      " Person ID               | 374                \n",
      " Gender                  | 374                \n",
      " Age                     | 374                \n",
      " Occupation              | 374                \n",
      " Sleep Duration          | 374                \n",
      " Quality of Sleep        | 374                \n",
      " Physical Activity Level | 374                \n",
      " Stress Level            | 374                \n",
      " BMI Category            | 374                \n",
      " Blood Pressure          | 374                \n",
      " Heart Rate              | 374                \n",
      " Daily Steps             | 374                \n",
      " Sleep Disorder          | 374                \n",
      "-RECORD 1-------------------------------------\n",
      " summary                 | mean               \n",
      " Person ID               | 187.5              \n",
      " Gender                  | null               \n",
      " Age                     | 42.18449197860963  \n",
      " Occupation              | null               \n",
      " Sleep Duration          | 6.874866310160423  \n",
      " Quality of Sleep        | 6.278074866310161  \n",
      " Physical Activity Level | 47.094652406417104 \n",
      " Stress Level            | 5.737967914438503  \n",
      " BMI Category            | null               \n",
      " Blood Pressure          | null               \n",
      " Heart Rate              | 70.1096256684492   \n",
      " Daily Steps             | NaN                \n",
      " Sleep Disorder          | null               \n",
      "-RECORD 2-------------------------------------\n",
      " summary                 | stddev             \n",
      " Person ID               | 108.10874155219827 \n",
      " Gender                  | null               \n",
      " Age                     | 8.673133465547242  \n",
      " Occupation              | null               \n",
      " Sleep Duration          | 0.863939079304409  \n",
      " Quality of Sleep        | 1.5273030900788678 \n",
      " Physical Activity Level | 25.761316746150158 \n",
      " Stress Level            | 1.7330727531954802 \n",
      " BMI Category            | null               \n",
      " Blood Pressure          | null               \n",
      " Heart Rate              | 4.374709595139524  \n",
      " Daily Steps             | NaN                \n",
      " Sleep Disorder          | null               \n",
      "-RECORD 3-------------------------------------\n",
      " summary                 | min                \n",
      " Person ID               | 1                  \n",
      " Gender                  | F                  \n",
      " Age                     | 27                 \n",
      " Occupation              | Accountant         \n",
      " Sleep Duration          | 4.3                \n",
      " Quality of Sleep        | 2                  \n",
      " Physical Activity Level | 0.3                \n",
      " Stress Level            | 2                  \n",
      " BMI Category            | Normal             \n",
      " Blood Pressure          | 115/75             \n",
      " Heart Rate              | 45                 \n",
      " Daily Steps             | 10000              \n",
      " Sleep Disorder          | Insomnia           \n",
      "-RECORD 4-------------------------------------\n",
      " summary                 | max                \n",
      " Person ID               | 99                 \n",
      " Gender                  | Male               \n",
      " Age                     | 59                 \n",
      " Occupation              | Teacher            \n",
      " Sleep Duration          | 8.7                \n",
      " Quality of Sleep        | 9                  \n",
      " Physical Activity Level | 92                 \n",
      " Stress Level            | 9                  \n",
      " BMI Category            | Overweight         \n",
      " Blood Pressure          | 142/92             \n",
      " Heart Rate              | 88                 \n",
      " Daily Steps             | NaN                \n",
      " Sleep Disorder          | Sleep Apnea        \n",
      "\n",
      "+-------+------------------+-------+--------+------------+---------+\n",
      "|summary|         Person ID|Bedtime|PhoneUse|WearsGlasses|Religious|\n",
      "+-------+------------------+-------+--------+------------+---------+\n",
      "|  count|               374|    374|     374|         374|      374|\n",
      "|   mean|             187.5|   null|    null|        null|     null|\n",
      "| stddev|108.10874155219827|   null|    null|        null|     null|\n",
      "|    min|                 1|   0:00|       N|           N|        N|\n",
      "|    max|                99|   9:30|       Y|           Y|        Y|\n",
      "+-------+------------------+-------+--------+------------+---------+\n",
      "\n"
     ]
    }
   ],
   "source": [
    "# Description of data\n",
    "df_1.describe().show(truncate=False, vertical=True)\n",
    "df_2.describe().show()"
   ]
  },
  {
   "cell_type": "code",
   "execution_count": 6,
   "id": "3e1adae3",
   "metadata": {},
   "outputs": [
    {
     "name": "stdout",
     "output_type": "stream",
     "text": [
      "root\n",
      " |-- PersonID: float (nullable = true)\n",
      " |-- Gender: string (nullable = true)\n",
      " |-- Age: float (nullable = true)\n",
      " |-- Occupation: string (nullable = true)\n",
      " |-- Sleep Duration: float (nullable = true)\n",
      " |-- Quality of Sleep: float (nullable = true)\n",
      " |-- Physical Activity Level: float (nullable = true)\n",
      " |-- Stress Level: float (nullable = true)\n",
      " |-- BMI Category: string (nullable = true)\n",
      " |-- Blood Pressure: string (nullable = true)\n",
      " |-- Heart Rate: float (nullable = true)\n",
      " |-- Daily Steps: float (nullable = true)\n",
      " |-- Sleep Disorder: string (nullable = true)\n",
      "\n"
     ]
    }
   ],
   "source": [
    "# Let's import in the relevant types.\n",
    "\n",
    "from pyspark.sql.types import (StructField,StringType,IntegerType,FloatType,StructType)\n",
    "\n",
    "# Correct structure for now\n",
    "data_schema = [StructField('PersonID',FloatType(),True),\n",
    "              StructField('Gender',StringType(),True),\n",
    "              StructField('Age',FloatType(),True),\n",
    "              StructField('Occupation',StringType(),True),\n",
    "              StructField('Sleep Duration',FloatType(),True),\n",
    "              StructField('Quality of Sleep',FloatType(),True),\n",
    "              StructField('Physical Activity Level',FloatType(),True),\n",
    "              StructField('Stress Level',FloatType(),True),\n",
    "              StructField('BMI Category',StringType(),True),\n",
    "              StructField('Blood Pressure',StringType(),True),\n",
    "              StructField('Heart Rate',FloatType(),True),\n",
    "              StructField('Daily Steps',FloatType(),True),\n",
    "              StructField('Sleep Disorder',StringType(),True),\n",
    "              ]\n",
    "\n",
    "final_struct = StructType(fields=data_schema)\n",
    "# Apply schema to df_1 with new variable types\n",
    "df_1 = spark.read.csv('Sleep_health_and_lifestyle_dataset.csv', schema=final_struct)\n",
    "\n",
    "df_1.printSchema()\n"
   ]
  },
  {
   "cell_type": "code",
   "execution_count": 7,
   "id": "d1babbb5",
   "metadata": {},
   "outputs": [
    {
     "name": "stdout",
     "output_type": "stream",
     "text": [
      "+-------+-----------------+\n",
      "|summary|              Age|\n",
      "+-------+-----------------+\n",
      "|  count|              374|\n",
      "|   mean|42.18449197860963|\n",
      "| stddev|8.673133465547242|\n",
      "|    min|             27.0|\n",
      "|    max|             59.0|\n",
      "+-------+-----------------+\n",
      "\n"
     ]
    }
   ],
   "source": [
    "# Only looking at age.show()\n",
    "df_1.select('Age').describe().show()\n"
   ]
  },
  {
   "cell_type": "code",
   "execution_count": 8,
   "id": "a052fdde",
   "metadata": {},
   "outputs": [
    {
     "name": "stdout",
     "output_type": "stream",
     "text": [
      "+-------+-----------------------+\n",
      "|summary|Physical Activity Level|\n",
      "+-------+-----------------------+\n",
      "|  count|                    374|\n",
      "|   mean|     47.094652406512736|\n",
      "| stddev|     25.761316745976746|\n",
      "|    min|                    0.3|\n",
      "|    max|                  210.0|\n",
      "+-------+-----------------------+\n",
      "\n",
      "+-------+------------------+\n",
      "|summary|       Daily Steps|\n",
      "+-------+------------------+\n",
      "|  count|               368|\n",
      "|   mean| 5839.942934782609|\n",
      "| stddev|1769.0999572833714|\n",
      "|    min|            2000.0|\n",
      "|    max|           14000.0|\n",
      "+-------+------------------+\n",
      "\n"
     ]
    }
   ],
   "source": [
    "# Looking at summary of Physical Activity Level and Daily Steps\n",
    "df_1.select('Physical Activity Level').describe().show()\n",
    "df_1.dropna(subset=['Daily Steps']).select('Daily Steps').describe().show()"
   ]
  },
  {
   "cell_type": "code",
   "execution_count": 9,
   "id": "25556023",
   "metadata": {},
   "outputs": [
    {
     "name": "stdout",
     "output_type": "stream",
     "text": [
      "68\n",
      "63\n"
     ]
    }
   ],
   "source": [
    "# Number of unique values\n",
    "print (df_1.select('Physical Activity Level').distinct().count())\n",
    "print (df_1.select('Daily Steps').distinct().count())"
   ]
  },
  {
   "cell_type": "code",
   "execution_count": 10,
   "id": "2fc40263",
   "metadata": {},
   "outputs": [
    {
     "name": "stdout",
     "output_type": "stream",
     "text": [
      "+--------------------+-----+\n",
      "|          Occupation|count|\n",
      "+--------------------+-----+\n",
      "|           Scientist|    4|\n",
      "|          Occupation|    1|\n",
      "|               Nurse|   73|\n",
      "|         Salesperson|   32|\n",
      "|              Lawyer|   47|\n",
      "|             Teacher|   40|\n",
      "|Sales Representative|    2|\n",
      "|              Doctor|   71|\n",
      "|            Engineer|   63|\n",
      "|          Accountant|   37|\n",
      "|             Manager|    1|\n",
      "|   Software Engineer|    4|\n",
      "+--------------------+-----+\n",
      "\n"
     ]
    }
   ],
   "source": [
    "# Count of values for each occupation\n",
    "df_1.groupBy('Occupation').count().show()"
   ]
  },
  {
   "cell_type": "code",
   "execution_count": 11,
   "id": "7689ba72",
   "metadata": {},
   "outputs": [
    {
     "name": "stdout",
     "output_type": "stream",
     "text": [
      "42\n"
     ]
    }
   ],
   "source": [
    "# Distinct values for Bedtime\n",
    "print (df_2.select('Bedtime').distinct().count())\n"
   ]
  },
  {
   "cell_type": "markdown",
   "id": "33b11d54",
   "metadata": {},
   "source": [
    "## 2.3 Data Exploration"
   ]
  },
  {
   "cell_type": "code",
   "execution_count": 17,
   "id": "dcfb8daf",
   "metadata": {},
   "outputs": [
    {
     "name": "stdout",
     "output_type": "stream",
     "text": [
      "+--------------+-----+\n",
      "|Sleep Disorder|count|\n",
      "+--------------+-----+\n",
      "|          None|  216|\n",
      "|   Sleep Apnea|   78|\n",
      "|      Insomnia|   80|\n",
      "|Sleep Disorder|    1|\n",
      "+--------------+-----+\n",
      "\n"
     ]
    },
    {
     "data": {
      "text/plain": [
       "Text(0, 0.5, 'Count')"
      ]
     },
     "execution_count": 17,
     "metadata": {},
     "output_type": "execute_result"
    },
    {
     "data": {
      "image/png": "[encoded data removed]",
      "text/plain": [
       "<Figure size 432x288 with 1 Axes>"
      ]
     },
     "metadata": {
      "needs_background": "light"
     },
     "output_type": "display_data"
    }
   ],
   "source": [
    "# Count of sleep disorder values\n",
    "sleep_disorder_dist = df_1.groupBy(\"Sleep Disorder\").agg(count(\"Sleep Disorder\").alias(\"count\"))\n",
    "sleep_disorder_dist.show()\n",
    "# Convert Spark df to a Pandas df\n",
    "sleep_disorder_dist_pd = sleep_disorder_dist.toPandas()\n",
    "# Create barplot\n",
    "sns.barplot(x=\"Sleep Disorder\", y=\"count\", data=sleep_disorder_dist_pd)\n",
    "\n",
    "# Add titles and labels\n",
    "plt.title(\"Count of Sleep Disorder Values\")\n",
    "plt.xlabel(\"Sleep Disorder\")\n",
    "plt.ylabel(\"Count\")\n"
   ]
  },
  {
   "cell_type": "code",
   "execution_count": 19,
   "id": "14d024c5",
   "metadata": {},
   "outputs": [
    {
     "name": "stdout",
     "output_type": "stream",
     "text": [
      "+-------------+-----+\n",
      "| BMI Category|count|\n",
      "+-------------+-----+\n",
      "|Normal Weight|   21|\n",
      "|   Overweight|  151|\n",
      "|        Obese|   10|\n",
      "| BMI Category|    1|\n",
      "|       Normal|  192|\n",
      "+-------------+-----+\n",
      "\n"
     ]
    },
    {
     "data": {
      "text/plain": [
       "Text(0, 0.5, 'Count')"
      ]
     },
     "execution_count": 19,
     "metadata": {},
     "output_type": "execute_result"
    },
    {
     "data": {
      "image/png": "[encoded data removed]",
      "text/plain": [
       "<Figure size 432x288 with 1 Axes>"
      ]
     },
     "metadata": {
      "needs_background": "light"
     },
     "output_type": "display_data"
    }
   ],
   "source": [
    "# Count of BMI values\n",
    "bmi_dist = df_1.groupBy(\"BMI Category\").agg(count(\"BMI Category\").alias(\"count\"))\n",
    "bmi_dist.show()\n",
    "# Convert Spark df to a Pandas df\n",
    "bmi_dist_pd = bmi_dist.toPandas()\n",
    "# Create barplot\n",
    "sns.barplot(x=\"BMI Category\", y=\"count\", data=bmi_dist_pd)\n",
    "\n",
    "# Add titles and labels\n",
    "plt.title(\"Count of BMI Values\")\n",
    "plt.xlabel(\"BMI\")\n",
    "plt.ylabel(\"Count\")"
   ]
  },
  {
   "cell_type": "code",
   "execution_count": 29,
   "id": "caddde06",
   "metadata": {},
   "outputs": [
    {
     "name": "stdout",
     "output_type": "stream",
     "text": [
      "+--------------------+-----+\n",
      "|          Occupation|count|\n",
      "+--------------------+-----+\n",
      "|           Scientist|    4|\n",
      "|          Occupation|    1|\n",
      "|               Nurse|   73|\n",
      "|         Salesperson|   32|\n",
      "|              Lawyer|   47|\n",
      "|             Teacher|   40|\n",
      "|Sales Representative|    2|\n",
      "|              Doctor|   71|\n",
      "|            Engineer|   63|\n",
      "|          Accountant|   37|\n",
      "|             Manager|    1|\n",
      "|   Software Engineer|    4|\n",
      "+--------------------+-----+\n",
      "\n",
      "+--------------------+-----+-------------------+\n",
      "|          Occupation|count|         percentage|\n",
      "+--------------------+-----+-------------------+\n",
      "|           Scientist|    4| 1.0666666666666667|\n",
      "|          Occupation|    1|0.26666666666666666|\n",
      "|               Nurse|   73| 19.466666666666665|\n",
      "|         Salesperson|   32|  8.533333333333333|\n",
      "|              Lawyer|   47| 12.533333333333333|\n",
      "|             Teacher|   40| 10.666666666666668|\n",
      "|Sales Representative|    2| 0.5333333333333333|\n",
      "|              Doctor|   71| 18.933333333333334|\n",
      "|            Engineer|   63|               16.8|\n",
      "|          Accountant|   37|  9.866666666666667|\n",
      "|             Manager|    1|0.26666666666666666|\n",
      "|   Software Engineer|    4| 1.0666666666666667|\n",
      "+--------------------+-----+-------------------+\n",
      "\n"
     ]
    },
    {
     "data": {
      "text/plain": [
       "(array([ 0,  1,  2,  3,  4,  5,  6,  7,  8,  9, 10, 11]),\n",
       " [Text(0, 0, 'Scientist'),\n",
       "  Text(1, 0, 'Occupation'),\n",
       "  Text(2, 0, 'Nurse'),\n",
       "  Text(3, 0, 'Salesperson'),\n",
       "  Text(4, 0, 'Lawyer'),\n",
       "  Text(5, 0, 'Teacher'),\n",
       "  Text(6, 0, 'Sales Representative'),\n",
       "  Text(7, 0, 'Doctor'),\n",
       "  Text(8, 0, 'Engineer'),\n",
       "  Text(9, 0, 'Accountant'),\n",
       "  Text(10, 0, 'Manager'),\n",
       "  Text(11, 0, 'Software Engineer')])"
      ]
     },
     "execution_count": 29,
     "metadata": {},
     "output_type": "execute_result"
    },
    {
     "data": {
      "image/png": "[encoded data removed]",
      "text/plain": [
       "<Figure size 432x288 with 1 Axes>"
      ]
     },
     "metadata": {
      "needs_background": "light"
     },
     "output_type": "display_data"
    }
   ],
   "source": [
    "# Count of Occupation values\n",
    "occ_dist = df_1.groupBy(\"Occupation\").agg(count(\"Occupation\").alias(\"count\"))\n",
    "occ_dist.show()\n",
    "# Convert to percentage\n",
    "occ_perc_dist = occ_dist.withColumn('percentage', (col('count') / df_1.count()) * 100)\n",
    "occ_perc_dist.show()\n",
    "\n",
    "# Convert Spark df to a Pandas df\n",
    "occ_dist_pd = occ_dist.toPandas()\n",
    "# Create barplot\n",
    "sns.barplot(x=\"Occupation\", y=\"count\", data=occ_dist_pd)\n",
    "\n",
    "# Add titles and labels\n",
    "plt.title(\"Count of Occupation Values\")\n",
    "plt.xlabel(\"Occupation\")\n",
    "plt.ylabel(\"Count\")\n",
    "# Rotate them to vertical to make space for value labels\n",
    "plt.xticks(rotation=90)"
   ]
  },
  {
   "cell_type": "code",
   "execution_count": 31,
   "id": "3114a569",
   "metadata": {},
   "outputs": [
    {
     "name": "stdout",
     "output_type": "stream",
     "text": [
      "+--------------------+---------------------+\n",
      "|          Occupation|Mean Quality of Sleep|\n",
      "+--------------------+---------------------+\n",
      "|           Scientist|                 2.75|\n",
      "|          Occupation|                 null|\n",
      "|               Nurse|     5.86986301369863|\n",
      "|         Salesperson|              5.46875|\n",
      "|              Lawyer|    6.382978723404255|\n",
      "|             Teacher|               6.2125|\n",
      "|Sales Representative|                  2.0|\n",
      "|              Doctor|    6.112676056338028|\n",
      "|            Engineer|    7.158730158730159|\n",
      "|          Accountant|    7.202702702702703|\n",
      "|             Manager|                  7.0|\n",
      "|   Software Engineer|                5.625|\n",
      "+--------------------+---------------------+\n",
      "\n"
     ]
    },
    {
     "data": {
      "text/plain": [
       "(array([ 0,  1,  2,  3,  4,  5,  6,  7,  8,  9, 10, 11]),\n",
       " [Text(0, 0, 'Scientist'),\n",
       "  Text(1, 0, 'Occupation'),\n",
       "  Text(2, 0, 'Nurse'),\n",
       "  Text(3, 0, 'Salesperson'),\n",
       "  Text(4, 0, 'Lawyer'),\n",
       "  Text(5, 0, 'Teacher'),\n",
       "  Text(6, 0, 'Sales Representative'),\n",
       "  Text(7, 0, 'Doctor'),\n",
       "  Text(8, 0, 'Engineer'),\n",
       "  Text(9, 0, 'Accountant'),\n",
       "  Text(10, 0, 'Manager'),\n",
       "  Text(11, 0, 'Software Engineer')])"
      ]
     },
     "execution_count": 31,
     "metadata": {},
     "output_type": "execute_result"
    },
    {
     "data": {
      "image/png": "[encoded data removed]",
      "text/plain": [
       "<Figure size 432x288 with 1 Axes>"
      ]
     },
     "metadata": {
      "needs_background": "light"
     },
     "output_type": "display_data"
    }
   ],
   "source": [
    "# Group by occupation and plot against mean of Quality of Sleep\n",
    "occ_mean = df_1.groupBy(\"Occupation\").agg(mean(\"Quality of Sleep\").alias(\"Mean Quality of Sleep\"))\n",
    "occ_mean.show()\n",
    "\n",
    "# Convert Spark df to a Pandas df\n",
    "occ_mean_pd = occ_mean.toPandas()\n",
    "# Create barplot\n",
    "sns.barplot(x=\"Occupation\", y=\"Mean Quality of Sleep\", data=occ_mean_pd)\n",
    "\n",
    "# Add titles and labels\n",
    "plt.title(\"Mean Quality of Sleep for each Occupation\")\n",
    "plt.xlabel(\"Occupation\")\n",
    "plt.ylabel(\"Mean Quality of Sleep\")\n",
    "# Rotate them to vertical to make space for value labels\n",
    "plt.xticks(rotation=90)"
   ]
  },
  {
   "cell_type": "code",
   "execution_count": 42,
   "id": "52161871",
   "metadata": {},
   "outputs": [
    {
     "name": "stdout",
     "output_type": "stream",
     "text": [
      "+-------------------------------+-----+\n",
      "|Rounded Physical Activity Level|count|\n",
      "+-------------------------------+-----+\n",
      "|                          160.0|    1|\n",
      "|                           70.0|   18|\n",
      "|                            0.0|    3|\n",
      "|                           null|    0|\n",
      "|                           80.0|   22|\n",
      "|                          120.0|    5|\n",
      "|                          210.0|    1|\n",
      "|                           50.0|   43|\n",
      "|                          130.0|    1|\n",
      "|                           60.0|   65|\n",
      "|                           10.0|    2|\n",
      "|                           40.0|   46|\n",
      "|                           30.0|  100|\n",
      "|                          100.0|    1|\n",
      "|                           20.0|   42|\n",
      "|                          150.0|    1|\n",
      "|                           90.0|   22|\n",
      "|                          110.0|    1|\n",
      "+-------------------------------+-----+\n",
      "\n"
     ]
    },
    {
     "data": {
      "text/plain": [
       "(array([ 0,  1,  2,  3,  4,  5,  6,  7,  8,  9, 10, 11, 12, 13, 14, 15, 16]),\n",
       " [Text(0, 0, '0.0'),\n",
       "  Text(1, 0, '10.0'),\n",
       "  Text(2, 0, '20.0'),\n",
       "  Text(3, 0, '30.0'),\n",
       "  Text(4, 0, '40.0'),\n",
       "  Text(5, 0, '50.0'),\n",
       "  Text(6, 0, '60.0'),\n",
       "  Text(7, 0, '70.0'),\n",
       "  Text(8, 0, '80.0'),\n",
       "  Text(9, 0, '90.0'),\n",
       "  Text(10, 0, '100.0'),\n",
       "  Text(11, 0, '110.0'),\n",
       "  Text(12, 0, '120.0'),\n",
       "  Text(13, 0, '130.0'),\n",
       "  Text(14, 0, '150.0'),\n",
       "  Text(15, 0, '160.0'),\n",
       "  Text(16, 0, '210.0')])"
      ]
     },
     "execution_count": 42,
     "metadata": {},
     "output_type": "execute_result"
    },
    {
     "data": {
      "image/png": "[encoded data removed]",
      "text/plain": [
       "<Figure size 432x288 with 1 Axes>"
      ]
     },
     "metadata": {
      "needs_background": "light"
     },
     "output_type": "display_data"
    }
   ],
   "source": [
    "# Round of Physical Activity Level to allow column labels to be seen as there are too many distinct values\n",
    "rounded_pal = df_1.withColumn('Rounded Physical Activity Level', round(df_1['Physical Activity Level'] / 10) * 10)\n",
    "# Group by 'Rounded Physical Activity Level' and count\n",
    "rounded_pal_dist = rounded_pal.groupBy('Rounded Physical Activity Level').agg(count('Rounded Physical Activity Level').alias('count'))\n",
    "rounded_pal_dist.show()\n",
    "\n",
    "# Convert Spark df to a Pandas df\n",
    "rounded_pal_pd = rounded_pal_dist.toPandas()\n",
    "# Create barplot\n",
    "sns.barplot(x=\"Rounded Physical Activity Level\", y=\"count\", data=rounded_pal_pd)\n",
    "\n",
    "# Add titles and labels\n",
    "plt.title(\"Count for Rounded Physical Activity Level values\")\n",
    "plt.xlabel(\"Rounded Physical Activity Level values\")\n",
    "plt.ylabel(\"Count\")\n",
    "# Rotate them to vertical to make space for value labels\n",
    "plt.xticks(rotation=90)"
   ]
  },
  {
   "cell_type": "code",
   "execution_count": 44,
   "id": "03f9b471",
   "metadata": {},
   "outputs": [
    {
     "data": {
      "text/plain": [
       "<AxesSubplot:xlabel='Physical Activity Level', ylabel='Density'>"
      ]
     },
     "execution_count": 44,
     "metadata": {},
     "output_type": "execute_result"
    },
    {
     "data": {
      "image/png": "[encoded data removed]",
      "text/plain": [
       "<Figure size 432x288 with 1 Axes>"
      ]
     },
     "metadata": {
      "needs_background": "light"
     },
     "output_type": "display_data"
    }
   ],
   "source": [
    "# Select Physical Activity Level and convert to pandas to plot\n",
    "pal_df = df_1.select('Physical Activity Level').toPandas()\n",
    "sns.kdeplot(data=pal_df, x='Physical Activity Level')\n"
   ]
  },
  {
   "cell_type": "code",
   "execution_count": 53,
   "id": "4586aeae",
   "metadata": {},
   "outputs": [
    {
     "data": {
      "text/plain": [
       "Text(16.299999999999997, 0.5, 'Quality of Sleep')"
      ]
     },
     "execution_count": 53,
     "metadata": {},
     "output_type": "execute_result"
    },
    {
     "data": {
      "image/png": "[encoded data removed]",
      "text/plain": [
       "<Figure size 360x360 with 1 Axes>"
      ]
     },
     "metadata": {
      "needs_background": "light"
     },
     "output_type": "display_data"
    }
   ],
   "source": [
    "qol_pal_df = df_1.select('Quality of Sleep', 'Physical Activity Level').toPandas()\n",
    "# Create barplot\n",
    "sns.relplot(x=\"Physical Activity Level\", y=\"Quality of Sleep\", data=qol_pal_df, kind=\"line\")\n",
    "\n",
    "# Add titles and labels\n",
    "plt.title(\"Physical Activity Level against Quality of Sleep\")\n",
    "plt.xlabel(\"Physical Activity Level\")\n",
    "plt.ylabel(\"Quality of Sleep\")\n"
   ]
  },
  {
   "cell_type": "code",
   "execution_count": 55,
   "id": "f8286b2e",
   "metadata": {},
   "outputs": [
    {
     "data": {
      "text/plain": [
       "-0.3313537991242806"
      ]
     },
     "execution_count": 55,
     "metadata": {},
     "output_type": "execute_result"
    },
    {
     "data": {
      "image/png": "[encoded data removed]",
      "text/plain": [
       "<Figure size 360x360 with 1 Axes>"
      ]
     },
     "metadata": {
      "needs_background": "light"
     },
     "output_type": "display_data"
    }
   ],
   "source": [
    "# Selecting the features for analysis\n",
    "qol_stress_df = df_1.select('Quality of Sleep', 'Stress Level').toPandas()\n",
    "# Create barplot\n",
    "sns.relplot(x=\"Stress Level\", y=\"Quality of Sleep\", data=qol_stress_df, kind=\"line\")\n",
    "\n",
    "# Add titles and labels\n",
    "plt.title(\"Stress Level against Quality of Sleep\")\n",
    "plt.xlabel(\"Stress Level\")\n",
    "plt.ylabel(\"Quality of Sleep\")\n",
    "\n",
    "# Finding the correlation\n",
    "df_1.corr('Quality of Sleep', 'Stress Level')"
   ]
  },
  {
   "cell_type": "code",
   "execution_count": 56,
   "id": "e3faf44a",
   "metadata": {},
   "outputs": [
    {
     "name": "stdout",
     "output_type": "stream",
     "text": [
      "+------------+-----+\n",
      "|Stress Level|count|\n",
      "+------------+-----+\n",
      "|         9.0|    7|\n",
      "|         5.0|   68|\n",
      "|        null|    0|\n",
      "|         7.0|   75|\n",
      "|         2.0|    9|\n",
      "|         3.0|   32|\n",
      "|         6.0|   56|\n",
      "|         8.0|   65|\n",
      "|         4.0|   62|\n",
      "+------------+-----+\n",
      "\n"
     ]
    },
    {
     "data": {
      "text/plain": [
       "(array([0, 1, 2, 3, 4, 5, 6, 7]),\n",
       " [Text(0, 0, '2.0'),\n",
       "  Text(1, 0, '3.0'),\n",
       "  Text(2, 0, '4.0'),\n",
       "  Text(3, 0, '5.0'),\n",
       "  Text(4, 0, '6.0'),\n",
       "  Text(5, 0, '7.0'),\n",
       "  Text(6, 0, '8.0'),\n",
       "  Text(7, 0, '9.0')])"
      ]
     },
     "execution_count": 56,
     "metadata": {},
     "output_type": "execute_result"
    },
    {
     "data": {
      "image/png": "[encoded data removed]",
      "text/plain": [
       "<Figure size 432x288 with 1 Axes>"
      ]
     },
     "metadata": {
      "needs_background": "light"
     },
     "output_type": "display_data"
    }
   ],
   "source": [
    "# Looking at distribution of stress level\n",
    "stress_dist = df_1.groupBy(\"Stress Level\").agg(count(\"Stress Level\").alias(\"count\"))\n",
    "stress_dist.show()\n",
    "\n",
    "# Convert Spark df to a Pandas df\n",
    "stress_dist_pd = stress_dist.toPandas()\n",
    "# Create barplot\n",
    "sns.barplot(x=\"Stress Level\", y=\"count\", data=stress_dist_pd)\n",
    "\n",
    "# Add titles and labels\n",
    "plt.title(\"Count of Stress Level Values\")\n",
    "plt.xlabel(\"Stress Level\")\n",
    "plt.ylabel(\"Count\")\n",
    "# Rotate them to vertical to make space for value labels\n",
    "plt.xticks(rotation=90)"
   ]
  },
  {
   "cell_type": "code",
   "execution_count": 63,
   "id": "fc42d2e9",
   "metadata": {},
   "outputs": [
    {
     "name": "stdout",
     "output_type": "stream",
     "text": [
      "+--------------------+---------------------+\n",
      "|          Occupation|Mean Quality of Sleep|\n",
      "+--------------------+---------------------+\n",
      "|           Scientist|                 2.75|\n",
      "|          Occupation|                 null|\n",
      "|               Nurse|     5.86986301369863|\n",
      "|         Salesperson|              5.46875|\n",
      "|              Lawyer|    6.382978723404255|\n",
      "|             Teacher|               6.2125|\n",
      "|Sales Representative|                  2.0|\n",
      "|              Doctor|    6.112676056338028|\n",
      "|            Engineer|    7.158730158730159|\n",
      "|          Accountant|    7.202702702702703|\n",
      "|             Manager|                  7.0|\n",
      "|   Software Engineer|                5.625|\n",
      "+--------------------+---------------------+\n",
      "\n"
     ]
    },
    {
     "data": {
      "image/png": "[encoded data removed]",
      "text/plain": [
       "<Figure size 432x288 with 1 Axes>"
      ]
     },
     "metadata": {
      "needs_background": "light"
     },
     "output_type": "display_data"
    }
   ],
   "source": [
    "# Box plot of Quality of Sleep for each occupation\n",
    "sns.boxplot(x='Occupation', y='Quality of Sleep', data=df_1.toPandas())\n",
    "# Add titles and labels\n",
    "plt.title('Quality of Sleep Distribution by Occupation')\n",
    "plt.xlabel('Occupation')\n",
    "plt.ylabel('Quality of Sleep')\n",
    "# Rotate them to vertical to make space for value labels\n",
    "plt.xticks(rotation=90)\n",
    "\n",
    "# Mean for each occupation\n",
    "df_1.groupBy('Occupation').agg(mean('Quality of Sleep').alias('Mean Quality of Sleep')).show()\n"
   ]
  },
  {
   "cell_type": "code",
   "execution_count": 66,
   "id": "6691455b",
   "metadata": {},
   "outputs": [
    {
     "data": {
      "text/plain": [
       "(array([0, 1, 2, 3, 4]),\n",
       " [Text(0, 0, 'BMI Category'),\n",
       "  Text(1, 0, 'Overweight'),\n",
       "  Text(2, 0, 'Normal'),\n",
       "  Text(3, 0, 'Obese'),\n",
       "  Text(4, 0, 'Normal Weight')])"
      ]
     },
     "execution_count": 66,
     "metadata": {},
     "output_type": "execute_result"
    },
    {
     "data": {
      "image/png": "[encoded data removed]",
      "text/plain": [
       "<Figure size 432x288 with 1 Axes>"
      ]
     },
     "metadata": {
      "needs_background": "light"
     },
     "output_type": "display_data"
    }
   ],
   "source": [
    "# Violin plot of Quality of Sleep for each BMI\n",
    "sns.violinplot(x='BMI Category', y='Quality of Sleep', data=df_1.toPandas())\n",
    "# Rotate them to vertical to make space for value labels\n",
    "plt.xticks(rotation=90)"
   ]
  },
  {
   "cell_type": "code",
   "execution_count": 70,
   "id": "5f496ab0",
   "metadata": {},
   "outputs": [
    {
     "name": "stdout",
     "output_type": "stream",
     "text": [
      "42\n",
      "+-------+-----+\n",
      "|Bedtime|count|\n",
      "+-------+-----+\n",
      "|   0:40|    4|\n",
      "|   2:40|    1|\n",
      "|   1:50|    2|\n",
      "|   3:10|    1|\n",
      "|   1:45|    2|\n",
      "|   2:50|    1|\n",
      "|  21:45|    1|\n",
      "|   2:45|    1|\n",
      "|  22:15|    1|\n",
      "|  21:00|    4|\n",
      "|   0:20|    2|\n",
      "|   1:20|    4|\n",
      "|  11:30|    2|\n",
      "|  22:40|    3|\n",
      "|   4:30|    1|\n",
      "|   2:00|   17|\n",
      "|  23:50|    5|\n",
      "|   1:10|    2|\n",
      "|  23:30|   42|\n",
      "|  22:20|    1|\n",
      "+-------+-----+\n",
      "only showing top 20 rows\n",
      "\n"
     ]
    },
    {
     "data": {
      "text/plain": [
       "(array([ 0,  1,  2,  3,  4,  5,  6,  7,  8,  9, 10, 11, 12, 13, 14, 15, 16,\n",
       "        17, 18, 19, 20, 21, 22, 23, 24, 25, 26, 27, 28, 29, 30, 31, 32, 33,\n",
       "        34, 35, 36, 37, 38, 39, 40, 41]),\n",
       " [Text(0, 0, '0:40'),\n",
       "  Text(1, 0, '2:40'),\n",
       "  Text(2, 0, '1:50'),\n",
       "  Text(3, 0, '3:10'),\n",
       "  Text(4, 0, '1:45'),\n",
       "  Text(5, 0, '2:50'),\n",
       "  Text(6, 0, '21:45'),\n",
       "  Text(7, 0, '2:45'),\n",
       "  Text(8, 0, '22:15'),\n",
       "  Text(9, 0, '21:00'),\n",
       "  Text(10, 0, '0:20'),\n",
       "  Text(11, 0, '1:20'),\n",
       "  Text(12, 0, '11:30'),\n",
       "  Text(13, 0, '22:40'),\n",
       "  Text(14, 0, '4:30'),\n",
       "  Text(15, 0, '2:00'),\n",
       "  Text(16, 0, '23:50'),\n",
       "  Text(17, 0, '1:10'),\n",
       "  Text(18, 0, '23:30'),\n",
       "  Text(19, 0, '22:20'),\n",
       "  Text(20, 0, '21:30'),\n",
       "  Text(21, 0, '0:50'),\n",
       "  Text(22, 0, '2:20'),\n",
       "  Text(23, 0, '1:15'),\n",
       "  Text(24, 0, '23:10'),\n",
       "  Text(25, 0, '23:20'),\n",
       "  Text(26, 0, '3:00'),\n",
       "  Text(27, 0, '22:00'),\n",
       "  Text(28, 0, '1:40'),\n",
       "  Text(29, 0, '23:15'),\n",
       "  Text(30, 0, '2:15'),\n",
       "  Text(31, 0, '22:30'),\n",
       "  Text(32, 0, '1:30'),\n",
       "  Text(33, 0, '23:40'),\n",
       "  Text(34, 0, '22:50'),\n",
       "  Text(35, 0, '1:00'),\n",
       "  Text(36, 0, '23:00'),\n",
       "  Text(37, 0, '0:30'),\n",
       "  Text(38, 0, '3:30'),\n",
       "  Text(39, 0, '2:30'),\n",
       "  Text(40, 0, '9:30'),\n",
       "  Text(41, 0, '0:00')])"
      ]
     },
     "execution_count": 70,
     "metadata": {},
     "output_type": "execute_result"
    },
    {
     "data": {
      "image/png": "[encoded data removed]",
      "text/plain": [
       "<Figure size 432x288 with 1 Axes>"
      ]
     },
     "metadata": {
      "needs_background": "light"
     },
     "output_type": "display_data"
    }
   ],
   "source": [
    "# Looking at distribution of bedtime\n",
    "bt_dist = df_2.groupBy(\"Bedtime\").agg(count(\"Bedtime\").alias(\"count\"))\n",
    "# Number of unique values\n",
    "print(bt_dist.count())\n",
    "bt_dist.show()\n",
    "\n",
    "# Convert Spark df to a Pandas df\n",
    "bt_dist_pd = bt_dist.toPandas()\n",
    "# Create barplot\n",
    "sns.barplot(x=\"Bedtime\", y=\"count\", data=bt_dist_pd)\n",
    "\n",
    "# Add titles and labels\n",
    "plt.title(\"Count of Bedtime Values\")\n",
    "plt.xlabel(\"Bedtime\")\n",
    "plt.ylabel(\"Count\")\n",
    "# Rotate them to vertical to make space for value labels\n",
    "plt.xticks(rotation=90)"
   ]
  },
  {
   "cell_type": "markdown",
   "id": "f50b386b",
   "metadata": {},
   "source": [
    "## 2.4 Verifying Data Quality "
   ]
  },
  {
   "cell_type": "code",
   "execution_count": 74,
   "id": "80c996d7",
   "metadata": {},
   "outputs": [
    {
     "name": "stdout",
     "output_type": "stream",
     "text": [
      "-RECORD 0----------------------\n",
      " PersonID                | 0   \n",
      " Gender                  | 0   \n",
      " Age                     | 0   \n",
      " Occupation              | 0   \n",
      " Sleep Duration          | 0   \n",
      " Quality of Sleep        | 0   \n",
      " Physical Activity Level | 0   \n",
      " Stress Level            | 0   \n",
      " BMI Category            | 0   \n",
      " Blood Pressure          | 0   \n",
      " Heart Rate              | 0   \n",
      " Daily Steps             | 6   \n",
      " Sleep Disorder          | 0   \n",
      "\n"
     ]
    }
   ],
   "source": [
    "# Check for null values in each column\n",
    "df_1.select([count(when(isnan(c), c)).alias(c) for c in df_1.columns]).show(truncate=False, vertical=True)\n"
   ]
  },
  {
   "cell_type": "code",
   "execution_count": 75,
   "id": "d2db96b5",
   "metadata": {},
   "outputs": [
    {
     "name": "stdout",
     "output_type": "stream",
     "text": [
      "+------+-----+\n",
      "|Gender|count|\n",
      "+------+-----+\n",
      "|     F|    2|\n",
      "|Female|  183|\n",
      "|     M|    3|\n",
      "|  Male|  186|\n",
      "|Gender|    1|\n",
      "+------+-----+\n",
      "\n"
     ]
    },
    {
     "data": {
      "text/plain": [
       "Text(0, 0.5, 'Count')"
      ]
     },
     "execution_count": 75,
     "metadata": {},
     "output_type": "execute_result"
    },
    {
     "data": {
      "image/png": "[encoded data removed]",
      "text/plain": [
       "<Figure size 432x288 with 1 Axes>"
      ]
     },
     "metadata": {
      "needs_background": "light"
     },
     "output_type": "display_data"
    }
   ],
   "source": [
    "# Looking at distribution of genders\n",
    "gender_dist = df_1.groupBy(\"Gender\").agg(count(\"Gender\").alias(\"count\"))\n",
    "gender_dist.show()\n",
    "\n",
    "# Convert Spark df to a Pandas df\n",
    "gender_dist_pd = gender_dist.toPandas()\n",
    "# Create barplot\n",
    "sns.barplot(x=\"Gender\", y=\"count\", data=gender_dist_pd)\n",
    "\n",
    "# Add titles and labels\n",
    "plt.title(\"Count of Gender Values\")\n",
    "plt.xlabel(\"Gender\")\n",
    "plt.ylabel(\"Count\")\n"
   ]
  },
  {
   "cell_type": "code",
   "execution_count": 77,
   "id": "bca06052",
   "metadata": {},
   "outputs": [
    {
     "name": "stdout",
     "output_type": "stream",
     "text": [
      "+--------+------+----+-----------------+--------------+----------------+-----------------------+------------+------------+--------------+----------+-----------+--------------+\n",
      "|PersonID|Gender| Age|       Occupation|Sleep Duration|Quality of Sleep|Physical Activity Level|Stress Level|BMI Category|Blood Pressure|Heart Rate|Daily Steps|Sleep Disorder|\n",
      "+--------+------+----+-----------------+--------------+----------------+-----------------------+------------+------------+--------------+----------+-----------+--------------+\n",
      "|     1.0|  Male|27.0|Software Engineer|           6.1|             3.5|                   42.0|         6.0|  Overweight|        126/83|      77.0|     5200.0|          None|\n",
      "|    91.0|  Male|35.0|         Engineer|           7.3|             7.5|                   60.0|         4.0|      Normal|        125/80|      65.0|     5000.0|          None|\n",
      "|   134.0|Female|38.0|       Accountant|           7.1|             7.5|                   60.0|         4.0|      Normal|        115/75|      68.0|     4700.0|          None|\n",
      "|   212.0|  Male|43.0|         Engineer|           8.0|             6.5|                  105.0|         3.0|      Normal|        130/85|      70.0|     8000.0|          None|\n",
      "|   235.0|Female|44.0|          Teacher|           6.6|             6.5|                   35.0|         4.0|  Overweight|        135/90|      65.0|     5200.0|      Insomnia|\n",
      "|   268.0|Female|49.0|            Nurse|           6.2|             3.5|                   40.0|         6.0|  Overweight|        140/95|      75.0|     6500.0|          None|\n",
      "|   296.0|Female|50.0|            Nurse|           6.0|             2.5|                   21.0|         8.0|  Overweight|        140/95|      75.0|     2000.0|   Sleep Apnea|\n",
      "|   371.0|Female|59.0|            Nurse|           8.0|             7.5|                   15.0|         6.0|  Overweight|        140/95|      68.0|     4900.0|   Sleep Apnea|\n",
      "+--------+------+----+-----------------+--------------+----------------+-----------------------+------------+------------+--------------+----------+-----------+--------------+\n",
      "\n"
     ]
    }
   ],
   "source": [
    "# Get values with decimal points (not .0) in Quality of Sleep\n",
    "df_1.filter(col('Quality of Sleep') % 1 != 0).show()"
   ]
  },
  {
   "cell_type": "code",
   "execution_count": 80,
   "id": "d0773ddc",
   "metadata": {},
   "outputs": [
    {
     "name": "stdout",
     "output_type": "stream",
     "text": [
      "+----------+-----+\n",
      "|Heart Rate|count|\n",
      "+----------+-----+\n",
      "|      82.0|    1|\n",
      "|      86.0|    2|\n",
      "|      null|    0|\n",
      "|      67.0|    2|\n",
      "|      70.0|   75|\n",
      "|      72.0|   69|\n",
      "|      65.0|   67|\n",
      "|      85.0|    3|\n",
      "|      68.0|   94|\n",
      "|      77.0|    2|\n",
      "|      83.0|    2|\n",
      "|      78.0|    5|\n",
      "|      80.0|    3|\n",
      "|      76.0|    2|\n",
      "|      88.0|    1|\n",
      "|      69.0|    2|\n",
      "|      45.0|    1|\n",
      "|      81.0|    2|\n",
      "|      84.0|    1|\n",
      "|      73.0|    2|\n",
      "+----------+-----+\n",
      "only showing top 20 rows\n",
      "\n"
     ]
    },
    {
     "data": {
      "text/plain": [
       "(array([ 0,  1,  2,  3,  4,  5,  6,  7,  8,  9, 10, 11, 12, 13, 14, 15, 16,\n",
       "        17, 18, 19, 20]),\n",
       " [Text(0, 0, '45.0'),\n",
       "  Text(1, 0, '65.0'),\n",
       "  Text(2, 0, '67.0'),\n",
       "  Text(3, 0, '68.0'),\n",
       "  Text(4, 0, '69.0'),\n",
       "  Text(5, 0, '70.0'),\n",
       "  Text(6, 0, '72.0'),\n",
       "  Text(7, 0, '73.0'),\n",
       "  Text(8, 0, '74.0'),\n",
       "  Text(9, 0, '75.0'),\n",
       "  Text(10, 0, '76.0'),\n",
       "  Text(11, 0, '77.0'),\n",
       "  Text(12, 0, '78.0'),\n",
       "  Text(13, 0, '80.0'),\n",
       "  Text(14, 0, '81.0'),\n",
       "  Text(15, 0, '82.0'),\n",
       "  Text(16, 0, '83.0'),\n",
       "  Text(17, 0, '84.0'),\n",
       "  Text(18, 0, '85.0'),\n",
       "  Text(19, 0, '86.0'),\n",
       "  Text(20, 0, '88.0')])"
      ]
     },
     "execution_count": 80,
     "metadata": {},
     "output_type": "execute_result"
    },
    {
     "data": {
      "image/png": "[encoded data removed]",
      "text/plain": [
       "<Figure size 432x288 with 1 Axes>"
      ]
     },
     "metadata": {
      "needs_background": "light"
     },
     "output_type": "display_data"
    }
   ],
   "source": [
    "# Looking at distribution of heart rate\n",
    "heart_rate_dist = df_1.groupBy(\"Heart Rate\").agg(count(\"Heart Rate\").alias(\"count\"))\n",
    "heart_rate_dist.show()\n",
    "\n",
    "# Convert Spark df to a Pandas df\n",
    "heart_rate_dist_pd = heart_rate_dist.toPandas()\n",
    "# Create barplot\n",
    "sns.barplot(x=\"Heart Rate\", y=\"count\", data=heart_rate_dist_pd)\n",
    "\n",
    "# Add titles and labels\n",
    "plt.title(\"Count of Heart Rate\")\n",
    "plt.xlabel(\"Heart Rate\")\n",
    "plt.ylabel(\"Count\")\n",
    "# Rotate them to vertical to make space for value labels\n",
    "plt.xticks(rotation=90)"
   ]
  },
  {
   "cell_type": "code",
   "execution_count": 87,
   "id": "74aa6901",
   "metadata": {},
   "outputs": [
    {
     "name": "stdout",
     "output_type": "stream",
     "text": [
      "+--------+------+----+--------------------+--------------+----------------+-----------------------+------------+------------+--------------+----------+-----------+--------------+------------------+\n",
      "|PersonID|Gender| Age|          Occupation|Sleep Duration|Quality of Sleep|Physical Activity Level|Stress Level|BMI Category|Blood Pressure|Heart Rate|Daily Steps|Sleep Disorder|           z_score|\n",
      "+--------+------+----+--------------------+--------------+----------------+-----------------------+------------+------------+--------------+----------+-----------+--------------+------------------+\n",
      "|     4.0|  Male|28.0|Sales Representative|           5.9|             2.0|                   33.0|         8.0|       Obese|        140/90|      85.0|     2500.0|   Sleep Apnea|3.4037400672480294|\n",
      "|     5.0|  Male|28.0|Sales Representative|           5.9|             2.0|                   31.0|         6.0|       Obese|        140/90|      85.0|     3000.0|   Sleep Apnea|3.4037400672480294|\n",
      "|     6.0|  Male|28.0|   Software Engineer|           5.9|             3.0|                   30.0|         5.0|       Obese|        140/90|      85.0|     2800.0|      Insomnia|3.4037400672480294|\n",
      "|    12.0|  Male|29.0|              Doctor|           4.3|             2.0|                   72.0|         9.0|  Overweight|        120/80|      88.0|     6000.0|      Insomnia|  4.08949987250073|\n",
      "|    94.0|  Male|35.0|              Lawyer|           5.4|             4.0|                   60.0|         8.0|       Obese|        135/88|      84.0|     3300.0|   Sleep Apnea|3.1751534654971296|\n",
      "|   146.0|Female|38.0|              Lawyer|           4.9|             2.0|                   25.0|         8.0|       Obese|        135/88|      45.0|     3300.0|   Sleep Apnea| 5.739724002787977|\n",
      "|   277.0|  Male|49.0|              Doctor|           6.1|             5.0|                   15.0|         9.0|       Obese|        139/91|      86.0|     2000.0|   Sleep Apnea|3.6323266689989295|\n",
      "|   278.0|     M|49.0|              Doctor|           6.4|             6.0|                   25.0|         6.0|       Obese|        139/91|      86.0|     3700.0|   Sleep Apnea|3.6323266689989295|\n",
      "+--------+------+----+--------------------+--------------+----------------+-----------------------+------------+------------+--------------+----------+-----------+--------------+------------------+\n",
      "\n"
     ]
    }
   ],
   "source": [
    "# Calculate mean and standard deviation of Heart Rate\n",
    "mean_hr = df_1.select(mean(col(\"Heart Rate\")).alias(\"mean_hr\")).collect()[0][\"mean_hr\"]\n",
    "sd_hr = df_1.select(stddev(col(\"Heart Rate\")).alias(\"sd_hr\")).collect()[0][\"sd_hr\"]\n",
    "\n",
    "# Calculate z-score for Heart Rate\n",
    "df_with_z_score = df_1.withColumn(\"z_score\", abs((col(\"Heart Rate\") - mean_hr) / sd_hr))\n",
    "\n",
    "# Identify outliers as Heart Rate with a z-score greater than 3\n",
    "z_threshold = 3\n",
    "outliers = df_with_z_score.filter(col(\"z_score\") > z_threshold)\n",
    "outliers.show()"
   ]
  },
  {
   "cell_type": "code",
   "execution_count": 56,
   "id": "97207bd5",
   "metadata": {},
   "outputs": [
    {
     "name": "stdout",
     "output_type": "stream",
     "text": [
      "-RECORD 0----------------------\n",
      " PersonID                | 1   \n",
      " Gender                  | 0   \n",
      " Age                     | 1   \n",
      " Occupation              | 0   \n",
      " Sleep Duration          | 1   \n",
      " Quality of Sleep        | 1   \n",
      " Physical Activity Level | 1   \n",
      " Stress Level            | 1   \n",
      " BMI Category            | 0   \n",
      " Blood Pressure          | 0   \n",
      " Heart Rate              | 1   \n",
      " Daily Steps             | 1   \n",
      " Sleep Disorder          | 0   \n",
      "\n"
     ]
    }
   ],
   "source": [
    "df_1.select([sum(col(c).isNull().cast(\"int\")).alias(c) for c in df_1.columns]).show(truncate=False, vertical=True)\n"
   ]
  },
  {
   "cell_type": "code",
   "execution_count": null,
   "id": "33a867e2",
   "metadata": {},
   "outputs": [],
   "source": []
  }
 ],
 "metadata": {
  "kernelspec": {
   "display_name": "Python 3 (ipykernel)",
   "language": "python",
   "name": "python3"
  },
  "language_info": {
   "codemirror_mode": {
    "name": "ipython",
    "version": 3
   },
   "file_extension": ".py",
   "mimetype": "text/x-python",
   "name": "python",
   "nbconvert_exporter": "python",
   "pygments_lexer": "ipython3",
   "version": "3.10.12"
  }
 },
 "nbformat": 4,
 "nbformat_minor": 5
}
