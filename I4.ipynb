{
 "cells": [
  {
   "cell_type": "code",
   "execution_count": 83,
   "id": "9e108d3d",
   "metadata": {},
   "outputs": [],
   "source": [
    "import findspark\n",
    "findspark.init('/home/ubuntu/spark-3.2.1-bin-hadoop2.7')\n",
    "import pyspark\n",
    "from pyspark.sql import SparkSession\n",
    "from pyspark.sql.functions import *\n",
    "from pyspark.sql.types import BooleanType\n",
    "import seaborn as sns\n",
    "import pandas as pd\n",
    "import matplotlib.pyplot as plt\n",
    "import numpy as np\n",
    "from pyspark.ml.feature import StringIndexer, OneHotEncoder\n",
    "from pyspark.ml.regression import LinearRegression\n",
    "from pyspark.ml.feature import VectorAssembler\n",
    "from pyspark.ml.feature import StringIndexer\n",
    "from pyspark.ml.stat import Correlation\n",
    "spark = SparkSession.builder.appName('I4').getOrCreate()"
   ]
  },
  {
   "cell_type": "markdown",
   "id": "41126826",
   "metadata": {},
   "source": [
    "# 02 - Data Understanding"
   ]
  },
  {
   "cell_type": "markdown",
   "id": "9a8d0562",
   "metadata": {},
   "source": [
    "## 2.2 Describing Data"
   ]
  },
  {
   "cell_type": "code",
   "execution_count": 2,
   "id": "371374a3",
   "metadata": {},
   "outputs": [
    {
     "name": "stdout",
     "output_type": "stream",
     "text": [
      "+---------+------+---+--------------------+--------------+----------------+-----------------------+------------+-------------+--------------+----------+-----------+--------------+\n",
      "|Person ID|Gender|Age|          Occupation|Sleep Duration|Quality of Sleep|Physical Activity Level|Stress Level| BMI Category|Blood Pressure|Heart Rate|Daily Steps|Sleep Disorder|\n",
      "+---------+------+---+--------------------+--------------+----------------+-----------------------+------------+-------------+--------------+----------+-----------+--------------+\n",
      "|        1|  Male| 27|   Software Engineer|           6.1|             3.5|                     42|           6|   Overweight|        126/83|        77|       5200|          None|\n",
      "|        2|  Male| 28|              Doctor|           6.2|               4|                     82|           8|       Normal|        125/80|        75|       8000|          None|\n",
      "|        3|  Male| 28|              Doctor|           6.2|               5|                     67|           8|       Normal|        125/80|        75|       6000|          None|\n",
      "|        4|  Male| 28|Sales Representative|           5.9|               2|                     33|           8|        Obese|        140/90|        85|       2500|   Sleep Apnea|\n",
      "|        5|  Male| 28|Sales Representative|           5.9|               2|                     31|           6|        Obese|        140/90|        85|       3000|   Sleep Apnea|\n",
      "|        6|  Male| 28|   Software Engineer|           5.9|               3|                     30|           5|        Obese|        140/90|        85|       2800|      Insomnia|\n",
      "|        7|  Male| 29|             Teacher|           6.3|               5|                     41|           6|        Obese|        140/90|        82|       3300|      Insomnia|\n",
      "|        8|  Male| 29|              Doctor|           6.3|               6|                     75|           7|       Normal|        120/80|        70|       6000|          None|\n",
      "|        9|  Male| 29|              Doctor|           6.4|               5|                     77|           7|       Normal|        120/80|        70|       4000|          None|\n",
      "|       10|  Male| 29|              Doctor|           5.5|               6|                     71|           8|       Normal|        120/80|        70|       6000|          None|\n",
      "|       11|  Male| 29|              Doctor|           5.7|               6|                     55|           7|       Normal|        120/80|        70|       8000|          None|\n",
      "|       12|  Male| 29|              Doctor|           4.3|               2|                     72|           9|   Overweight|        120/80|        88|       6000|      Insomnia|\n",
      "|       13|  Male| 29|              Doctor|           5.3|               4|                     55|           8|   Overweight|        120/80|        70|       4500|          None|\n",
      "|       14|  Male| 29|              Doctor|             6|               6|                     42|           8|       Normal|        120/80|        70|       6000|          None|\n",
      "|       15|  Male| 29|              Doctor|           5.6|               6|                     62|           8|       Normal|        120/80|        70|       5000|      Insomnia|\n",
      "|       16|  Male| 29|              Doctor|           5.7|               6|                     44|           8|       Normal|        120/80|        70|       8000|      Insomnia|\n",
      "|       17|Female| 29|               Nurse|           6.5|               5|                     30|           7|Normal Weight|        132/87|        80|       4000|   Sleep Apnea|\n",
      "|       18|  Male| 29|              Doctor|             6|               6|                     38|           8|       Normal|        120/80|        70|       8000|   Sleep Apnea|\n",
      "|       19|Female| 29|               Nurse|           6.5|               5|                     42|           7|Normal Weight|        132/87|        80|       4000|      Insomnia|\n",
      "|       20|  Male| 30|              Doctor|           6.6|               7|                     73|           7|       Normal|        120/80|        70|       5000|          None|\n",
      "+---------+------+---+--------------------+--------------+----------------+-----------------------+------------+-------------+--------------+----------+-----------+--------------+\n",
      "only showing top 20 rows\n",
      "\n",
      "+---------+-------+--------+------------+---------+\n",
      "|Person ID|Bedtime|PhoneUse|WearsGlasses|Religious|\n",
      "+---------+-------+--------+------------+---------+\n",
      "|        1|   1:00|       Y|           Y|        Y|\n",
      "|        2|   0:30|       N|           N|        Y|\n",
      "|        3|   1:00|       Y|           N|        Y|\n",
      "|        4|   1:00|       Y|           N|        Y|\n",
      "|        5|   1:40|       Y|           N|        Y|\n",
      "|        6|   3:00|       Y|           N|        Y|\n",
      "|        7|   0:50|       Y|           Y|        Y|\n",
      "|        8|   2:50|       N|           N|        N|\n",
      "|        9|   1:30|       Y|           Y|        Y|\n",
      "|       10|   3:30|       N|           Y|        Y|\n",
      "|       11|   4:30|       N|           Y|        Y|\n",
      "|       12|   3:00|       N|           Y|        N|\n",
      "|       13|   2:00|       Y|           N|        N|\n",
      "|       14|   0:50|       Y|           Y|        Y|\n",
      "|       15|   3:00|       Y|           N|        Y|\n",
      "|       16|   2:20|       Y|           Y|        Y|\n",
      "|       17|   1:50|       Y|           Y|        Y|\n",
      "|       18|   0:00|       Y|           Y|        N|\n",
      "|       19|   1:15|       Y|           Y|        Y|\n",
      "|       20|  23:30|       N|           N|        Y|\n",
      "+---------+-------+--------+------------+---------+\n",
      "only showing top 20 rows\n",
      "\n"
     ]
    }
   ],
   "source": [
    "# Load datasets\n",
    "df_1 = spark.read.csv('Sleep_health_and_lifestyle_dataset.csv', header=True)\n",
    "df_2 = spark.read.csv('Sleep_health_and_lifestyle_dataset_2.csv', header=True)\n",
    "\n",
    "# Explore data\n",
    "# Initial inspection of data\n",
    "df_1.show()\n",
    "df_2.show()\n"
   ]
  },
  {
   "cell_type": "code",
   "execution_count": 3,
   "id": "98cfb28b",
   "metadata": {},
   "outputs": [
    {
     "name": "stdout",
     "output_type": "stream",
     "text": [
      "(374, 13)\n",
      "(374, 5)\n"
     ]
    }
   ],
   "source": [
    "# Getting number of rows and columns for datasets\n",
    "print((df_1.count(), len(df_1.columns)))\n",
    "print((df_2.count(), len(df_2.columns)))"
   ]
  },
  {
   "cell_type": "code",
   "execution_count": 4,
   "id": "1c3e1447",
   "metadata": {},
   "outputs": [
    {
     "name": "stdout",
     "output_type": "stream",
     "text": [
      "['Person ID', 'Gender', 'Age', 'Occupation', 'Sleep Duration', 'Quality of Sleep', 'Physical Activity Level', 'Stress Level', 'BMI Category', 'Blood Pressure', 'Heart Rate', 'Daily Steps', 'Sleep Disorder']\n",
      "['Person ID', 'Bedtime', 'PhoneUse', 'WearsGlasses', 'Religious']\n"
     ]
    }
   ],
   "source": [
    "# Columns labels\n",
    "print(df_1.columns)\n",
    "print(df_2.columns)"
   ]
  },
  {
   "cell_type": "code",
   "execution_count": 5,
   "id": "7b3136d0",
   "metadata": {
    "scrolled": true
   },
   "outputs": [
    {
     "name": "stderr",
     "output_type": "stream",
     "text": [
      "                                                                                \r"
     ]
    },
    {
     "name": "stdout",
     "output_type": "stream",
     "text": [
      "-RECORD 0-------------------------------------\n",
      " summary                 | count              \n",
      " Person ID               | 374                \n",
      " Gender                  | 374                \n",
      " Age                     | 374                \n",
      " Occupation              | 374                \n",
      " Sleep Duration          | 374                \n",
      " Quality of Sleep        | 374                \n",
      " Physical Activity Level | 374                \n",
      " Stress Level            | 374                \n",
      " BMI Category            | 374                \n",
      " Blood Pressure          | 374                \n",
      " Heart Rate              | 374                \n",
      " Daily Steps             | 374                \n",
      " Sleep Disorder          | 374                \n",
      "-RECORD 1-------------------------------------\n",
      " summary                 | mean               \n",
      " Person ID               | 187.5              \n",
      " Gender                  | null               \n",
      " Age                     | 42.18449197860963  \n",
      " Occupation              | null               \n",
      " Sleep Duration          | 6.874866310160423  \n",
      " Quality of Sleep        | 6.278074866310161  \n",
      " Physical Activity Level | 47.094652406417104 \n",
      " Stress Level            | 5.737967914438503  \n",
      " BMI Category            | null               \n",
      " Blood Pressure          | null               \n",
      " Heart Rate              | 70.1096256684492   \n",
      " Daily Steps             | NaN                \n",
      " Sleep Disorder          | null               \n",
      "-RECORD 2-------------------------------------\n",
      " summary                 | stddev             \n",
      " Person ID               | 108.10874155219827 \n",
      " Gender                  | null               \n",
      " Age                     | 8.673133465547242  \n",
      " Occupation              | null               \n",
      " Sleep Duration          | 0.863939079304409  \n",
      " Quality of Sleep        | 1.5273030900788678 \n",
      " Physical Activity Level | 25.761316746150158 \n",
      " Stress Level            | 1.7330727531954802 \n",
      " BMI Category            | null               \n",
      " Blood Pressure          | null               \n",
      " Heart Rate              | 4.374709595139524  \n",
      " Daily Steps             | NaN                \n",
      " Sleep Disorder          | null               \n",
      "-RECORD 3-------------------------------------\n",
      " summary                 | min                \n",
      " Person ID               | 1                  \n",
      " Gender                  | F                  \n",
      " Age                     | 27                 \n",
      " Occupation              | Accountant         \n",
      " Sleep Duration          | 4.3                \n",
      " Quality of Sleep        | 2                  \n",
      " Physical Activity Level | 0.3                \n",
      " Stress Level            | 2                  \n",
      " BMI Category            | Normal             \n",
      " Blood Pressure          | 115/75             \n",
      " Heart Rate              | 45                 \n",
      " Daily Steps             | 10000              \n",
      " Sleep Disorder          | Insomnia           \n",
      "-RECORD 4-------------------------------------\n",
      " summary                 | max                \n",
      " Person ID               | 99                 \n",
      " Gender                  | Male               \n",
      " Age                     | 59                 \n",
      " Occupation              | Teacher            \n",
      " Sleep Duration          | 8.7                \n",
      " Quality of Sleep        | 9                  \n",
      " Physical Activity Level | 92                 \n",
      " Stress Level            | 9                  \n",
      " BMI Category            | Overweight         \n",
      " Blood Pressure          | 142/92             \n",
      " Heart Rate              | 88                 \n",
      " Daily Steps             | NaN                \n",
      " Sleep Disorder          | Sleep Apnea        \n",
      "\n",
      "+-------+------------------+-------+--------+------------+---------+\n",
      "|summary|         Person ID|Bedtime|PhoneUse|WearsGlasses|Religious|\n",
      "+-------+------------------+-------+--------+------------+---------+\n",
      "|  count|               374|    374|     374|         374|      374|\n",
      "|   mean|             187.5|   null|    null|        null|     null|\n",
      "| stddev|108.10874155219827|   null|    null|        null|     null|\n",
      "|    min|                 1|   0:00|       N|           N|        N|\n",
      "|    max|                99|   9:30|       Y|           Y|        Y|\n",
      "+-------+------------------+-------+--------+------------+---------+\n",
      "\n"
     ]
    }
   ],
   "source": [
    "# Description of data\n",
    "df_1.describe().show(truncate=False, vertical=True)\n",
    "df_2.describe().show()"
   ]
  },
  {
   "cell_type": "code",
   "execution_count": 6,
   "id": "3e1adae3",
   "metadata": {},
   "outputs": [
    {
     "name": "stdout",
     "output_type": "stream",
     "text": [
      "root\n",
      " |-- PersonID: float (nullable = true)\n",
      " |-- Gender: string (nullable = true)\n",
      " |-- Age: float (nullable = true)\n",
      " |-- Occupation: string (nullable = true)\n",
      " |-- Sleep Duration: float (nullable = true)\n",
      " |-- Quality of Sleep: float (nullable = true)\n",
      " |-- Physical Activity Level: float (nullable = true)\n",
      " |-- Stress Level: float (nullable = true)\n",
      " |-- BMI Category: string (nullable = true)\n",
      " |-- Blood Pressure: string (nullable = true)\n",
      " |-- Heart Rate: float (nullable = true)\n",
      " |-- Daily Steps: float (nullable = true)\n",
      " |-- Sleep Disorder: string (nullable = true)\n",
      "\n"
     ]
    }
   ],
   "source": [
    "# Let's import in the relevant types.\n",
    "\n",
    "from pyspark.sql.types import (StructField,StringType,IntegerType,FloatType,StructType)\n",
    "\n",
    "# Correct structure for now\n",
    "data_schema = [StructField('PersonID',FloatType(),True),\n",
    "              StructField('Gender',StringType(),True),\n",
    "              StructField('Age',FloatType(),True),\n",
    "              StructField('Occupation',StringType(),True),\n",
    "              StructField('Sleep Duration',FloatType(),True),\n",
    "              StructField('Quality of Sleep',FloatType(),True),\n",
    "              StructField('Physical Activity Level',FloatType(),True),\n",
    "              StructField('Stress Level',FloatType(),True),\n",
    "              StructField('BMI Category',StringType(),True),\n",
    "              StructField('Blood Pressure',StringType(),True),\n",
    "              StructField('Heart Rate',FloatType(),True),\n",
    "              StructField('Daily Steps',FloatType(),True),\n",
    "              StructField('Sleep Disorder',StringType(),True),\n",
    "              ]\n",
    "\n",
    "final_struct = StructType(fields=data_schema)\n",
    "# Apply schema to df_1 with new variable types\n",
    "df_1 = spark.read.csv('Sleep_health_and_lifestyle_dataset.csv', schema=final_struct)\n",
    "\n",
    "df_1.printSchema()\n"
   ]
  },
  {
   "cell_type": "code",
   "execution_count": 7,
   "id": "d1babbb5",
   "metadata": {},
   "outputs": [
    {
     "name": "stdout",
     "output_type": "stream",
     "text": [
      "+-------+-----------------+\n",
      "|summary|              Age|\n",
      "+-------+-----------------+\n",
      "|  count|              374|\n",
      "|   mean|42.18449197860963|\n",
      "| stddev|8.673133465547242|\n",
      "|    min|             27.0|\n",
      "|    max|             59.0|\n",
      "+-------+-----------------+\n",
      "\n"
     ]
    }
   ],
   "source": [
    "# Only looking at age.show()\n",
    "df_1.select('Age').describe().show()\n"
   ]
  },
  {
   "cell_type": "code",
   "execution_count": 8,
   "id": "a052fdde",
   "metadata": {},
   "outputs": [
    {
     "name": "stdout",
     "output_type": "stream",
     "text": [
      "+-------+-----------------------+\n",
      "|summary|Physical Activity Level|\n",
      "+-------+-----------------------+\n",
      "|  count|                    374|\n",
      "|   mean|     47.094652406512736|\n",
      "| stddev|     25.761316745976746|\n",
      "|    min|                    0.3|\n",
      "|    max|                  210.0|\n",
      "+-------+-----------------------+\n",
      "\n",
      "+-------+------------------+\n",
      "|summary|       Daily Steps|\n",
      "+-------+------------------+\n",
      "|  count|               368|\n",
      "|   mean| 5839.942934782609|\n",
      "| stddev|1769.0999572833714|\n",
      "|    min|            2000.0|\n",
      "|    max|           14000.0|\n",
      "+-------+------------------+\n",
      "\n"
     ]
    }
   ],
   "source": [
    "# Looking at summary of Physical Activity Level and Daily Steps\n",
    "df_1.select('Physical Activity Level').describe().show()\n",
    "df_1.dropna(subset=['Daily Steps']).select('Daily Steps').describe().show()"
   ]
  },
  {
   "cell_type": "code",
   "execution_count": 9,
   "id": "25556023",
   "metadata": {},
   "outputs": [
    {
     "name": "stdout",
     "output_type": "stream",
     "text": [
      "68\n",
      "63\n"
     ]
    }
   ],
   "source": [
    "# Number of unique values\n",
    "print (df_1.select('Physical Activity Level').distinct().count())\n",
    "print (df_1.select('Daily Steps').distinct().count())"
   ]
  },
  {
   "cell_type": "code",
   "execution_count": 10,
   "id": "2fc40263",
   "metadata": {},
   "outputs": [
    {
     "name": "stdout",
     "output_type": "stream",
     "text": [
      "+--------------------+-----+\n",
      "|          Occupation|count|\n",
      "+--------------------+-----+\n",
      "|           Scientist|    4|\n",
      "|          Occupation|    1|\n",
      "|               Nurse|   73|\n",
      "|         Salesperson|   32|\n",
      "|              Lawyer|   47|\n",
      "|             Teacher|   40|\n",
      "|Sales Representative|    2|\n",
      "|              Doctor|   71|\n",
      "|            Engineer|   63|\n",
      "|          Accountant|   37|\n",
      "|             Manager|    1|\n",
      "|   Software Engineer|    4|\n",
      "+--------------------+-----+\n",
      "\n"
     ]
    }
   ],
   "source": [
    "# Count of values for each occupation\n",
    "df_1.groupBy('Occupation').count().show()"
   ]
  },
  {
   "cell_type": "code",
   "execution_count": 11,
   "id": "7689ba72",
   "metadata": {},
   "outputs": [
    {
     "name": "stdout",
     "output_type": "stream",
     "text": [
      "42\n"
     ]
    }
   ],
   "source": [
    "# Distinct values for Bedtime\n",
    "print (df_2.select('Bedtime').distinct().count())\n"
   ]
  },
  {
   "cell_type": "markdown",
   "id": "33b11d54",
   "metadata": {},
   "source": [
    "## 2.3 Data Exploration"
   ]
  },
  {
   "cell_type": "code",
   "execution_count": 12,
   "id": "dcfb8daf",
   "metadata": {},
   "outputs": [
    {
     "name": "stdout",
     "output_type": "stream",
     "text": [
      "+--------------+-----+\n",
      "|Sleep Disorder|count|\n",
      "+--------------+-----+\n",
      "|          None|  216|\n",
      "|   Sleep Apnea|   78|\n",
      "|      Insomnia|   80|\n",
      "|Sleep Disorder|    1|\n",
      "+--------------+-----+\n",
      "\n"
     ]
    },
    {
     "data": {
      "text/plain": [
       "Text(0, 0.5, 'Count')"
      ]
     },
     "execution_count": 12,
     "metadata": {},
     "output_type": "execute_result"
    },
    {
     "data": {
      "image/png": "[encoded data removed]",
      "text/plain": [
       "<Figure size 432x288 with 1 Axes>"
      ]
     },
     "metadata": {
      "needs_background": "light"
     },
     "output_type": "display_data"
    }
   ],
   "source": [
    "# Count of sleep disorder values\n",
    "sleep_disorder_dist = df_1.groupBy(\"Sleep Disorder\").agg(count(\"Sleep Disorder\").alias(\"count\"))\n",
    "sleep_disorder_dist.show()\n",
    "# Convert Spark df to a Pandas df\n",
    "sleep_disorder_dist_pd = sleep_disorder_dist.toPandas()\n",
    "# Create barplot\n",
    "sns.barplot(x=\"Sleep Disorder\", y=\"count\", data=sleep_disorder_dist_pd)\n",
    "\n",
    "# Add titles and labels\n",
    "plt.title(\"Count of Sleep Disorder Values\")\n",
    "plt.xlabel(\"Sleep Disorder\")\n",
    "plt.ylabel(\"Count\")\n"
   ]
  },
  {
   "cell_type": "code",
   "execution_count": 13,
   "id": "14d024c5",
   "metadata": {},
   "outputs": [
    {
     "name": "stdout",
     "output_type": "stream",
     "text": [
      "+-------------+-----+\n",
      "| BMI Category|count|\n",
      "+-------------+-----+\n",
      "|Normal Weight|   21|\n",
      "|   Overweight|  151|\n",
      "|        Obese|   10|\n",
      "| BMI Category|    1|\n",
      "|       Normal|  192|\n",
      "+-------------+-----+\n",
      "\n"
     ]
    },
    {
     "data": {
      "text/plain": [
       "Text(0, 0.5, 'Count')"
      ]
     },
     "execution_count": 13,
     "metadata": {},
     "output_type": "execute_result"
    },
    {
     "data": {
      "image/png": "[encoded data removed]",
      "text/plain": [
       "<Figure size 432x288 with 1 Axes>"
      ]
     },
     "metadata": {
      "needs_background": "light"
     },
     "output_type": "display_data"
    }
   ],
   "source": [
    "# Count of BMI values\n",
    "bmi_dist = df_1.groupBy(\"BMI Category\").agg(count(\"BMI Category\").alias(\"count\"))\n",
    "bmi_dist.show()\n",
    "# Convert Spark df to a Pandas df\n",
    "bmi_dist_pd = bmi_dist.toPandas()\n",
    "# Create barplot\n",
    "sns.barplot(x=\"BMI Category\", y=\"count\", data=bmi_dist_pd)\n",
    "\n",
    "# Add titles and labels\n",
    "plt.title(\"Count of BMI Values\")\n",
    "plt.xlabel(\"BMI\")\n",
    "plt.ylabel(\"Count\")"
   ]
  },
  {
   "cell_type": "code",
   "execution_count": 14,
   "id": "caddde06",
   "metadata": {},
   "outputs": [
    {
     "name": "stdout",
     "output_type": "stream",
     "text": [
      "+--------------------+-----+\n",
      "|          Occupation|count|\n",
      "+--------------------+-----+\n",
      "|           Scientist|    4|\n",
      "|          Occupation|    1|\n",
      "|               Nurse|   73|\n",
      "|         Salesperson|   32|\n",
      "|              Lawyer|   47|\n",
      "|             Teacher|   40|\n",
      "|Sales Representative|    2|\n",
      "|              Doctor|   71|\n",
      "|            Engineer|   63|\n",
      "|          Accountant|   37|\n",
      "|             Manager|    1|\n",
      "|   Software Engineer|    4|\n",
      "+--------------------+-----+\n",
      "\n",
      "+--------------------+-----+-------------------+\n",
      "|          Occupation|count|         percentage|\n",
      "+--------------------+-----+-------------------+\n",
      "|           Scientist|    4| 1.0666666666666667|\n",
      "|          Occupation|    1|0.26666666666666666|\n",
      "|               Nurse|   73| 19.466666666666665|\n",
      "|         Salesperson|   32|  8.533333333333333|\n",
      "|              Lawyer|   47| 12.533333333333333|\n",
      "|             Teacher|   40| 10.666666666666668|\n",
      "|Sales Representative|    2| 0.5333333333333333|\n",
      "|              Doctor|   71| 18.933333333333334|\n",
      "|            Engineer|   63|               16.8|\n",
      "|          Accountant|   37|  9.866666666666667|\n",
      "|             Manager|    1|0.26666666666666666|\n",
      "|   Software Engineer|    4| 1.0666666666666667|\n",
      "+--------------------+-----+-------------------+\n",
      "\n"
     ]
    },
    {
     "data": {
      "text/plain": [
       "(array([ 0,  1,  2,  3,  4,  5,  6,  7,  8,  9, 10, 11]),\n",
       " [Text(0, 0, 'Scientist'),\n",
       "  Text(1, 0, 'Occupation'),\n",
       "  Text(2, 0, 'Nurse'),\n",
       "  Text(3, 0, 'Salesperson'),\n",
       "  Text(4, 0, 'Lawyer'),\n",
       "  Text(5, 0, 'Teacher'),\n",
       "  Text(6, 0, 'Sales Representative'),\n",
       "  Text(7, 0, 'Doctor'),\n",
       "  Text(8, 0, 'Engineer'),\n",
       "  Text(9, 0, 'Accountant'),\n",
       "  Text(10, 0, 'Manager'),\n",
       "  Text(11, 0, 'Software Engineer')])"
      ]
     },
     "execution_count": 14,
     "metadata": {},
     "output_type": "execute_result"
    },
    {
     "data": {
      "image/png": "[encoded data removed]",
      "text/plain": [
       "<Figure size 432x288 with 1 Axes>"
      ]
     },
     "metadata": {
      "needs_background": "light"
     },
     "output_type": "display_data"
    }
   ],
   "source": [
    "# Count of Occupation values\n",
    "occ_dist = df_1.groupBy(\"Occupation\").agg(count(\"Occupation\").alias(\"count\"))\n",
    "occ_dist.show()\n",
    "# Convert to percentage\n",
    "occ_perc_dist = occ_dist.withColumn('percentage', (col('count') / df_1.count()) * 100)\n",
    "occ_perc_dist.show()\n",
    "\n",
    "# Convert Spark df to a Pandas df\n",
    "occ_dist_pd = occ_dist.toPandas()\n",
    "# Create barplot\n",
    "sns.barplot(x=\"Occupation\", y=\"count\", data=occ_dist_pd)\n",
    "\n",
    "# Add titles and labels\n",
    "plt.title(\"Count of Occupation Values\")\n",
    "plt.xlabel(\"Occupation\")\n",
    "plt.ylabel(\"Count\")\n",
    "# Rotate them to vertical to make space for value labels\n",
    "plt.xticks(rotation=90)"
   ]
  },
  {
   "cell_type": "code",
   "execution_count": 15,
   "id": "3114a569",
   "metadata": {},
   "outputs": [
    {
     "name": "stdout",
     "output_type": "stream",
     "text": [
      "+--------------------+---------------------+\n",
      "|          Occupation|Mean Quality of Sleep|\n",
      "+--------------------+---------------------+\n",
      "|           Scientist|                 2.75|\n",
      "|          Occupation|                 null|\n",
      "|               Nurse|     5.86986301369863|\n",
      "|         Salesperson|              5.46875|\n",
      "|              Lawyer|    6.382978723404255|\n",
      "|             Teacher|               6.2125|\n",
      "|Sales Representative|                  2.0|\n",
      "|              Doctor|    6.112676056338028|\n",
      "|            Engineer|    7.158730158730159|\n",
      "|          Accountant|    7.202702702702703|\n",
      "|             Manager|                  7.0|\n",
      "|   Software Engineer|                5.625|\n",
      "+--------------------+---------------------+\n",
      "\n"
     ]
    },
    {
     "data": {
      "text/plain": [
       "(array([ 0,  1,  2,  3,  4,  5,  6,  7,  8,  9, 10, 11]),\n",
       " [Text(0, 0, 'Scientist'),\n",
       "  Text(1, 0, 'Occupation'),\n",
       "  Text(2, 0, 'Nurse'),\n",
       "  Text(3, 0, 'Salesperson'),\n",
       "  Text(4, 0, 'Lawyer'),\n",
       "  Text(5, 0, 'Teacher'),\n",
       "  Text(6, 0, 'Sales Representative'),\n",
       "  Text(7, 0, 'Doctor'),\n",
       "  Text(8, 0, 'Engineer'),\n",
       "  Text(9, 0, 'Accountant'),\n",
       "  Text(10, 0, 'Manager'),\n",
       "  Text(11, 0, 'Software Engineer')])"
      ]
     },
     "execution_count": 15,
     "metadata": {},
     "output_type": "execute_result"
    },
    {
     "data": {
      "image/png": "[encoded data removed]",
      "text/plain": [
       "<Figure size 432x288 with 1 Axes>"
      ]
     },
     "metadata": {
      "needs_background": "light"
     },
     "output_type": "display_data"
    }
   ],
   "source": [
    "# Group by occupation and plot against mean of Quality of Sleep\n",
    "occ_mean = df_1.groupBy(\"Occupation\").agg(mean(\"Quality of Sleep\").alias(\"Mean Quality of Sleep\"))\n",
    "occ_mean.show()\n",
    "\n",
    "# Convert Spark df to a Pandas df\n",
    "occ_mean_pd = occ_mean.toPandas()\n",
    "# Create barplot\n",
    "sns.barplot(x=\"Occupation\", y=\"Mean Quality of Sleep\", data=occ_mean_pd)\n",
    "\n",
    "# Add titles and labels\n",
    "plt.title(\"Mean Quality of Sleep for each Occupation\")\n",
    "plt.xlabel(\"Occupation\")\n",
    "plt.ylabel(\"Mean Quality of Sleep\")\n",
    "# Rotate them to vertical to make space for value labels\n",
    "plt.xticks(rotation=90)"
   ]
  },
  {
   "cell_type": "code",
   "execution_count": 16,
   "id": "52161871",
   "metadata": {},
   "outputs": [
    {
     "name": "stdout",
     "output_type": "stream",
     "text": [
      "+-------------------------------+-----+\n",
      "|Rounded Physical Activity Level|count|\n",
      "+-------------------------------+-----+\n",
      "|                          160.0|    1|\n",
      "|                           70.0|   18|\n",
      "|                            0.0|    3|\n",
      "|                           null|    0|\n",
      "|                           80.0|   22|\n",
      "|                          120.0|    5|\n",
      "|                          210.0|    1|\n",
      "|                           50.0|   43|\n",
      "|                          130.0|    1|\n",
      "|                           60.0|   65|\n",
      "|                           10.0|    2|\n",
      "|                           40.0|   46|\n",
      "|                           30.0|  100|\n",
      "|                          100.0|    1|\n",
      "|                           20.0|   42|\n",
      "|                          150.0|    1|\n",
      "|                           90.0|   22|\n",
      "|                          110.0|    1|\n",
      "+-------------------------------+-----+\n",
      "\n"
     ]
    },
    {
     "data": {
      "text/plain": [
       "(array([ 0,  1,  2,  3,  4,  5,  6,  7,  8,  9, 10, 11, 12, 13, 14, 15, 16]),\n",
       " [Text(0, 0, '0.0'),\n",
       "  Text(1, 0, '10.0'),\n",
       "  Text(2, 0, '20.0'),\n",
       "  Text(3, 0, '30.0'),\n",
       "  Text(4, 0, '40.0'),\n",
       "  Text(5, 0, '50.0'),\n",
       "  Text(6, 0, '60.0'),\n",
       "  Text(7, 0, '70.0'),\n",
       "  Text(8, 0, '80.0'),\n",
       "  Text(9, 0, '90.0'),\n",
       "  Text(10, 0, '100.0'),\n",
       "  Text(11, 0, '110.0'),\n",
       "  Text(12, 0, '120.0'),\n",
       "  Text(13, 0, '130.0'),\n",
       "  Text(14, 0, '150.0'),\n",
       "  Text(15, 0, '160.0'),\n",
       "  Text(16, 0, '210.0')])"
      ]
     },
     "execution_count": 16,
     "metadata": {},
     "output_type": "execute_result"
    },
    {
     "data": {
      "image/png": "[encoded data removed]",
      "text/plain": [
       "<Figure size 432x288 with 1 Axes>"
      ]
     },
     "metadata": {
      "needs_background": "light"
     },
     "output_type": "display_data"
    }
   ],
   "source": [
    "# Round of Physical Activity Level to allow column labels to be seen as there are too many distinct values\n",
    "rounded_pal = df_1.withColumn('Rounded Physical Activity Level', round(df_1['Physical Activity Level'] / 10) * 10)\n",
    "# Group by 'Rounded Physical Activity Level' and count\n",
    "rounded_pal_dist = rounded_pal.groupBy('Rounded Physical Activity Level').agg(count('Rounded Physical Activity Level').alias('count'))\n",
    "rounded_pal_dist.show()\n",
    "\n",
    "# Convert Spark df to a Pandas df\n",
    "rounded_pal_pd = rounded_pal_dist.toPandas()\n",
    "# Create barplot\n",
    "sns.barplot(x=\"Rounded Physical Activity Level\", y=\"count\", data=rounded_pal_pd)\n",
    "\n",
    "# Add titles and labels\n",
    "plt.title(\"Count for Rounded Physical Activity Level values\")\n",
    "plt.xlabel(\"Rounded Physical Activity Level values\")\n",
    "plt.ylabel(\"Count\")\n",
    "# Rotate them to vertical to make space for value labels\n",
    "plt.xticks(rotation=90)"
   ]
  },
  {
   "cell_type": "code",
   "execution_count": 17,
   "id": "03f9b471",
   "metadata": {},
   "outputs": [
    {
     "data": {
      "text/plain": [
       "<AxesSubplot:xlabel='Physical Activity Level', ylabel='Density'>"
      ]
     },
     "execution_count": 17,
     "metadata": {},
     "output_type": "execute_result"
    },
    {
     "data": {
      "image/png": "[encoded data removed]",
      "text/plain": [
       "<Figure size 432x288 with 1 Axes>"
      ]
     },
     "metadata": {
      "needs_background": "light"
     },
     "output_type": "display_data"
    }
   ],
   "source": [
    "# Select Physical Activity Level and convert to pandas to plot\n",
    "pal_df = df_1.select('Physical Activity Level').toPandas()\n",
    "sns.kdeplot(data=pal_df, x='Physical Activity Level')\n"
   ]
  },
  {
   "cell_type": "code",
   "execution_count": 18,
   "id": "4586aeae",
   "metadata": {},
   "outputs": [
    {
     "data": {
      "text/plain": [
       "Text(16.299999999999997, 0.5, 'Quality of Sleep')"
      ]
     },
     "execution_count": 18,
     "metadata": {},
     "output_type": "execute_result"
    },
    {
     "data": {
      "image/png": "[encoded data removed]",
      "text/plain": [
       "<Figure size 360x360 with 1 Axes>"
      ]
     },
     "metadata": {
      "needs_background": "light"
     },
     "output_type": "display_data"
    }
   ],
   "source": [
    "qol_pal_df = df_1.select('Quality of Sleep', 'Physical Activity Level').toPandas()\n",
    "# Create barplot\n",
    "sns.relplot(x=\"Physical Activity Level\", y=\"Quality of Sleep\", data=qol_pal_df, kind=\"line\")\n",
    "\n",
    "# Add titles and labels\n",
    "plt.title(\"Physical Activity Level against Quality of Sleep\")\n",
    "plt.xlabel(\"Physical Activity Level\")\n",
    "plt.ylabel(\"Quality of Sleep\")\n"
   ]
  },
  {
   "cell_type": "code",
   "execution_count": 19,
   "id": "f8286b2e",
   "metadata": {},
   "outputs": [
    {
     "data": {
      "text/plain": [
       "-0.3313537991242806"
      ]
     },
     "execution_count": 19,
     "metadata": {},
     "output_type": "execute_result"
    },
    {
     "data": {
      "image/png": "[encoded data removed]",
      "text/plain": [
       "<Figure size 360x360 with 1 Axes>"
      ]
     },
     "metadata": {
      "needs_background": "light"
     },
     "output_type": "display_data"
    }
   ],
   "source": [
    "# Selecting the features for analysis\n",
    "qol_stress_df = df_1.select('Quality of Sleep', 'Stress Level').toPandas()\n",
    "# Create barplot\n",
    "sns.relplot(x=\"Stress Level\", y=\"Quality of Sleep\", data=qol_stress_df, kind=\"line\")\n",
    "\n",
    "# Add titles and labels\n",
    "plt.title(\"Stress Level against Quality of Sleep\")\n",
    "plt.xlabel(\"Stress Level\")\n",
    "plt.ylabel(\"Quality of Sleep\")\n",
    "\n",
    "# Finding the correlation\n",
    "df_1.corr('Quality of Sleep', 'Stress Level')"
   ]
  },
  {
   "cell_type": "code",
   "execution_count": 20,
   "id": "e3faf44a",
   "metadata": {},
   "outputs": [
    {
     "name": "stdout",
     "output_type": "stream",
     "text": [
      "+------------+-----+\n",
      "|Stress Level|count|\n",
      "+------------+-----+\n",
      "|         9.0|    7|\n",
      "|         5.0|   68|\n",
      "|        null|    0|\n",
      "|         7.0|   75|\n",
      "|         2.0|    9|\n",
      "|         3.0|   32|\n",
      "|         6.0|   56|\n",
      "|         8.0|   65|\n",
      "|         4.0|   62|\n",
      "+------------+-----+\n",
      "\n"
     ]
    },
    {
     "data": {
      "text/plain": [
       "(array([0, 1, 2, 3, 4, 5, 6, 7]),\n",
       " [Text(0, 0, '2.0'),\n",
       "  Text(1, 0, '3.0'),\n",
       "  Text(2, 0, '4.0'),\n",
       "  Text(3, 0, '5.0'),\n",
       "  Text(4, 0, '6.0'),\n",
       "  Text(5, 0, '7.0'),\n",
       "  Text(6, 0, '8.0'),\n",
       "  Text(7, 0, '9.0')])"
      ]
     },
     "execution_count": 20,
     "metadata": {},
     "output_type": "execute_result"
    },
    {
     "data": {
      "image/png": "[encoded data removed]",
      "text/plain": [
       "<Figure size 432x288 with 1 Axes>"
      ]
     },
     "metadata": {
      "needs_background": "light"
     },
     "output_type": "display_data"
    }
   ],
   "source": [
    "# Looking at distribution of stress level\n",
    "stress_dist = df_1.groupBy(\"Stress Level\").agg(count(\"Stress Level\").alias(\"count\"))\n",
    "stress_dist.show()\n",
    "\n",
    "# Convert Spark df to a Pandas df\n",
    "stress_dist_pd = stress_dist.toPandas()\n",
    "# Create barplot\n",
    "sns.barplot(x=\"Stress Level\", y=\"count\", data=stress_dist_pd)\n",
    "\n",
    "# Add titles and labels\n",
    "plt.title(\"Count of Stress Level Values\")\n",
    "plt.xlabel(\"Stress Level\")\n",
    "plt.ylabel(\"Count\")\n",
    "# Rotate them to vertical to make space for value labels\n",
    "plt.xticks(rotation=90)"
   ]
  },
  {
   "cell_type": "code",
   "execution_count": 21,
   "id": "fc42d2e9",
   "metadata": {},
   "outputs": [
    {
     "name": "stdout",
     "output_type": "stream",
     "text": [
      "+--------------------+---------------------+\n",
      "|          Occupation|Mean Quality of Sleep|\n",
      "+--------------------+---------------------+\n",
      "|           Scientist|                 2.75|\n",
      "|          Occupation|                 null|\n",
      "|               Nurse|     5.86986301369863|\n",
      "|         Salesperson|              5.46875|\n",
      "|              Lawyer|    6.382978723404255|\n",
      "|             Teacher|               6.2125|\n",
      "|Sales Representative|                  2.0|\n",
      "|              Doctor|    6.112676056338028|\n",
      "|            Engineer|    7.158730158730159|\n",
      "|          Accountant|    7.202702702702703|\n",
      "|             Manager|                  7.0|\n",
      "|   Software Engineer|                5.625|\n",
      "+--------------------+---------------------+\n",
      "\n"
     ]
    },
    {
     "data": {
      "image/png": "[encoded data removed]",
      "text/plain": [
       "<Figure size 432x288 with 1 Axes>"
      ]
     },
     "metadata": {
      "needs_background": "light"
     },
     "output_type": "display_data"
    }
   ],
   "source": [
    "# Box plot of Quality of Sleep for each occupation\n",
    "sns.boxplot(x='Occupation', y='Quality of Sleep', data=df_1.toPandas())\n",
    "# Add titles and labels\n",
    "plt.title('Quality of Sleep Distribution by Occupation')\n",
    "plt.xlabel('Occupation')\n",
    "plt.ylabel('Quality of Sleep')\n",
    "# Rotate them to vertical to make space for value labels\n",
    "plt.xticks(rotation=90)\n",
    "\n",
    "# Mean for each occupation\n",
    "df_1.groupBy('Occupation').agg(mean('Quality of Sleep').alias('Mean Quality of Sleep')).show()\n"
   ]
  },
  {
   "cell_type": "code",
   "execution_count": 22,
   "id": "6691455b",
   "metadata": {},
   "outputs": [
    {
     "data": {
      "text/plain": [
       "(array([0, 1, 2, 3, 4]),\n",
       " [Text(0, 0, 'BMI Category'),\n",
       "  Text(1, 0, 'Overweight'),\n",
       "  Text(2, 0, 'Normal'),\n",
       "  Text(3, 0, 'Obese'),\n",
       "  Text(4, 0, 'Normal Weight')])"
      ]
     },
     "execution_count": 22,
     "metadata": {},
     "output_type": "execute_result"
    },
    {
     "data": {
      "image/png": "[encoded data removed]",
      "text/plain": [
       "<Figure size 432x288 with 1 Axes>"
      ]
     },
     "metadata": {
      "needs_background": "light"
     },
     "output_type": "display_data"
    }
   ],
   "source": [
    "# Violin plot of Quality of Sleep for each BMI\n",
    "sns.violinplot(x='BMI Category', y='Quality of Sleep', data=df_1.toPandas())\n",
    "# Rotate them to vertical to make space for value labels\n",
    "plt.xticks(rotation=90)"
   ]
  },
  {
   "cell_type": "code",
   "execution_count": 23,
   "id": "5f496ab0",
   "metadata": {},
   "outputs": [
    {
     "name": "stdout",
     "output_type": "stream",
     "text": [
      "42\n",
      "+-------+-----+\n",
      "|Bedtime|count|\n",
      "+-------+-----+\n",
      "|   0:40|    4|\n",
      "|   2:40|    1|\n",
      "|   1:50|    2|\n",
      "|   3:10|    1|\n",
      "|   1:45|    2|\n",
      "|   2:50|    1|\n",
      "|  21:45|    1|\n",
      "|   2:45|    1|\n",
      "|  22:15|    1|\n",
      "|  21:00|    4|\n",
      "|   0:20|    2|\n",
      "|   1:20|    4|\n",
      "|  11:30|    2|\n",
      "|  22:40|    3|\n",
      "|   4:30|    1|\n",
      "|   2:00|   17|\n",
      "|  23:50|    5|\n",
      "|   1:10|    2|\n",
      "|  23:30|   42|\n",
      "|  22:20|    1|\n",
      "+-------+-----+\n",
      "only showing top 20 rows\n",
      "\n"
     ]
    },
    {
     "data": {
      "text/plain": [
       "(array([ 0,  1,  2,  3,  4,  5,  6,  7,  8,  9, 10, 11, 12, 13, 14, 15, 16,\n",
       "        17, 18, 19, 20, 21, 22, 23, 24, 25, 26, 27, 28, 29, 30, 31, 32, 33,\n",
       "        34, 35, 36, 37, 38, 39, 40, 41]),\n",
       " [Text(0, 0, '0:40'),\n",
       "  Text(1, 0, '2:40'),\n",
       "  Text(2, 0, '1:50'),\n",
       "  Text(3, 0, '3:10'),\n",
       "  Text(4, 0, '1:45'),\n",
       "  Text(5, 0, '2:50'),\n",
       "  Text(6, 0, '21:45'),\n",
       "  Text(7, 0, '2:45'),\n",
       "  Text(8, 0, '22:15'),\n",
       "  Text(9, 0, '21:00'),\n",
       "  Text(10, 0, '0:20'),\n",
       "  Text(11, 0, '1:20'),\n",
       "  Text(12, 0, '11:30'),\n",
       "  Text(13, 0, '22:40'),\n",
       "  Text(14, 0, '4:30'),\n",
       "  Text(15, 0, '2:00'),\n",
       "  Text(16, 0, '23:50'),\n",
       "  Text(17, 0, '1:10'),\n",
       "  Text(18, 0, '23:30'),\n",
       "  Text(19, 0, '22:20'),\n",
       "  Text(20, 0, '21:30'),\n",
       "  Text(21, 0, '0:50'),\n",
       "  Text(22, 0, '2:20'),\n",
       "  Text(23, 0, '1:15'),\n",
       "  Text(24, 0, '23:10'),\n",
       "  Text(25, 0, '23:20'),\n",
       "  Text(26, 0, '3:00'),\n",
       "  Text(27, 0, '22:00'),\n",
       "  Text(28, 0, '1:40'),\n",
       "  Text(29, 0, '23:15'),\n",
       "  Text(30, 0, '2:15'),\n",
       "  Text(31, 0, '22:30'),\n",
       "  Text(32, 0, '1:30'),\n",
       "  Text(33, 0, '23:40'),\n",
       "  Text(34, 0, '22:50'),\n",
       "  Text(35, 0, '1:00'),\n",
       "  Text(36, 0, '23:00'),\n",
       "  Text(37, 0, '0:30'),\n",
       "  Text(38, 0, '3:30'),\n",
       "  Text(39, 0, '2:30'),\n",
       "  Text(40, 0, '9:30'),\n",
       "  Text(41, 0, '0:00')])"
      ]
     },
     "execution_count": 23,
     "metadata": {},
     "output_type": "execute_result"
    },
    {
     "data": {
      "image/png": "[encoded data removed]",
      "text/plain": [
       "<Figure size 432x288 with 1 Axes>"
      ]
     },
     "metadata": {
      "needs_background": "light"
     },
     "output_type": "display_data"
    }
   ],
   "source": [
    "# Looking at distribution of bedtime\n",
    "bt_dist = df_2.groupBy(\"Bedtime\").agg(count(\"Bedtime\").alias(\"count\"))\n",
    "# Number of unique values\n",
    "print(bt_dist.count())\n",
    "bt_dist.show()\n",
    "\n",
    "# Convert Spark df to a Pandas df\n",
    "bt_dist_pd = bt_dist.toPandas()\n",
    "# Create barplot\n",
    "sns.barplot(x=\"Bedtime\", y=\"count\", data=bt_dist_pd)\n",
    "\n",
    "# Add titles and labels\n",
    "plt.title(\"Count of Bedtime Values\")\n",
    "plt.xlabel(\"Bedtime\")\n",
    "plt.ylabel(\"Count\")\n",
    "# Rotate them to vertical to make space for value labels\n",
    "plt.xticks(rotation=90)"
   ]
  },
  {
   "cell_type": "markdown",
   "id": "f50b386b",
   "metadata": {},
   "source": [
    "## 2.4 Verifying Data Quality "
   ]
  },
  {
   "cell_type": "code",
   "execution_count": 24,
   "id": "80c996d7",
   "metadata": {},
   "outputs": [
    {
     "name": "stdout",
     "output_type": "stream",
     "text": [
      "-RECORD 0----------------------\n",
      " PersonID                | 0   \n",
      " Gender                  | 0   \n",
      " Age                     | 0   \n",
      " Occupation              | 0   \n",
      " Sleep Duration          | 0   \n",
      " Quality of Sleep        | 0   \n",
      " Physical Activity Level | 0   \n",
      " Stress Level            | 0   \n",
      " BMI Category            | 0   \n",
      " Blood Pressure          | 0   \n",
      " Heart Rate              | 0   \n",
      " Daily Steps             | 6   \n",
      " Sleep Disorder          | 0   \n",
      "\n",
      "-RECORD 0-----------\n",
      " Person ID    | 0   \n",
      " Bedtime      | 0   \n",
      " PhoneUse     | 0   \n",
      " WearsGlasses | 0   \n",
      " Religious    | 0   \n",
      "\n"
     ]
    }
   ],
   "source": [
    "# Check for null values in each column\n",
    "df_1.select([count(when(isnan(c), c)).alias(c) for c in df_1.columns]).show(truncate=False, vertical=True)\n",
    "df_2.select([count(when(isnan(c), c)).alias(c) for c in df_2.columns]).show(truncate=False, vertical=True)\n"
   ]
  },
  {
   "cell_type": "code",
   "execution_count": 25,
   "id": "d2db96b5",
   "metadata": {},
   "outputs": [
    {
     "name": "stdout",
     "output_type": "stream",
     "text": [
      "+------+-----+\n",
      "|Gender|count|\n",
      "+------+-----+\n",
      "|     F|    2|\n",
      "|Female|  183|\n",
      "|     M|    3|\n",
      "|  Male|  186|\n",
      "|Gender|    1|\n",
      "+------+-----+\n",
      "\n"
     ]
    },
    {
     "data": {
      "text/plain": [
       "Text(0, 0.5, 'Count')"
      ]
     },
     "execution_count": 25,
     "metadata": {},
     "output_type": "execute_result"
    },
    {
     "data": {
      "image/png": "[encoded data removed]",
      "text/plain": [
       "<Figure size 432x288 with 1 Axes>"
      ]
     },
     "metadata": {
      "needs_background": "light"
     },
     "output_type": "display_data"
    }
   ],
   "source": [
    "# Looking at distribution of genders\n",
    "gender_dist = df_1.groupBy(\"Gender\").agg(count(\"Gender\").alias(\"count\"))\n",
    "gender_dist.show()\n",
    "\n",
    "# Convert Spark df to a Pandas df\n",
    "gender_dist_pd = gender_dist.toPandas()\n",
    "# Create barplot\n",
    "sns.barplot(x=\"Gender\", y=\"count\", data=gender_dist_pd)\n",
    "\n",
    "# Add titles and labels\n",
    "plt.title(\"Count of Gender Values\")\n",
    "plt.xlabel(\"Gender\")\n",
    "plt.ylabel(\"Count\")\n"
   ]
  },
  {
   "cell_type": "code",
   "execution_count": 26,
   "id": "bca06052",
   "metadata": {},
   "outputs": [
    {
     "name": "stdout",
     "output_type": "stream",
     "text": [
      "+--------+------+----+-----------------+--------------+----------------+-----------------------+------------+------------+--------------+----------+-----------+--------------+\n",
      "|PersonID|Gender| Age|       Occupation|Sleep Duration|Quality of Sleep|Physical Activity Level|Stress Level|BMI Category|Blood Pressure|Heart Rate|Daily Steps|Sleep Disorder|\n",
      "+--------+------+----+-----------------+--------------+----------------+-----------------------+------------+------------+--------------+----------+-----------+--------------+\n",
      "|     1.0|  Male|27.0|Software Engineer|           6.1|             3.5|                   42.0|         6.0|  Overweight|        126/83|      77.0|     5200.0|          None|\n",
      "|    91.0|  Male|35.0|         Engineer|           7.3|             7.5|                   60.0|         4.0|      Normal|        125/80|      65.0|     5000.0|          None|\n",
      "|   134.0|Female|38.0|       Accountant|           7.1|             7.5|                   60.0|         4.0|      Normal|        115/75|      68.0|     4700.0|          None|\n",
      "|   212.0|  Male|43.0|         Engineer|           8.0|             6.5|                  105.0|         3.0|      Normal|        130/85|      70.0|     8000.0|          None|\n",
      "|   235.0|Female|44.0|          Teacher|           6.6|             6.5|                   35.0|         4.0|  Overweight|        135/90|      65.0|     5200.0|      Insomnia|\n",
      "|   268.0|Female|49.0|            Nurse|           6.2|             3.5|                   40.0|         6.0|  Overweight|        140/95|      75.0|     6500.0|          None|\n",
      "|   296.0|Female|50.0|            Nurse|           6.0|             2.5|                   21.0|         8.0|  Overweight|        140/95|      75.0|     2000.0|   Sleep Apnea|\n",
      "|   371.0|Female|59.0|            Nurse|           8.0|             7.5|                   15.0|         6.0|  Overweight|        140/95|      68.0|     4900.0|   Sleep Apnea|\n",
      "+--------+------+----+-----------------+--------------+----------------+-----------------------+------------+------------+--------------+----------+-----------+--------------+\n",
      "\n"
     ]
    }
   ],
   "source": [
    "# Get values with decimal points (not .0) in Quality of Sleep\n",
    "df_1.filter(col('Quality of Sleep') % 1 != 0).show()"
   ]
  },
  {
   "cell_type": "code",
   "execution_count": 27,
   "id": "d0773ddc",
   "metadata": {},
   "outputs": [
    {
     "name": "stdout",
     "output_type": "stream",
     "text": [
      "+----------+-----+\n",
      "|Heart Rate|count|\n",
      "+----------+-----+\n",
      "|      82.0|    1|\n",
      "|      86.0|    2|\n",
      "|      null|    0|\n",
      "|      67.0|    2|\n",
      "|      70.0|   75|\n",
      "|      72.0|   69|\n",
      "|      65.0|   67|\n",
      "|      85.0|    3|\n",
      "|      68.0|   94|\n",
      "|      77.0|    2|\n",
      "|      83.0|    2|\n",
      "|      78.0|    5|\n",
      "|      80.0|    3|\n",
      "|      76.0|    2|\n",
      "|      88.0|    1|\n",
      "|      69.0|    2|\n",
      "|      45.0|    1|\n",
      "|      81.0|    2|\n",
      "|      84.0|    1|\n",
      "|      73.0|    2|\n",
      "+----------+-----+\n",
      "only showing top 20 rows\n",
      "\n"
     ]
    },
    {
     "data": {
      "text/plain": [
       "(array([ 0,  1,  2,  3,  4,  5,  6,  7,  8,  9, 10, 11, 12, 13, 14, 15, 16,\n",
       "        17, 18, 19, 20]),\n",
       " [Text(0, 0, '45.0'),\n",
       "  Text(1, 0, '65.0'),\n",
       "  Text(2, 0, '67.0'),\n",
       "  Text(3, 0, '68.0'),\n",
       "  Text(4, 0, '69.0'),\n",
       "  Text(5, 0, '70.0'),\n",
       "  Text(6, 0, '72.0'),\n",
       "  Text(7, 0, '73.0'),\n",
       "  Text(8, 0, '74.0'),\n",
       "  Text(9, 0, '75.0'),\n",
       "  Text(10, 0, '76.0'),\n",
       "  Text(11, 0, '77.0'),\n",
       "  Text(12, 0, '78.0'),\n",
       "  Text(13, 0, '80.0'),\n",
       "  Text(14, 0, '81.0'),\n",
       "  Text(15, 0, '82.0'),\n",
       "  Text(16, 0, '83.0'),\n",
       "  Text(17, 0, '84.0'),\n",
       "  Text(18, 0, '85.0'),\n",
       "  Text(19, 0, '86.0'),\n",
       "  Text(20, 0, '88.0')])"
      ]
     },
     "execution_count": 27,
     "metadata": {},
     "output_type": "execute_result"
    },
    {
     "data": {
      "image/png": "[encoded data removed]",
      "text/plain": [
       "<Figure size 432x288 with 1 Axes>"
      ]
     },
     "metadata": {
      "needs_background": "light"
     },
     "output_type": "display_data"
    }
   ],
   "source": [
    "# Looking at distribution of heart rate\n",
    "heart_rate_dist = df_1.groupBy(\"Heart Rate\").agg(count(\"Heart Rate\").alias(\"count\"))\n",
    "heart_rate_dist.show()\n",
    "\n",
    "# Convert Spark df to a Pandas df\n",
    "heart_rate_dist_pd = heart_rate_dist.toPandas()\n",
    "# Create barplot\n",
    "sns.barplot(x=\"Heart Rate\", y=\"count\", data=heart_rate_dist_pd)\n",
    "\n",
    "# Add titles and labels\n",
    "plt.title(\"Count of Heart Rate\")\n",
    "plt.xlabel(\"Heart Rate\")\n",
    "plt.ylabel(\"Count\")\n",
    "# Rotate them to vertical to make space for value labels\n",
    "plt.xticks(rotation=90)"
   ]
  },
  {
   "cell_type": "code",
   "execution_count": 28,
   "id": "74aa6901",
   "metadata": {},
   "outputs": [
    {
     "name": "stdout",
     "output_type": "stream",
     "text": [
      "+--------+------+----+--------------------+--------------+----------------+-----------------------+------------+------------+--------------+----------+-----------+--------------+------------------+\n",
      "|PersonID|Gender| Age|          Occupation|Sleep Duration|Quality of Sleep|Physical Activity Level|Stress Level|BMI Category|Blood Pressure|Heart Rate|Daily Steps|Sleep Disorder|           z_score|\n",
      "+--------+------+----+--------------------+--------------+----------------+-----------------------+------------+------------+--------------+----------+-----------+--------------+------------------+\n",
      "|     4.0|  Male|28.0|Sales Representative|           5.9|             2.0|                   33.0|         8.0|       Obese|        140/90|      85.0|     2500.0|   Sleep Apnea|3.4037400672480294|\n",
      "|     5.0|  Male|28.0|Sales Representative|           5.9|             2.0|                   31.0|         6.0|       Obese|        140/90|      85.0|     3000.0|   Sleep Apnea|3.4037400672480294|\n",
      "|     6.0|  Male|28.0|   Software Engineer|           5.9|             3.0|                   30.0|         5.0|       Obese|        140/90|      85.0|     2800.0|      Insomnia|3.4037400672480294|\n",
      "|    12.0|  Male|29.0|              Doctor|           4.3|             2.0|                   72.0|         9.0|  Overweight|        120/80|      88.0|     6000.0|      Insomnia|  4.08949987250073|\n",
      "|    94.0|  Male|35.0|              Lawyer|           5.4|             4.0|                   60.0|         8.0|       Obese|        135/88|      84.0|     3300.0|   Sleep Apnea|3.1751534654971296|\n",
      "|   146.0|Female|38.0|              Lawyer|           4.9|             2.0|                   25.0|         8.0|       Obese|        135/88|      45.0|     3300.0|   Sleep Apnea| 5.739724002787977|\n",
      "|   277.0|  Male|49.0|              Doctor|           6.1|             5.0|                   15.0|         9.0|       Obese|        139/91|      86.0|     2000.0|   Sleep Apnea|3.6323266689989295|\n",
      "|   278.0|     M|49.0|              Doctor|           6.4|             6.0|                   25.0|         6.0|       Obese|        139/91|      86.0|     3700.0|   Sleep Apnea|3.6323266689989295|\n",
      "+--------+------+----+--------------------+--------------+----------------+-----------------------+------------+------------+--------------+----------+-----------+--------------+------------------+\n",
      "\n"
     ]
    }
   ],
   "source": [
    "# Calculate mean and standard deviation of Heart Rate\n",
    "mean_hr = df_1.select(mean(col(\"Heart Rate\")).alias(\"mean_hr\")).collect()[0][\"mean_hr\"]\n",
    "sd_hr = df_1.select(stddev(col(\"Heart Rate\")).alias(\"sd_hr\")).collect()[0][\"sd_hr\"]\n",
    "\n",
    "# Calculate z-score for Heart Rate\n",
    "df_with_z_score = df_1.withColumn(\"z_score\", abs((col(\"Heart Rate\") - mean_hr) / sd_hr))\n",
    "\n",
    "# Identify outliers as Heart Rate with a z-score greater than 3\n",
    "z_threshold = 3\n",
    "outliers = df_with_z_score.filter(col(\"z_score\") > z_threshold)\n",
    "outliers.show()"
   ]
  },
  {
   "cell_type": "markdown",
   "id": "2a198518",
   "metadata": {},
   "source": [
    "## 3.2 Cleaning Data"
   ]
  },
  {
   "cell_type": "code",
   "execution_count": 29,
   "id": "425b4756",
   "metadata": {},
   "outputs": [
    {
     "name": "stdout",
     "output_type": "stream",
     "text": [
      "+--------+------+----+----------+--------------+----------------+-----------------------+------------+------------+--------------+----------+-----------+--------------+\n",
      "|PersonID|Gender| Age|Occupation|Sleep Duration|Quality of Sleep|Physical Activity Level|Stress Level|BMI Category|Blood Pressure|Heart Rate|Daily Steps|Sleep Disorder|\n",
      "+--------+------+----+----------+--------------+----------------+-----------------------+------------+------------+--------------+----------+-----------+--------------+\n",
      "|    21.0|  Male|30.0|    Doctor|           5.9|             7.0|                   60.0|         7.0|      Normal|        120/80|      70.0|        NaN|          None|\n",
      "|    59.0|  Male|32.0|    Doctor|           6.0|             6.0|                   30.0|         8.0|      Normal|        125/80|      72.0|        NaN|          None|\n",
      "|    64.0|  Male|32.0|    Doctor|           6.6|             6.0|                   55.0|         8.0|      Normal|        125/80|      72.0|        NaN|          None|\n",
      "|   116.0|Female|37.0|Accountant|           7.5|             7.0|                   55.0|         4.0|      Normal|        115/75|      68.0|        NaN|          None|\n",
      "|   261.0|Female|45.0|   Teacher|           6.7|             7.0|                   20.0|         6.0|  Overweight|        135/90|      65.0|        NaN|      Insomnia|\n",
      "|   369.0|Female|59.0|     Nurse|           6.8|             5.0|                   20.0|         6.0|  Overweight|        140/95|      68.0|        NaN|   Sleep Apnea|\n",
      "+--------+------+----+----------+--------------+----------------+-----------------------+------------+------------+--------------+----------+-----------+--------------+\n",
      "\n"
     ]
    }
   ],
   "source": [
    "# Get values with NaN in Daily Steps\n",
    "df_1.filter(col('Daily Steps') == 'NaN').show()"
   ]
  },
  {
   "cell_type": "code",
   "execution_count": 30,
   "id": "ad42ab80",
   "metadata": {},
   "outputs": [
    {
     "name": "stdout",
     "output_type": "stream",
     "text": [
      "47.094652406512736\n"
     ]
    }
   ],
   "source": [
    "# Mean Physical Activity Level\n",
    "mean_pal = df_1.select(mean(col(\"Physical Activity Level\")).alias(\"mean_pal\")).collect()[0][\"mean_pal\"]\n",
    "print (mean_pal)"
   ]
  },
  {
   "cell_type": "code",
   "execution_count": 31,
   "id": "ebc7eb52",
   "metadata": {},
   "outputs": [
    {
     "name": "stderr",
     "output_type": "stream",
     "text": [
      "24/05/21 10:40:12 WARN Instrumentation: [8688fab8] regParam is zero, which might cause numerical instability and overfitting.\n",
      "24/05/21 10:40:12 WARN InstanceBuilder$NativeBLAS: Failed to load implementation from:dev.ludovic.netlib.blas.JNIBLAS\n",
      "24/05/21 10:40:12 WARN InstanceBuilder$NativeBLAS: Failed to load implementation from:dev.ludovic.netlib.blas.ForeignLinkerBLAS\n",
      "24/05/21 10:40:12 WARN InstanceBuilder$NativeLAPACK: Failed to load implementation from:dev.ludovic.netlib.lapack.JNILAPACK\n"
     ]
    },
    {
     "name": "stdout",
     "output_type": "stream",
     "text": [
      "+--------+------+----+----------+--------------+----------------+-----------------------+------------+------------+--------------+----------+-----------+--------------+-------+\n",
      "|PersonID|Gender| Age|Occupation|Sleep Duration|Quality of Sleep|Physical Activity Level|Stress Level|BMI Category|Blood Pressure|Heart Rate|Daily Steps|Sleep Disorder|feature|\n",
      "+--------+------+----+----------+--------------+----------------+-----------------------+------------+------------+--------------+----------+-----------+--------------+-------+\n",
      "|    21.0|  Male|30.0|    Doctor|           5.9|             7.0|                   60.0|         7.0|      Normal|        120/80|      70.0|        NaN|          None| [60.0]|\n",
      "|    59.0|  Male|32.0|    Doctor|           6.0|             6.0|                   30.0|         8.0|      Normal|        125/80|      72.0|        NaN|          None| [30.0]|\n",
      "|    64.0|  Male|32.0|    Doctor|           6.6|             6.0|                   55.0|         8.0|      Normal|        125/80|      72.0|        NaN|          None| [55.0]|\n",
      "|   116.0|Female|37.0|Accountant|           7.5|             7.0|                   55.0|         4.0|      Normal|        115/75|      68.0|        NaN|          None| [55.0]|\n",
      "|   261.0|Female|45.0|   Teacher|           6.7|             7.0|                   20.0|         6.0|  Overweight|        135/90|      65.0|        NaN|      Insomnia| [20.0]|\n",
      "|   369.0|Female|59.0|     Nurse|           6.8|             5.0|                   20.0|         6.0|  Overweight|        140/95|      68.0|        NaN|   Sleep Apnea| [20.0]|\n",
      "+--------+------+----+----------+--------------+----------------+-----------------------+------------+------------+--------------+----------+-----------+--------------+-------+\n",
      "\n",
      "+--------+------+----+----------+--------------+----------------+-----------------------+------------+------------+--------------+----------+-----------+--------------+-------+----------+\n",
      "|PersonID|Gender| Age|Occupation|Sleep Duration|Quality of Sleep|Physical Activity Level|Stress Level|BMI Category|Blood Pressure|Heart Rate|Daily Steps|Sleep Disorder|feature|prediction|\n",
      "+--------+------+----+----------+--------------+----------------+-----------------------+------------+------------+--------------+----------+-----------+--------------+-------+----------+\n",
      "|    21.0|  Male|30.0|    Doctor|           5.9|             7.0|                   60.0|         7.0|      Normal|        120/80|      70.0|        NaN|          None| [60.0]|    6426.0|\n",
      "|    59.0|  Male|32.0|    Doctor|           6.0|             6.0|                   30.0|         8.0|      Normal|        125/80|      72.0|        NaN|          None| [30.0]|    5051.0|\n",
      "|    64.0|  Male|32.0|    Doctor|           6.6|             6.0|                   55.0|         8.0|      Normal|        125/80|      72.0|        NaN|          None| [55.0]|    6197.0|\n",
      "|   116.0|Female|37.0|Accountant|           7.5|             7.0|                   55.0|         4.0|      Normal|        115/75|      68.0|        NaN|          None| [55.0]|    6197.0|\n",
      "|   261.0|Female|45.0|   Teacher|           6.7|             7.0|                   20.0|         6.0|  Overweight|        135/90|      65.0|        NaN|      Insomnia| [20.0]|    4592.0|\n",
      "|   369.0|Female|59.0|     Nurse|           6.8|             5.0|                   20.0|         6.0|  Overweight|        140/95|      68.0|        NaN|   Sleep Apnea| [20.0]|    4592.0|\n",
      "+--------+------+----+----------+--------------+----------------+-----------------------+------------+------------+--------------+----------+-----------+--------------+-------+----------+\n",
      "\n",
      "+--------+------+----+----------+--------------+----------------+-----------------------+------------+------------+--------------+----------+-----------+--------------+----------+\n",
      "|PersonID|Gender| Age|Occupation|Sleep Duration|Quality of Sleep|Physical Activity Level|Stress Level|BMI Category|Blood Pressure|Heart Rate|Daily Steps|Sleep Disorder|prediction|\n",
      "+--------+------+----+----------+--------------+----------------+-----------------------+------------+------------+--------------+----------+-----------+--------------+----------+\n",
      "|    21.0|  Male|30.0|    Doctor|           5.9|             7.0|                   60.0|         7.0|      Normal|        120/80|      70.0|     6426.0|          None|    6426.0|\n",
      "|    59.0|  Male|32.0|    Doctor|           6.0|             6.0|                   30.0|         8.0|      Normal|        125/80|      72.0|     5051.0|          None|    5051.0|\n",
      "|    64.0|  Male|32.0|    Doctor|           6.6|             6.0|                   55.0|         8.0|      Normal|        125/80|      72.0|     6197.0|          None|    6197.0|\n",
      "|   116.0|Female|37.0|Accountant|           7.5|             7.0|                   55.0|         4.0|      Normal|        115/75|      68.0|     6197.0|          None|    6197.0|\n",
      "|   261.0|Female|45.0|   Teacher|           6.7|             7.0|                   20.0|         6.0|  Overweight|        135/90|      65.0|     4592.0|      Insomnia|    4592.0|\n",
      "|   369.0|Female|59.0|     Nurse|           6.8|             5.0|                   20.0|         6.0|  Overweight|        140/95|      68.0|     4592.0|   Sleep Apnea|    4592.0|\n",
      "+--------+------+----+----------+--------------+----------------+-----------------------+------------+------------+--------------+----------+-----------+--------------+----------+\n",
      "\n"
     ]
    }
   ],
   "source": [
    "# Train linear model \n",
    "# Filter out rows where Daily Steps are not NaN to be used for training\n",
    "df_filtered = df_1.filter(~isnan(col(\"Daily Steps\")) & col(\"Daily Steps\").isNotNull() & col(\"Physical Activity Level\").isNotNull())\n",
    "\n",
    "# Assemble feature vector\n",
    "assembler = VectorAssembler(inputCols=[\"Physical Activity Level\"], outputCol=\"feature\")\n",
    "df_filtered = assembler.transform(df_filtered)\n",
    "\n",
    "# Train Linear Regression model\n",
    "missing_linear_ds = LinearRegression(featuresCol=\"feature\", labelCol=\"Daily Steps\")\n",
    "missing_linear_ds_model = missing_linear_ds.fit(df_filtered)\n",
    "\n",
    "# Prepare DataFrame for prediction where Daily Steps is NaN to be used for predictions\n",
    "df_missing_ds = df_1.filter(isnan(col(\"Daily Steps\")) & col(\"Daily Steps\").isNotNull() & col(\"Physical Activity Level\").isNotNull())\n",
    "df_missing_ds = assembler.transform(df_missing_ds)\n",
    "df_missing_ds.show()\n",
    "\n",
    "# Predict missing Daily Steps values into a prediction column and round them off to nearest integer\n",
    "predictions = missing_linear_ds_model.transform(df_missing_ds)\n",
    "predictions = predictions.withColumn(\"prediction\", round(col(\"prediction\")))\n",
    "predictions.show()\n",
    "\n",
    "# Join predictions with original DataFrame based on unique Participant ID\n",
    "df_1_imp = df_1.join(predictions.select(\"PersonID\", \"prediction\"), on=\"PersonID\", how=\"left_outer\")\n",
    "\n",
    "# Replace Daily Steps values with predictions if there is any (should only be 6), otherwise keep original values\n",
    "df_1_imp = df_1_imp.withColumn(\"Daily Steps\", coalesce(col(\"prediction\"), col(\"Daily Steps\")))\n",
    "\n",
    "# Find replaced values based on prediction column that is not null (hence predicted)\n",
    "df_1_imp.filter(col(\"prediction\").isNotNull()).show()\n",
    "\n",
    "# Drop the prediction column as it's no longer needed\n",
    "df_1_imp = df_1_imp.drop(\"prediction\")"
   ]
  },
  {
   "cell_type": "code",
   "execution_count": 32,
   "id": "cb078ece",
   "metadata": {},
   "outputs": [
    {
     "name": "stdout",
     "output_type": "stream",
     "text": [
      "+--------+------+----+--------------------+--------------+----------------+-----------------------+------------+-------------+--------------+----------+-----------+--------------+\n",
      "|PersonID|Gender| Age|          Occupation|Sleep Duration|Quality of Sleep|Physical Activity Level|Stress Level| BMI Category|Blood Pressure|Heart Rate|Daily Steps|Sleep Disorder|\n",
      "+--------+------+----+--------------------+--------------+----------------+-----------------------+------------+-------------+--------------+----------+-----------+--------------+\n",
      "|    null|Gender|null|          Occupation|          null|            null|                   null|        null| BMI Category|Blood Pressure|      null|       null|Sleep Disorder|\n",
      "|     1.0|  Male|27.0|   Software Engineer|           6.1|             3.5|                   42.0|         6.0|   Overweight|        126/83|      77.0|     5200.0|          None|\n",
      "|     2.0|  Male|28.0|              Doctor|           6.2|             4.0|                   82.0|         8.0|       Normal|        125/80|      75.0|     8000.0|          None|\n",
      "|     3.0|  Male|28.0|              Doctor|           6.2|             5.0|                   67.0|         8.0|       Normal|        125/80|      75.0|     6000.0|          None|\n",
      "|     4.0|  Male|28.0|Sales Representative|           5.9|             2.0|                   33.0|         8.0|        Obese|        140/90|      85.0|     2500.0|   Sleep Apnea|\n",
      "|     5.0|  Male|28.0|Sales Representative|           5.9|             2.0|                   31.0|         6.0|        Obese|        140/90|      85.0|     3000.0|   Sleep Apnea|\n",
      "|     6.0|  Male|28.0|   Software Engineer|           5.9|             3.0|                   30.0|         5.0|        Obese|        140/90|      85.0|     2800.0|      Insomnia|\n",
      "|     7.0|  Male|29.0|             Teacher|           6.3|             5.0|                   41.0|         6.0|        Obese|        140/90|      82.0|     3300.0|      Insomnia|\n",
      "|     8.0|  Male|29.0|              Doctor|           6.3|             6.0|                   75.0|         7.0|       Normal|        120/80|      70.0|     6000.0|          None|\n",
      "|     9.0|  Male|29.0|              Doctor|           6.4|             5.0|                   77.0|         7.0|       Normal|        120/80|      70.0|     4000.0|          None|\n",
      "|    10.0|  Male|29.0|              Doctor|           5.5|             6.0|                   71.0|         8.0|       Normal|        120/80|      70.0|     6000.0|          None|\n",
      "|    11.0|  Male|29.0|              Doctor|           5.7|             6.0|                   55.0|         7.0|       Normal|        120/80|      70.0|     8000.0|          None|\n",
      "|    12.0|  Male|29.0|              Doctor|           4.3|             2.0|                   72.0|         9.0|   Overweight|        120/80|      88.0|     6000.0|      Insomnia|\n",
      "|    13.0|  Male|29.0|              Doctor|           5.3|             4.0|                   55.0|         8.0|   Overweight|        120/80|      70.0|     4500.0|          None|\n",
      "|    14.0|  Male|29.0|              Doctor|           6.0|             6.0|                   42.0|         8.0|       Normal|        120/80|      70.0|     6000.0|          None|\n",
      "|    15.0|  Male|29.0|              Doctor|           5.6|             6.0|                   62.0|         8.0|       Normal|        120/80|      70.0|     5000.0|      Insomnia|\n",
      "|    16.0|  Male|29.0|              Doctor|           5.7|             6.0|                   44.0|         8.0|       Normal|        120/80|      70.0|     8000.0|      Insomnia|\n",
      "|    17.0|Female|29.0|               Nurse|           6.5|             5.0|                   30.0|         7.0|Normal Weight|        132/87|      80.0|     4000.0|   Sleep Apnea|\n",
      "|    18.0|  Male|29.0|              Doctor|           6.0|             6.0|                   38.0|         8.0|       Normal|        120/80|      70.0|     8000.0|   Sleep Apnea|\n",
      "|    19.0|Female|29.0|               Nurse|           6.5|             5.0|                   42.0|         7.0|Normal Weight|        132/87|      80.0|     4000.0|      Insomnia|\n",
      "|    20.0|  Male|30.0|              Doctor|           6.6|             7.0|                   73.0|         7.0|       Normal|        120/80|      70.0|     5000.0|          None|\n",
      "|    21.0|  Male|30.0|              Doctor|           5.9|             7.0|                   60.0|         7.0|       Normal|        120/80|      70.0|     6426.0|          None|\n",
      "|    22.0|  Male|30.0|              Doctor|           6.0|             7.0|                   65.0|         8.0|       Normal|        120/80|      70.0|     6700.0|          None|\n",
      "|    23.0|  Male|30.0|              Doctor|           6.2|             7.0|                   53.0|         7.0|       Normal|        120/80|      70.0|     6500.0|          None|\n",
      "|    24.0|  Male|30.0|              Doctor|           6.3|             6.0|                   72.0|         8.0|       Normal|        120/80|      70.0|     5000.0|          None|\n",
      "+--------+------+----+--------------------+--------------+----------------+-----------------------+------------+-------------+--------------+----------+-----------+--------------+\n",
      "only showing top 25 rows\n",
      "\n"
     ]
    }
   ],
   "source": [
    "# Look at first 25 rows\n",
    "df_1_imp.show(25)"
   ]
  },
  {
   "cell_type": "code",
   "execution_count": 33,
   "id": "564c9d36",
   "metadata": {},
   "outputs": [
    {
     "name": "stdout",
     "output_type": "stream",
     "text": [
      "+--------+------+----+----------+--------------+----------------+-----------------------+------------+------------+--------------+----------+-----------+--------------+\n",
      "|PersonID|Gender| Age|Occupation|Sleep Duration|Quality of Sleep|Physical Activity Level|Stress Level|BMI Category|Blood Pressure|Heart Rate|Daily Steps|Sleep Disorder|\n",
      "+--------+------+----+----------+--------------+----------------+-----------------------+------------+------------+--------------+----------+-----------+--------------+\n",
      "|   146.0|Female|38.0|    Lawyer|           4.9|             2.0|                   25.0|         8.0|       Obese|        135/88|      45.0|     3300.0|   Sleep Apnea|\n",
      "+--------+------+----+----------+--------------+----------------+-----------------------+------------+------------+--------------+----------+-----------+--------------+\n",
      "\n",
      "+--------+------+----+----------+--------------+----------------+-----------------------+------------+------------+--------------+----------+-----------+--------------+\n",
      "|PersonID|Gender| Age|Occupation|Sleep Duration|Quality of Sleep|Physical Activity Level|Stress Level|BMI Category|Blood Pressure|Heart Rate|Daily Steps|Sleep Disorder|\n",
      "+--------+------+----+----------+--------------+----------------+-----------------------+------------+------------+--------------+----------+-----------+--------------+\n",
      "|   146.0|Female|38.0|    Lawyer|           4.9|             2.0|                   25.0|         8.0|       Obese|        135/88|      83.0|     3300.0|   Sleep Apnea|\n",
      "+--------+------+----+----------+--------------+----------------+-----------------------+------------+------------+--------------+----------+-----------+--------------+\n",
      "\n"
     ]
    }
   ],
   "source": [
    "# Change Heart Rate value of 45 to 83\n",
    "df_1_imp.filter(col(\"Heart Rate\") == 45).show()\n",
    "df_1_imp = df_1_imp.withColumn(\"Heart Rate\", when(col(\"Heart Rate\") == 45, 83).otherwise(col(\"Heart Rate\")))\n",
    "df_1_imp.filter(col(\"PersonID\") == 146).show()\n"
   ]
  },
  {
   "cell_type": "code",
   "execution_count": 34,
   "id": "dfc6b9dd",
   "metadata": {},
   "outputs": [
    {
     "name": "stdout",
     "output_type": "stream",
     "text": [
      "+--------+------+----+----------+--------------+----------------+-----------------------+------------+------------+--------------+----------+-----------+--------------+\n",
      "|PersonID|Gender| Age|Occupation|Sleep Duration|Quality of Sleep|Physical Activity Level|Stress Level|BMI Category|Blood Pressure|Heart Rate|Daily Steps|Sleep Disorder|\n",
      "+--------+------+----+----------+--------------+----------------+-----------------------+------------+------------+--------------+----------+-----------+--------------+\n",
      "|    47.0|  Male|31.0|    Doctor|           6.7|             7.0|                    0.5|         8.0|      Normal|        120/80|      70.0|     5000.0|          None|\n",
      "|   112.0|  Male|37.0|    Lawyer|           7.4|             8.0|                    0.6|         8.0|      Normal|        130/85|      68.0|     2800.0|          None|\n",
      "|   357.0|Female|58.0|     Nurse|           7.3|             6.0|                    0.3|         7.0|  Overweight|        140/95|      68.0|     5900.0|   Sleep Apnea|\n",
      "+--------+------+----+----------+--------------+----------------+-----------------------+------------+------------+--------------+----------+-----------+--------------+\n",
      "\n"
     ]
    }
   ],
   "source": [
    "# Locate all Physical Activity Level values lower than 1\n",
    "low_pal = df_1_imp.filter(col(\"Physical Activity Level\") < 1)\n",
    "low_pal.show()"
   ]
  },
  {
   "cell_type": "code",
   "execution_count": 35,
   "id": "3fe525bc",
   "metadata": {},
   "outputs": [
    {
     "name": "stdout",
     "output_type": "stream",
     "text": [
      "+--------+------+----+----------+--------------+----------------+-----------------------+------------+------------+--------------+----------+-----------+--------------+\n",
      "|PersonID|Gender| Age|Occupation|Sleep Duration|Quality of Sleep|Physical Activity Level|Stress Level|BMI Category|Blood Pressure|Heart Rate|Daily Steps|Sleep Disorder|\n",
      "+--------+------+----+----------+--------------+----------------+-----------------------+------------+------------+--------------+----------+-----------+--------------+\n",
      "|    47.0|  Male|31.0|    Doctor|           6.7|             7.0|                    0.5|         8.0|      Normal|        120/80|      70.0|     5000.0|          None|\n",
      "+--------+------+----+----------+--------------+----------------+-----------------------+------------+------------+--------------+----------+-----------+--------------+\n",
      "\n",
      "+--------+------+----+----------+--------------+----------------+-----------------------+------------+------------+--------------+----------+-----------+--------------+\n",
      "|PersonID|Gender| Age|Occupation|Sleep Duration|Quality of Sleep|Physical Activity Level|Stress Level|BMI Category|Blood Pressure|Heart Rate|Daily Steps|Sleep Disorder|\n",
      "+--------+------+----+----------+--------------+----------------+-----------------------+------------+------------+--------------+----------+-----------+--------------+\n",
      "|    47.0|  Male|31.0|    Doctor|           6.7|             7.0|                   60.0|         8.0|      Normal|        120/80|      70.0|     5000.0|          None|\n",
      "+--------+------+----+----------+--------------+----------------+-----------------------+------------+------------+--------------+----------+-----------+--------------+\n",
      "\n"
     ]
    }
   ],
   "source": [
    "# Change Physical Activity Level from 0.5 to 60\n",
    "df_1_imp.filter(col(\"Physical Activity Level\") == 0.5).show()\n",
    "df_1_imp = df_1_imp.withColumn(\"Physical Activity Level\", when(col(\"Physical Activity Level\") == 0.5, 60).otherwise(col(\"Physical Activity Level\")))\n",
    "df_1_imp.filter(col(\"PersonID\") == 47).show()\n"
   ]
  },
  {
   "cell_type": "code",
   "execution_count": 36,
   "id": "afc342f0",
   "metadata": {},
   "outputs": [
    {
     "name": "stdout",
     "output_type": "stream",
     "text": [
      "0.6000000238418579\n",
      "0.30000001192092896\n",
      "+--------+------+----+----------+--------------+----------------+-----------------------+------------+------------+--------------+----------+-----------+--------------+\n",
      "|PersonID|Gender| Age|Occupation|Sleep Duration|Quality of Sleep|Physical Activity Level|Stress Level|BMI Category|Blood Pressure|Heart Rate|Daily Steps|Sleep Disorder|\n",
      "+--------+------+----+----------+--------------+----------------+-----------------------+------------+------------+--------------+----------+-----------+--------------+\n",
      "|   112.0|  Male|37.0|    Lawyer|           7.4|             8.0|                    0.6|         8.0|      Normal|        130/85|      68.0|     2800.0|          None|\n",
      "|   357.0|Female|58.0|     Nurse|           7.3|             6.0|                    0.3|         7.0|  Overweight|        140/95|      68.0|     5900.0|   Sleep Apnea|\n",
      "+--------+------+----+----------+--------------+----------------+-----------------------+------------+------------+--------------+----------+-----------+--------------+\n",
      "\n"
     ]
    }
   ],
   "source": [
    "# Locate all Physical Activity Level values lower than 1\n",
    "low_pal = df_1_imp.filter(col(\"Physical Activity Level\") < 1)\n",
    "low_pal_values = low_pal.select(\"PersonID\", \"Physical Activity Level\").collect()\n",
    "print (low_pal_values[0][1])\n",
    "print (low_pal_values[1][1])\n",
    "# Show the rows where Physical Activity Level is lower than 1\n",
    "low_pal.show()"
   ]
  },
  {
   "cell_type": "code",
   "execution_count": 37,
   "id": "cf761d6c",
   "metadata": {},
   "outputs": [
    {
     "name": "stdout",
     "output_type": "stream",
     "text": [
      "+--------+------+----+----------+--------------+----------------+-----------------------+------------+------------+--------------+----------+-----------+--------------+\n",
      "|PersonID|Gender| Age|Occupation|Sleep Duration|Quality of Sleep|Physical Activity Level|Stress Level|BMI Category|Blood Pressure|Heart Rate|Daily Steps|Sleep Disorder|\n",
      "+--------+------+----+----------+--------------+----------------+-----------------------+------------+------------+--------------+----------+-----------+--------------+\n",
      "|   112.0|  Male|37.0|    Lawyer|           7.4|             8.0|                   60.0|         8.0|      Normal|        130/85|      68.0|     2800.0|          None|\n",
      "|   357.0|Female|58.0|     Nurse|           7.3|             6.0|                   30.0|         7.0|  Overweight|        140/95|      68.0|     5900.0|   Sleep Apnea|\n",
      "+--------+------+----+----------+--------------+----------------+-----------------------+------------+------------+--------------+----------+-----------+--------------+\n",
      "\n"
     ]
    }
   ],
   "source": [
    "# Replace the rest of the outliers less than 1\n",
    "df_1_imp = df_1_imp.withColumn(\"Physical Activity Level\", when(col(\"Physical Activity Level\") == 0.6000000238418579, 60).otherwise(col(\"Physical Activity Level\")))\n",
    "df_1_imp = df_1_imp.withColumn(\"Physical Activity Level\", when(col(\"Physical Activity Level\") == 0.30000001192092896, 30).otherwise(col(\"Physical Activity Level\")))\n",
    "df_1_imp.filter((col(\"PersonID\") == 112) | (col(\"PersonID\") == 357)).show()\n"
   ]
  },
  {
   "cell_type": "code",
   "execution_count": 38,
   "id": "97207bd5",
   "metadata": {},
   "outputs": [
    {
     "name": "stdout",
     "output_type": "stream",
     "text": [
      "+--------+------+----+-----------------+--------------+----------------+-----------------------+------------+------------+--------------+----------+-----------+--------------+\n",
      "|PersonID|Gender| Age|       Occupation|Sleep Duration|Quality of Sleep|Physical Activity Level|Stress Level|BMI Category|Blood Pressure|Heart Rate|Daily Steps|Sleep Disorder|\n",
      "+--------+------+----+-----------------+--------------+----------------+-----------------------+------------+------------+--------------+----------+-----------+--------------+\n",
      "|     1.0|  Male|27.0|Software Engineer|           6.1|             3.5|                   42.0|         6.0|  Overweight|        126/83|      77.0|     5200.0|          None|\n",
      "|    91.0|  Male|35.0|         Engineer|           7.3|             7.5|                   60.0|         4.0|      Normal|        125/80|      65.0|     5000.0|          None|\n",
      "|   134.0|Female|38.0|       Accountant|           7.1|             7.5|                   60.0|         4.0|      Normal|        115/75|      68.0|     4700.0|          None|\n",
      "|   212.0|  Male|43.0|         Engineer|           8.0|             6.5|                  105.0|         3.0|      Normal|        130/85|      70.0|     8000.0|          None|\n",
      "|   235.0|Female|44.0|          Teacher|           6.6|             6.5|                   35.0|         4.0|  Overweight|        135/90|      65.0|     5200.0|      Insomnia|\n",
      "|   268.0|Female|49.0|            Nurse|           6.2|             3.5|                   40.0|         6.0|  Overweight|        140/95|      75.0|     6500.0|          None|\n",
      "|   296.0|Female|50.0|            Nurse|           6.0|             2.5|                   21.0|         8.0|  Overweight|        140/95|      75.0|     2000.0|   Sleep Apnea|\n",
      "|   371.0|Female|59.0|            Nurse|           8.0|             7.5|                   15.0|         6.0|  Overweight|        140/95|      68.0|     4900.0|   Sleep Apnea|\n",
      "+--------+------+----+-----------------+--------------+----------------+-----------------------+------------+------------+--------------+----------+-----------+--------------+\n",
      "\n",
      "+--------+------+----+-----------------+--------------+----------------+-----------------------+------------+------------+--------------+----------+-----------+--------------+\n",
      "|PersonID|Gender| Age|       Occupation|Sleep Duration|Quality of Sleep|Physical Activity Level|Stress Level|BMI Category|Blood Pressure|Heart Rate|Daily Steps|Sleep Disorder|\n",
      "+--------+------+----+-----------------+--------------+----------------+-----------------------+------------+------------+--------------+----------+-----------+--------------+\n",
      "|     1.0|  Male|27.0|Software Engineer|           6.1|             4.0|                   42.0|         6.0|  Overweight|        126/83|      77.0|     5200.0|          None|\n",
      "|    91.0|  Male|35.0|         Engineer|           7.3|             8.0|                   60.0|         4.0|      Normal|        125/80|      65.0|     5000.0|          None|\n",
      "|   134.0|Female|38.0|       Accountant|           7.1|             8.0|                   60.0|         4.0|      Normal|        115/75|      68.0|     4700.0|          None|\n",
      "|   212.0|  Male|43.0|         Engineer|           8.0|             7.0|                  105.0|         3.0|      Normal|        130/85|      70.0|     8000.0|          None|\n",
      "|   235.0|Female|44.0|          Teacher|           6.6|             7.0|                   35.0|         4.0|  Overweight|        135/90|      65.0|     5200.0|      Insomnia|\n",
      "|   268.0|Female|49.0|            Nurse|           6.2|             4.0|                   40.0|         6.0|  Overweight|        140/95|      75.0|     6500.0|          None|\n",
      "|   296.0|Female|50.0|            Nurse|           6.0|             3.0|                   21.0|         8.0|  Overweight|        140/95|      75.0|     2000.0|   Sleep Apnea|\n",
      "|   371.0|Female|59.0|            Nurse|           8.0|             8.0|                   15.0|         6.0|  Overweight|        140/95|      68.0|     4900.0|   Sleep Apnea|\n",
      "+--------+------+----+-----------------+--------------+----------------+-----------------------+------------+------------+--------------+----------+-----------+--------------+\n",
      "\n"
     ]
    }
   ],
   "source": [
    "# Get values with decimal points (not .0) in Quality of Sleep\n",
    "float_qol_df = df_1_imp.filter(col('Quality of Sleep') % 1 != 0)\n",
    "float_qol_df.show()\n",
    "# Get all PersonIDs of those with float values\n",
    "float_qol_ID = [row['PersonID'] for row in float_qol_df.select('PersonID').collect()]\n",
    "# Round values to closest whole number\n",
    "df_1_imp = df_1_imp.withColumn(\"Quality of Sleep\", round(col(\"Quality of Sleep\"), 0))\n",
    "# Filter out those that were in float_qol_ID\n",
    "df_1_imp.filter(col(\"PersonID\").isin(float_qol_ID)).show()"
   ]
  },
  {
   "cell_type": "code",
   "execution_count": 39,
   "id": "e8b33b20",
   "metadata": {},
   "outputs": [
    {
     "name": "stdout",
     "output_type": "stream",
     "text": [
      "root\n",
      " |-- PersonID: float (nullable = true)\n",
      " |-- Gender: string (nullable = true)\n",
      " |-- Age: float (nullable = true)\n",
      " |-- Occupation: string (nullable = true)\n",
      " |-- Sleep Duration: float (nullable = true)\n",
      " |-- Quality of Sleep: float (nullable = true)\n",
      " |-- Physical Activity Level: float (nullable = true)\n",
      " |-- Stress Level: float (nullable = true)\n",
      " |-- BMI Category: string (nullable = true)\n",
      " |-- Blood Pressure: string (nullable = true)\n",
      " |-- Heart Rate: float (nullable = true)\n",
      " |-- Daily Steps: double (nullable = true)\n",
      " |-- Sleep Disorder: string (nullable = true)\n",
      "\n",
      "root\n",
      " |-- PersonID: integer (nullable = true)\n",
      " |-- Gender: string (nullable = true)\n",
      " |-- Age: integer (nullable = true)\n",
      " |-- Occupation: string (nullable = true)\n",
      " |-- Sleep Duration: float (nullable = true)\n",
      " |-- Quality of Sleep: integer (nullable = true)\n",
      " |-- Physical Activity Level: integer (nullable = true)\n",
      " |-- Stress Level: integer (nullable = true)\n",
      " |-- BMI Category: string (nullable = true)\n",
      " |-- Blood Pressure: string (nullable = true)\n",
      " |-- Heart Rate: integer (nullable = true)\n",
      " |-- Daily Steps: integer (nullable = true)\n",
      " |-- Sleep Disorder: string (nullable = true)\n",
      "\n"
     ]
    }
   ],
   "source": [
    "# Initial schema\n",
    "df_1_imp.printSchema()\n",
    "new_data_types = {\n",
    "    \"PersonID\": IntegerType(),\n",
    "    \"Gender\": StringType(),\n",
    "    \"Age\": IntegerType(),\n",
    "    \"Occupation\": StringType(),\n",
    "    \"Sleep Duration\": FloatType(),\n",
    "    \"Quality of Sleep\": IntegerType(),\n",
    "    \"Physical Activity Level\": IntegerType(),\n",
    "    \"Stress Level\": IntegerType(),\n",
    "    \"BMI Category\": StringType(),\n",
    "    \"Blood Pressure\": StringType(),\n",
    "    \"Heart Rate\": IntegerType(),\n",
    "    \"Daily Steps\": IntegerType(),\n",
    "    \"Sleep Disorder\": StringType()\n",
    "}\n",
    "\n",
    "# Apply the data types to each column\n",
    "for col_name, target_type in new_data_types.items():\n",
    "    df_1_imp = df_1_imp.withColumn(col_name, df_1_imp[col_name].cast(target_type))\n",
    "    \n",
    "# New Schema\n",
    "df_1_imp.printSchema()"
   ]
  },
  {
   "cell_type": "markdown",
   "id": "79c9b413",
   "metadata": {},
   "source": [
    "## 3.3 Construct New Data"
   ]
  },
  {
   "cell_type": "code",
   "execution_count": 40,
   "id": "ee073d62",
   "metadata": {},
   "outputs": [
    {
     "data": {
      "text/plain": [
       "Text(0, 0.5, 'Count')"
      ]
     },
     "execution_count": 40,
     "metadata": {},
     "output_type": "execute_result"
    },
    {
     "data": {
      "image/png": "[encoded data removed]",
      "text/plain": [
       "<Figure size 432x288 with 1 Axes>"
      ]
     },
     "metadata": {
      "needs_background": "light"
     },
     "output_type": "display_data"
    }
   ],
   "source": [
    "# Construct new column according to ranges\n",
    "df_1_imp = df_1_imp.withColumn(\n",
    "    \"Quality_of_Sleep_Tier\",\n",
    "    when((col(\"Quality of Sleep\") >= 1) & (col(\"Quality of Sleep\") <= 3), \"Low\")\n",
    "    .when((col(\"Quality of Sleep\") >= 4) & (col(\"Quality of Sleep\") <= 6), \"Medium\")\n",
    "    .when((col(\"Quality of Sleep\") >= 7) & (col(\"Quality of Sleep\") <= 9), \"High\")\n",
    ")\n",
    "sns.countplot(data=df_1_imp.toPandas(), x='Quality_of_Sleep_Tier', order=[\"Low\", \"Medium\", \"High\"])\n",
    "# Add titles and labels\n",
    "plt.title(\"Quality of Sleep Tier Distribution\")\n",
    "plt.xlabel(\"Quality of Sleep Tier\")\n",
    "plt.ylabel(\"Count\")"
   ]
  },
  {
   "cell_type": "code",
   "execution_count": 41,
   "id": "d95df3b6",
   "metadata": {},
   "outputs": [
    {
     "data": {
      "text/plain": [
       "Text(0, 0.5, 'Count')"
      ]
     },
     "execution_count": 41,
     "metadata": {},
     "output_type": "execute_result"
    },
    {
     "data": {
      "image/png": "[encoded data removed]",
      "text/plain": [
       "<Figure size 432x288 with 1 Axes>"
      ]
     },
     "metadata": {
      "needs_background": "light"
     },
     "output_type": "display_data"
    }
   ],
   "source": [
    "# Count plot of Quality of Sleep values\n",
    "sns.countplot(data=df_1_imp.toPandas(), x='Quality of Sleep')\n",
    "# Add titles and labels\n",
    "plt.title(\"Quality of Sleep Tier Distribution\")\n",
    "plt.xlabel(\"Quality of Sleep Tier\")\n",
    "plt.ylabel(\"Count\")"
   ]
  },
  {
   "cell_type": "code",
   "execution_count": 42,
   "id": "486bbd84",
   "metadata": {},
   "outputs": [
    {
     "data": {
      "image/png": "[encoded data removed]",
      "text/plain": [
       "<Figure size 432x288 with 1 Axes>"
      ]
     },
     "metadata": {
      "needs_background": "light"
     },
     "output_type": "display_data"
    }
   ],
   "source": [
    "# Construct new column according to new ranges\n",
    "df_1_imp = df_1_imp.withColumn(\n",
    "    \"Quality_of_Sleep_Tier\",\n",
    "    when((col(\"Quality of Sleep\") <= 5), 1)\n",
    "    .when((col(\"Quality of Sleep\") >= 6) & (col(\"Quality of Sleep\") <= 7), 2)\n",
    "    .when((col(\"Quality of Sleep\") >= 8), 3)\n",
    ")\n",
    "sns.countplot(data=df_1_imp.toPandas(), x='Quality_of_Sleep_Tier', order=[1, 2, 3])\n",
    "# Add titles and labels\n",
    "plt.title(\"Quality of Sleep Tier Distribution\")\n",
    "plt.xlabel(\"Quality of Sleep Tier\")\n",
    "plt.ylabel(\"Count\")\n",
    "\n",
    "# Convert to int\"Quality_of_Sleep_Tier\n",
    "df_1_imp = df_1_imp.withColumn(\"Quality_of_Sleep_Tier\", col(\"Quality_of_Sleep_Tier\").cast(IntegerType()))"
   ]
  },
  {
   "cell_type": "code",
   "execution_count": 43,
   "id": "118bf4e2",
   "metadata": {},
   "outputs": [
    {
     "data": {
      "image/png": "[encoded data removed]",
      "text/plain": [
       "<Figure size 432x288 with 1 Axes>"
      ]
     },
     "metadata": {
      "needs_background": "light"
     },
     "output_type": "display_data"
    }
   ],
   "source": [
    "# Construct new column according to presence of sleep disorder values (sleep apnea and insomnia)\n",
    "df_1_imp = df_1_imp.withColumn(\n",
    "    \"Have_Sleep_Disorder\",\n",
    "    when((col(\"Sleep Disorder\") == \"Insomnia\") | (col(\"Sleep Disorder\") == \"Sleep Apnea\"), 1)\n",
    "    .otherwise(0)\n",
    ")\n",
    "sns.countplot(data=df_1_imp.toPandas(), x='Have_Sleep_Disorder')\n",
    "# Add titles and labels\n",
    "plt.title(\"Have Sleep Disorder Distribution\")\n",
    "plt.xlabel(\"Have Sleep Disorder\")\n",
    "plt.ylabel(\"Count\")\n",
    "\n",
    "# Convert to integer\n",
    "df_1_imp = df_1_imp.withColumn(\"Have_Sleep_Disorder\", col(\"Have_Sleep_Disorder\").cast(IntegerType()))"
   ]
  },
  {
   "cell_type": "code",
   "execution_count": 44,
   "id": "4f7533c0",
   "metadata": {},
   "outputs": [
    {
     "name": "stdout",
     "output_type": "stream",
     "text": [
      "+---------+-------+--------+------------+---------+\n",
      "|Person ID|Bedtime|PhoneUse|WearsGlasses|Religious|\n",
      "+---------+-------+--------+------------+---------+\n",
      "|        1|   1:00|       1|           Y|        Y|\n",
      "|        2|   0:30|       0|           N|        Y|\n",
      "|        3|   1:00|       1|           N|        Y|\n",
      "|        4|   1:00|       1|           N|        Y|\n",
      "|        5|   1:40|       1|           N|        Y|\n",
      "|        6|   3:00|       1|           N|        Y|\n",
      "|        7|   0:50|       1|           Y|        Y|\n",
      "|        8|   2:50|       0|           N|        N|\n",
      "|        9|   1:30|       1|           Y|        Y|\n",
      "|       10|   3:30|       0|           Y|        Y|\n",
      "|       11|   4:30|       0|           Y|        Y|\n",
      "|       12|   3:00|       0|           Y|        N|\n",
      "|       13|   2:00|       1|           N|        N|\n",
      "|       14|   0:50|       1|           Y|        Y|\n",
      "|       15|   3:00|       1|           N|        Y|\n",
      "|       16|   2:20|       1|           Y|        Y|\n",
      "|       17|   1:50|       1|           Y|        Y|\n",
      "|       18|   0:00|       1|           Y|        N|\n",
      "|       19|   1:15|       1|           Y|        Y|\n",
      "|       20|  23:30|       0|           N|        Y|\n",
      "+---------+-------+--------+------------+---------+\n",
      "only showing top 20 rows\n",
      "\n"
     ]
    }
   ],
   "source": [
    "# Change Y N values to 1 0 \n",
    "df_2 = df_2.withColumn(\n",
    "    \"PhoneUse\",\n",
    "    when((col(\"PhoneUse\") == \"Y\"), 1)\n",
    "    .otherwise(0)\n",
    ")\n",
    "df_2.show()\n",
    "df_2 = df_2.withColumn(\"PhoneUse\", col(\"PhoneUse\").cast(IntegerType()))"
   ]
  },
  {
   "cell_type": "code",
   "execution_count": 45,
   "id": "b33739b4",
   "metadata": {},
   "outputs": [
    {
     "name": "stdout",
     "output_type": "stream",
     "text": [
      "+---------+-------+--------+------------+---------+\n",
      "|Person ID|Bedtime|PhoneUse|WearsGlasses|Religious|\n",
      "+---------+-------+--------+------------+---------+\n",
      "|        1|   1:00|       1|           1|        1|\n",
      "|        2|   0:30|       0|           0|        1|\n",
      "|        3|   1:00|       1|           0|        1|\n",
      "|        4|   1:00|       1|           0|        1|\n",
      "|        5|   1:40|       1|           0|        1|\n",
      "|        6|   3:00|       1|           0|        1|\n",
      "|        7|   0:50|       1|           1|        1|\n",
      "|        8|   2:50|       0|           0|        0|\n",
      "|        9|   1:30|       1|           1|        1|\n",
      "|       10|   3:30|       0|           1|        1|\n",
      "|       11|   4:30|       0|           1|        1|\n",
      "|       12|   3:00|       0|           1|        0|\n",
      "|       13|   2:00|       1|           0|        0|\n",
      "|       14|   0:50|       1|           1|        1|\n",
      "|       15|   3:00|       1|           0|        1|\n",
      "|       16|   2:20|       1|           1|        1|\n",
      "|       17|   1:50|       1|           1|        1|\n",
      "|       18|   0:00|       1|           1|        0|\n",
      "|       19|   1:15|       1|           1|        1|\n",
      "|       20|  23:30|       0|           0|        1|\n",
      "+---------+-------+--------+------------+---------+\n",
      "only showing top 20 rows\n",
      "\n"
     ]
    }
   ],
   "source": [
    "# Do the same for the other boolean columns\n",
    "df_2 = df_2.withColumn(\n",
    "    \"WearsGlasses\",\n",
    "    when((col(\"WearsGlasses\") == \"Y\"), 1)\n",
    "    .otherwise(0)\n",
    ")\n",
    "df_2 = df_2.withColumn(\n",
    "    \"Religious\",\n",
    "    when((col(\"Religious\") == \"Y\"), 1)\n",
    "    .otherwise(0)\n",
    ")\n",
    "df_2 = df_2.withColumn(\"WearsGlasses\", col(\"WearsGlasses\").cast(IntegerType()))\n",
    "df_2 = df_2.withColumn(\"Religious\", col(\"Religious\").cast(IntegerType()))\n",
    "df_2.show()"
   ]
  },
  {
   "cell_type": "markdown",
   "id": "da30e346",
   "metadata": {},
   "source": [
    "## 3.4 Integrating Data"
   ]
  },
  {
   "cell_type": "code",
   "execution_count": 46,
   "id": "593c66b5",
   "metadata": {},
   "outputs": [
    {
     "name": "stdout",
     "output_type": "stream",
     "text": [
      "+------+---+--------------------+--------------+----------------+-----------------------+------------+-------------+--------------+----------+-----------+--------------+---------------------+-------------------+-------+--------+------------+---------+\n",
      "|Gender|Age|          Occupation|Sleep Duration|Quality of Sleep|Physical Activity Level|Stress Level| BMI Category|Blood Pressure|Heart Rate|Daily Steps|Sleep Disorder|Quality_of_Sleep_Tier|Have_Sleep_Disorder|Bedtime|PhoneUse|WearsGlasses|Religious|\n",
      "+------+---+--------------------+--------------+----------------+-----------------------+------------+-------------+--------------+----------+-----------+--------------+---------------------+-------------------+-------+--------+------------+---------+\n",
      "|  Male| 27|   Software Engineer|           6.1|               4|                     42|           6|   Overweight|        126/83|        77|       5200|          None|                    1|                  0|   1:00|       1|           1|        1|\n",
      "|  Male| 28|              Doctor|           6.2|               4|                     82|           8|       Normal|        125/80|        75|       8000|          None|                    1|                  0|   0:30|       0|           0|        1|\n",
      "|  Male| 28|              Doctor|           6.2|               5|                     67|           8|       Normal|        125/80|        75|       6000|          None|                    1|                  0|   1:00|       1|           0|        1|\n",
      "|  Male| 28|Sales Representative|           5.9|               2|                     33|           8|        Obese|        140/90|        85|       2500|   Sleep Apnea|                    1|                  1|   1:00|       1|           0|        1|\n",
      "|  Male| 28|Sales Representative|           5.9|               2|                     31|           6|        Obese|        140/90|        85|       3000|   Sleep Apnea|                    1|                  1|   1:40|       1|           0|        1|\n",
      "|  Male| 28|   Software Engineer|           5.9|               3|                     30|           5|        Obese|        140/90|        85|       2800|      Insomnia|                    1|                  1|   3:00|       1|           0|        1|\n",
      "|  Male| 29|             Teacher|           6.3|               5|                     41|           6|        Obese|        140/90|        82|       3300|      Insomnia|                    1|                  1|   0:50|       1|           1|        1|\n",
      "|  Male| 29|              Doctor|           6.3|               6|                     75|           7|       Normal|        120/80|        70|       6000|          None|                    2|                  0|   2:50|       0|           0|        0|\n",
      "|  Male| 29|              Doctor|           6.4|               5|                     77|           7|       Normal|        120/80|        70|       4000|          None|                    1|                  0|   1:30|       1|           1|        1|\n",
      "|  Male| 29|              Doctor|           5.5|               6|                     71|           8|       Normal|        120/80|        70|       6000|          None|                    2|                  0|   3:30|       0|           1|        1|\n",
      "|  Male| 29|              Doctor|           5.7|               6|                     55|           7|       Normal|        120/80|        70|       8000|          None|                    2|                  0|   4:30|       0|           1|        1|\n",
      "|  Male| 29|              Doctor|           4.3|               2|                     72|           9|   Overweight|        120/80|        88|       6000|      Insomnia|                    1|                  1|   3:00|       0|           1|        0|\n",
      "|  Male| 29|              Doctor|           5.3|               4|                     55|           8|   Overweight|        120/80|        70|       4500|          None|                    1|                  0|   2:00|       1|           0|        0|\n",
      "|  Male| 29|              Doctor|           6.0|               6|                     42|           8|       Normal|        120/80|        70|       6000|          None|                    2|                  0|   0:50|       1|           1|        1|\n",
      "|  Male| 29|              Doctor|           5.6|               6|                     62|           8|       Normal|        120/80|        70|       5000|      Insomnia|                    2|                  1|   3:00|       1|           0|        1|\n",
      "|  Male| 29|              Doctor|           5.7|               6|                     44|           8|       Normal|        120/80|        70|       8000|      Insomnia|                    2|                  1|   2:20|       1|           1|        1|\n",
      "|Female| 29|               Nurse|           6.5|               5|                     30|           7|Normal Weight|        132/87|        80|       4000|   Sleep Apnea|                    1|                  1|   1:50|       1|           1|        1|\n",
      "|  Male| 29|              Doctor|           6.0|               6|                     38|           8|       Normal|        120/80|        70|       8000|   Sleep Apnea|                    2|                  1|   0:00|       1|           1|        0|\n",
      "|Female| 29|               Nurse|           6.5|               5|                     42|           7|Normal Weight|        132/87|        80|       4000|      Insomnia|                    1|                  1|   1:15|       1|           1|        1|\n",
      "|  Male| 30|              Doctor|           6.6|               7|                     73|           7|       Normal|        120/80|        70|       5000|          None|                    2|                  0|  23:30|       0|           0|        1|\n",
      "+------+---+--------------------+--------------+----------------+-----------------------+------------+-------------+--------------+----------+-----------+--------------+---------------------+-------------------+-------+--------+------------+---------+\n",
      "only showing top 20 rows\n",
      "\n"
     ]
    }
   ],
   "source": [
    "# Rename column to allow for merge \n",
    "df_2 = df_2.withColumnRenamed(\"Person ID\", \"PersonID\")\n",
    "df_1_imp = df_1_imp.filter(col(\"PersonID\").isNotNull())\n",
    "\n",
    "# Join and merge the two dfs together\n",
    "df_merged = df_1_imp.join(df_2, on=\"PersonID\", how=\"inner\")\n",
    "# Drop it as it is no longer needed\n",
    "df_merged = df_merged.drop(\"PersonID\")\n",
    "df_merged.show()\n",
    "\n"
   ]
  },
  {
   "cell_type": "code",
   "execution_count": 47,
   "id": "56aeb17b",
   "metadata": {},
   "outputs": [
    {
     "name": "stdout",
     "output_type": "stream",
     "text": [
      "25\n"
     ]
    }
   ],
   "source": [
    "# Unique blood pressure values\n",
    "print(df_merged.select(\"Blood Pressure\").distinct().count())\n"
   ]
  },
  {
   "cell_type": "markdown",
   "id": "1c95d880",
   "metadata": {},
   "source": [
    "## 3.5 Formatting Data"
   ]
  },
  {
   "cell_type": "code",
   "execution_count": 48,
   "id": "88443d69",
   "metadata": {},
   "outputs": [
    {
     "name": "stdout",
     "output_type": "stream",
     "text": [
      "+-------------+-----+\n",
      "| BMI Category|count|\n",
      "+-------------+-----+\n",
      "|Normal Weight|   21|\n",
      "|   Overweight|  151|\n",
      "|        Obese|   10|\n",
      "|       Normal|  192|\n",
      "+-------------+-----+\n",
      "\n",
      "+------------+-----+\n",
      "|BMI Category|count|\n",
      "+------------+-----+\n",
      "|  Overweight|  151|\n",
      "|       Obese|   10|\n",
      "|      Normal|  213|\n",
      "+------------+-----+\n",
      "\n"
     ]
    }
   ],
   "source": [
    "# Before count\n",
    "df_merged.groupBy(\"BMI Category\").count().show()\n",
    "\n",
    "# Changing Normal Weight to Normal\n",
    "df_merged = df_merged.withColumn(\n",
    "    \"BMI Category\",\n",
    "    when(col(\"BMI Category\") == \"Normal Weight\", \"Normal\")\n",
    "    .otherwise(col(\"BMI Category\"))\n",
    ")\n",
    "\n",
    "# After count\n",
    "df_merged.groupBy(\"BMI Category\").count().show()\n"
   ]
  },
  {
   "cell_type": "code",
   "execution_count": 49,
   "id": "51af3b7e",
   "metadata": {},
   "outputs": [
    {
     "name": "stdout",
     "output_type": "stream",
     "text": [
      "+------+---+--------------------+--------------+----------------+-----------------------+------------+------------+--------------+----------+-----------+--------------+---------------------+-------------------+-------+--------+------------+---------+\n",
      "|Gender|Age|          Occupation|Sleep Duration|Quality of Sleep|Physical Activity Level|Stress Level|BMI Category|Blood Pressure|Heart Rate|Daily Steps|Sleep Disorder|Quality_of_Sleep_Tier|Have_Sleep_Disorder|Bedtime|PhoneUse|WearsGlasses|Religious|\n",
      "+------+---+--------------------+--------------+----------------+-----------------------+------------+------------+--------------+----------+-----------+--------------+---------------------+-------------------+-------+--------+------------+---------+\n",
      "|  Male| 27|   Software Engineer|           6.1|               4|                     42|           6|           2|        126/83|        77|       5200|          None|                    1|                  0|   1:00|       1|           1|        1|\n",
      "|  Male| 28|              Doctor|           6.2|               4|                     82|           8|           1|        125/80|        75|       8000|          None|                    1|                  0|   0:30|       0|           0|        1|\n",
      "|  Male| 28|              Doctor|           6.2|               5|                     67|           8|           1|        125/80|        75|       6000|          None|                    1|                  0|   1:00|       1|           0|        1|\n",
      "|  Male| 28|Sales Representative|           5.9|               2|                     33|           8|           3|        140/90|        85|       2500|   Sleep Apnea|                    1|                  1|   1:00|       1|           0|        1|\n",
      "|  Male| 28|Sales Representative|           5.9|               2|                     31|           6|           3|        140/90|        85|       3000|   Sleep Apnea|                    1|                  1|   1:40|       1|           0|        1|\n",
      "|  Male| 28|   Software Engineer|           5.9|               3|                     30|           5|           3|        140/90|        85|       2800|      Insomnia|                    1|                  1|   3:00|       1|           0|        1|\n",
      "|  Male| 29|             Teacher|           6.3|               5|                     41|           6|           3|        140/90|        82|       3300|      Insomnia|                    1|                  1|   0:50|       1|           1|        1|\n",
      "|  Male| 29|              Doctor|           6.3|               6|                     75|           7|           1|        120/80|        70|       6000|          None|                    2|                  0|   2:50|       0|           0|        0|\n",
      "|  Male| 29|              Doctor|           6.4|               5|                     77|           7|           1|        120/80|        70|       4000|          None|                    1|                  0|   1:30|       1|           1|        1|\n",
      "|  Male| 29|              Doctor|           5.5|               6|                     71|           8|           1|        120/80|        70|       6000|          None|                    2|                  0|   3:30|       0|           1|        1|\n",
      "|  Male| 29|              Doctor|           5.7|               6|                     55|           7|           1|        120/80|        70|       8000|          None|                    2|                  0|   4:30|       0|           1|        1|\n",
      "|  Male| 29|              Doctor|           4.3|               2|                     72|           9|           2|        120/80|        88|       6000|      Insomnia|                    1|                  1|   3:00|       0|           1|        0|\n",
      "|  Male| 29|              Doctor|           5.3|               4|                     55|           8|           2|        120/80|        70|       4500|          None|                    1|                  0|   2:00|       1|           0|        0|\n",
      "|  Male| 29|              Doctor|           6.0|               6|                     42|           8|           1|        120/80|        70|       6000|          None|                    2|                  0|   0:50|       1|           1|        1|\n",
      "|  Male| 29|              Doctor|           5.6|               6|                     62|           8|           1|        120/80|        70|       5000|      Insomnia|                    2|                  1|   3:00|       1|           0|        1|\n",
      "|  Male| 29|              Doctor|           5.7|               6|                     44|           8|           1|        120/80|        70|       8000|      Insomnia|                    2|                  1|   2:20|       1|           1|        1|\n",
      "|Female| 29|               Nurse|           6.5|               5|                     30|           7|           1|        132/87|        80|       4000|   Sleep Apnea|                    1|                  1|   1:50|       1|           1|        1|\n",
      "|  Male| 29|              Doctor|           6.0|               6|                     38|           8|           1|        120/80|        70|       8000|   Sleep Apnea|                    2|                  1|   0:00|       1|           1|        0|\n",
      "|Female| 29|               Nurse|           6.5|               5|                     42|           7|           1|        132/87|        80|       4000|      Insomnia|                    1|                  1|   1:15|       1|           1|        1|\n",
      "|  Male| 30|              Doctor|           6.6|               7|                     73|           7|           1|        120/80|        70|       5000|          None|                    2|                  0|  23:30|       0|           0|        1|\n",
      "+------+---+--------------------+--------------+----------------+-----------------------+------------+------------+--------------+----------+-----------+--------------+---------------------+-------------------+-------+--------+------------+---------+\n",
      "only showing top 20 rows\n",
      "\n"
     ]
    }
   ],
   "source": [
    "# Changing to numerical values\n",
    "df_merged = df_merged.withColumn(\n",
    "    \"BMI Category\",\n",
    "    when(col(\"BMI Category\") == \"Normal\", 1)\n",
    "    .when(col(\"BMI Category\") == \"Overweight\", 2)\n",
    "    .when(col(\"BMI Category\") == \"Obese\", 3)\n",
    ")\n",
    "df_merged = df_merged.withColumn(\"BMI Category\", col(\"BMI Category\").cast(IntegerType()))\n",
    "df_merged.show()"
   ]
  },
  {
   "cell_type": "code",
   "execution_count": 50,
   "id": "326cb1c6",
   "metadata": {},
   "outputs": [
    {
     "name": "stdout",
     "output_type": "stream",
     "text": [
      "+------+-----+\n",
      "|Gender|count|\n",
      "+------+-----+\n",
      "|     F|    2|\n",
      "|Female|  183|\n",
      "|     M|    3|\n",
      "|  Male|  186|\n",
      "+------+-----+\n",
      "\n",
      "+------+-----+\n",
      "|Gender|count|\n",
      "+------+-----+\n",
      "|Female|  185|\n",
      "|  Male|  189|\n",
      "+------+-----+\n",
      "\n"
     ]
    }
   ],
   "source": [
    "# Before count\n",
    "df_merged.groupBy(\"Gender\").count().show()\n",
    "\n",
    "# Changing M and F naming conventions\n",
    "df_merged = df_merged.withColumn(\n",
    "    \"Gender\",\n",
    "    when(col(\"Gender\") == \"M\", \"Male\")\n",
    "    .when(col(\"Gender\") == \"F\", \"Female\")\n",
    "    .otherwise(col(\"Gender\"))\n",
    ")\n",
    "\n",
    "# After count\n",
    "df_merged.groupBy(\"Gender\").count().show()"
   ]
  },
  {
   "cell_type": "markdown",
   "id": "be7c2e46",
   "metadata": {},
   "source": [
    "## 4.1 Data Reduction"
   ]
  },
  {
   "cell_type": "code",
   "execution_count": 51,
   "id": "401394ed",
   "metadata": {},
   "outputs": [
    {
     "name": "stdout",
     "output_type": "stream",
     "text": [
      "90\n",
      "+------+---+--------------------+--------------+----------------+-----------------------+------------+------------+--------------+----------+-----------+--------------+---------------------+-------------------+-------+--------+------------+---------+\n",
      "|Gender|Age|          Occupation|Sleep Duration|Quality of Sleep|Physical Activity Level|Stress Level|BMI Category|Blood Pressure|Heart Rate|Daily Steps|Sleep Disorder|Quality_of_Sleep_Tier|Have_Sleep_Disorder|Bedtime|PhoneUse|WearsGlasses|Religious|\n",
      "+------+---+--------------------+--------------+----------------+-----------------------+------------+------------+--------------+----------+-----------+--------------+---------------------+-------------------+-------+--------+------------+---------+\n",
      "|  Male| 27|   Software Engineer|           6.1|               4|                     42|           6|           2|        126/83|        77|       5200|          None|                    1|                  0|   1:00|       1|           1|        1|\n",
      "|  Male| 28|              Doctor|           6.2|               4|                     82|           8|           1|        125/80|        75|       8000|          None|                    1|                  0|   0:30|       0|           0|        1|\n",
      "|  Male| 28|              Doctor|           6.2|               5|                     67|           8|           1|        125/80|        75|       6000|          None|                    1|                  0|   1:00|       1|           0|        1|\n",
      "|  Male| 28|Sales Representative|           5.9|               2|                     33|           8|           3|        140/90|        85|       2500|   Sleep Apnea|                    1|                  1|   1:00|       1|           0|        1|\n",
      "|  Male| 28|Sales Representative|           5.9|               2|                     31|           6|           3|        140/90|        85|       3000|   Sleep Apnea|                    1|                  1|   1:40|       1|           0|        1|\n",
      "|  Male| 28|   Software Engineer|           5.9|               3|                     30|           5|           3|        140/90|        85|       2800|      Insomnia|                    1|                  1|   3:00|       1|           0|        1|\n",
      "|  Male| 29|             Teacher|           6.3|               5|                     41|           6|           3|        140/90|        82|       3300|      Insomnia|                    1|                  1|   0:50|       1|           1|        1|\n",
      "|  Male| 29|              Doctor|           6.3|               6|                     75|           7|           1|        120/80|        70|       6000|          None|                    2|                  0|   2:50|       0|           0|        0|\n",
      "|  Male| 29|              Doctor|           6.4|               5|                     77|           7|           1|        120/80|        70|       4000|          None|                    1|                  0|   1:30|       1|           1|        1|\n",
      "|  Male| 29|              Doctor|           5.5|               6|                     71|           8|           1|        120/80|        70|       6000|          None|                    2|                  0|   3:30|       0|           1|        1|\n",
      "|  Male| 29|              Doctor|           5.7|               6|                     55|           7|           1|        120/80|        70|       8000|          None|                    2|                  0|   4:30|       0|           1|        1|\n",
      "|  Male| 29|              Doctor|           4.3|               2|                     72|           9|           2|        120/80|        88|       6000|      Insomnia|                    1|                  1|   3:00|       0|           1|        0|\n",
      "|  Male| 29|              Doctor|           5.3|               4|                     55|           8|           2|        120/80|        70|       4500|          None|                    1|                  0|   2:00|       1|           0|        0|\n",
      "|  Male| 29|              Doctor|           6.0|               6|                     42|           8|           1|        120/80|        70|       6000|          None|                    2|                  0|   0:50|       1|           1|        1|\n",
      "|  Male| 29|              Doctor|           5.6|               6|                     62|           8|           1|        120/80|        70|       5000|      Insomnia|                    2|                  1|   3:00|       1|           0|        1|\n",
      "|  Male| 29|              Doctor|           5.7|               6|                     44|           8|           1|        120/80|        70|       8000|      Insomnia|                    2|                  1|   2:20|       1|           1|        1|\n",
      "|Female| 29|               Nurse|           6.5|               5|                     30|           7|           1|        132/87|        80|       4000|   Sleep Apnea|                    1|                  1|   1:50|       1|           1|        1|\n",
      "|  Male| 29|              Doctor|           6.0|               6|                     38|           8|           1|        120/80|        70|       8000|   Sleep Apnea|                    2|                  1|   0:00|       1|           1|        0|\n",
      "|Female| 29|               Nurse|           6.5|               5|                     42|           7|           1|        132/87|        80|       4000|      Insomnia|                    1|                  1|   1:15|       1|           1|        1|\n",
      "|  Male| 30|              Doctor|           6.6|               7|                     73|           7|           1|        120/80|        70|       5000|          None|                    2|                  0|  23:30|       0|           0|        1|\n",
      "+------+---+--------------------+--------------+----------------+-----------------------+------------+------------+--------------+----------+-----------+--------------+---------------------+-------------------+-------+--------+------------+---------+\n",
      "only showing top 20 rows\n",
      "\n"
     ]
    }
   ],
   "source": [
    "low_qos = df_merged.filter(col(\"Quality_of_Sleep_Tier\") == 1)\n",
    "high_qos = df_merged.filter(col(\"Quality_of_Sleep_Tier\") == 3)\n",
    "print (low_qos.count())\n",
    "\n",
    "# Union the boosted rows original to oversample it by 2x (original + itself again)\n",
    "df_boosted = df_merged.union(low_qos).union(high_qos)\n",
    "df_boosted.show()\n",
    "\n"
   ]
  },
  {
   "cell_type": "code",
   "execution_count": 52,
   "id": "82825de8",
   "metadata": {},
   "outputs": [
    {
     "name": "stdout",
     "output_type": "stream",
     "text": [
      "554\n"
     ]
    },
    {
     "data": {
      "image/png": "[encoded data removed]",
      "text/plain": [
       "<Figure size 432x288 with 1 Axes>"
      ]
     },
     "metadata": {
      "needs_background": "light"
     },
     "output_type": "display_data"
    }
   ],
   "source": [
    "# Plot again\n",
    "sns.countplot(data=df_boosted.toPandas(), x=\"Quality_of_Sleep_Tier\", order=[1, 2, 3])\n",
    "# Add titles and labels\n",
    "plt.title(\"Quality of Sleep Tier Distribution\")\n",
    "plt.xlabel(\"Quality of Sleep Tier\")\n",
    "plt.ylabel(\"Count\")\n",
    "\n",
    "print (df_boosted.count())"
   ]
  },
  {
   "cell_type": "code",
   "execution_count": 53,
   "id": "b61e4386",
   "metadata": {},
   "outputs": [
    {
     "data": {
      "text/plain": [
       "<AxesSubplot:ylabel='Quality_of_Sleep_Tier'>"
      ]
     },
     "execution_count": 53,
     "metadata": {},
     "output_type": "execute_result"
    },
    {
     "data": {
      "image/png": "[encoded data removed]",
      "text/plain": [
       "<Figure size 432x288 with 1 Axes>"
      ]
     },
     "metadata": {},
     "output_type": "display_data"
    }
   ],
   "source": [
    "# Pie chart of Quality of Sleep Tier\n",
    "df_boosted.toPandas()[\"Quality_of_Sleep_Tier\"].value_counts().plot.pie()"
   ]
  },
  {
   "cell_type": "code",
   "execution_count": 54,
   "id": "f92b26a4",
   "metadata": {},
   "outputs": [
    {
     "name": "stdout",
     "output_type": "stream",
     "text": [
      "+-------------------+-----+\n",
      "|Have_Sleep_Disorder|count|\n",
      "+-------------------+-----+\n",
      "|                  1|  158|\n",
      "|                  0|  216|\n",
      "+-------------------+-----+\n",
      "\n",
      "+-------------------+-----+\n",
      "|Have_Sleep_Disorder|count|\n",
      "+-------------------+-----+\n",
      "|                  1|  223|\n",
      "|                  0|  331|\n",
      "+-------------------+-----+\n",
      "\n"
     ]
    },
    {
     "data": {
      "image/png": "[encoded data removed]",
      "text/plain": [
       "<Figure size 432x288 with 1 Axes>"
      ]
     },
     "metadata": {},
     "output_type": "display_data"
    }
   ],
   "source": [
    "# Pie chart of Have Sleep Disorder\n",
    "df_boosted.toPandas()['Have_Sleep_Disorder'].value_counts().plot.pie()\n",
    "# Count distribution\n",
    "# Before boost\n",
    "df_1_imp.groupBy(\"Have_Sleep_Disorder\").agg(count(\"Have_Sleep_Disorder\").alias(\"count\")).show()\n",
    "# After oversampling\n",
    "df_boosted.groupBy(\"Have_Sleep_Disorder\").agg(count(\"Have_Sleep_Disorder\").alias(\"count\")).show()"
   ]
  },
  {
   "cell_type": "code",
   "execution_count": 55,
   "id": "81631c9b",
   "metadata": {},
   "outputs": [
    {
     "name": "stdout",
     "output_type": "stream",
     "text": [
      "+------+---+--------------------+--------------+----------------+-----------------------+------------+------------+--------------+----------+-----------+--------------+---------------------+-------------------+-------+--------+------------+---------+\n",
      "|Gender|Age|          Occupation|Sleep Duration|Quality of Sleep|Physical Activity Level|Stress Level|BMI Category|Blood Pressure|Heart Rate|Daily Steps|Sleep Disorder|Quality_of_Sleep_Tier|Have_Sleep_Disorder|Bedtime|PhoneUse|WearsGlasses|Religious|\n",
      "+------+---+--------------------+--------------+----------------+-----------------------+------------+------------+--------------+----------+-----------+--------------+---------------------+-------------------+-------+--------+------------+---------+\n",
      "|  Male| 27|   Software Engineer|           6.1|               4|                     42|           6|           2|        126/83|        77|       5200|          None|                    1|                  0|   1:00|       1|           1|        1|\n",
      "|  Male| 28|              Doctor|           6.2|               4|                     82|           8|           1|        125/80|        75|       8000|          None|                    1|                  0|   0:30|       0|           0|        1|\n",
      "|  Male| 28|              Doctor|           6.2|               5|                     67|           8|           1|        125/80|        75|       6000|          None|                    1|                  0|   1:00|       1|           0|        1|\n",
      "|  Male| 28|Sales Representative|           5.9|               2|                     33|           8|           3|        140/90|        85|       2500|   Sleep Apnea|                    1|                  1|   1:00|       1|           0|        1|\n",
      "|  Male| 28|Sales Representative|           5.9|               2|                     31|           6|           3|        140/90|        85|       3000|   Sleep Apnea|                    1|                  1|   1:40|       1|           0|        1|\n",
      "|  Male| 28|   Software Engineer|           5.9|               3|                     30|           5|           3|        140/90|        85|       2800|      Insomnia|                    1|                  1|   3:00|       1|           0|        1|\n",
      "|  Male| 29|             Teacher|           6.3|               5|                     41|           6|           3|        140/90|        82|       3300|      Insomnia|                    1|                  1|   0:50|       1|           1|        1|\n",
      "|  Male| 29|              Doctor|           6.3|               6|                     75|           7|           1|        120/80|        70|       6000|          None|                    2|                  0|   2:50|       0|           0|        0|\n",
      "|  Male| 29|              Doctor|           6.4|               5|                     77|           7|           1|        120/80|        70|       4000|          None|                    1|                  0|   1:30|       1|           1|        1|\n",
      "|  Male| 29|              Doctor|           5.5|               6|                     71|           8|           1|        120/80|        70|       6000|          None|                    2|                  0|   3:30|       0|           1|        1|\n",
      "|  Male| 29|              Doctor|           5.7|               6|                     55|           7|           1|        120/80|        70|       8000|          None|                    2|                  0|   4:30|       0|           1|        1|\n",
      "|  Male| 29|              Doctor|           4.3|               2|                     72|           9|           2|        120/80|        88|       6000|      Insomnia|                    1|                  1|   3:00|       0|           1|        0|\n",
      "|  Male| 29|              Doctor|           5.3|               4|                     55|           8|           2|        120/80|        70|       4500|          None|                    1|                  0|   2:00|       1|           0|        0|\n",
      "|  Male| 29|              Doctor|           6.0|               6|                     42|           8|           1|        120/80|        70|       6000|          None|                    2|                  0|   0:50|       1|           1|        1|\n",
      "|  Male| 29|              Doctor|           5.6|               6|                     62|           8|           1|        120/80|        70|       5000|      Insomnia|                    2|                  1|   3:00|       1|           0|        1|\n",
      "|  Male| 29|              Doctor|           5.7|               6|                     44|           8|           1|        120/80|        70|       8000|      Insomnia|                    2|                  1|   2:20|       1|           1|        1|\n",
      "|Female| 29|               Nurse|           6.5|               5|                     30|           7|           1|        132/87|        80|       4000|   Sleep Apnea|                    1|                  1|   1:50|       1|           1|        1|\n",
      "|  Male| 29|              Doctor|           6.0|               6|                     38|           8|           1|        120/80|        70|       8000|   Sleep Apnea|                    2|                  1|   0:00|       1|           1|        0|\n",
      "|Female| 29|               Nurse|           6.5|               5|                     42|           7|           1|        132/87|        80|       4000|      Insomnia|                    1|                  1|   1:15|       1|           1|        1|\n",
      "|  Male| 30|              Doctor|           6.6|               7|                     73|           7|           1|        120/80|        70|       5000|          None|                    2|                  0|  23:30|       0|           0|        1|\n",
      "+------+---+--------------------+--------------+----------------+-----------------------+------------+------------+--------------+----------+-----------+--------------+---------------------+-------------------+-------+--------+------------+---------+\n",
      "only showing top 20 rows\n",
      "\n",
      "+-------------------+-----+\n",
      "|Have_Sleep_Disorder|count|\n",
      "+-------------------+-----+\n",
      "|                  1|  321|\n",
      "|                  0|  331|\n",
      "+-------------------+-----+\n",
      "\n"
     ]
    },
    {
     "data": {
      "image/png": "[encoded data removed]",
      "text/plain": [
       "<Figure size 432x288 with 1 Axes>"
      ]
     },
     "metadata": {},
     "output_type": "display_data"
    }
   ],
   "source": [
    "no_sd = df_boosted.filter(col(\"Have_Sleep_Disorder\") == 0)\n",
    "has_sd = df_boosted.filter(col(\"Have_Sleep_Disorder\") == 1)\n",
    "\n",
    "has_sd = has_sd.sample(withReplacement=True, fraction=0.5)\n",
    "\n",
    "\n",
    "# Union the boosted rows original to oversample it by 1.5x\n",
    "df_boosted = df_boosted.union(has_sd)\n",
    "df_boosted.show()\n",
    "\n",
    "# Pie chart of Have Sleep Disorder\n",
    "df_boosted.toPandas()[\"Have_Sleep_Disorder\"].value_counts().plot.pie()\n",
    "df_boosted.groupBy(\"Have_Sleep_Disorder\").agg(count(\"Have_Sleep_Disorder\").alias(\"count\")).show()"
   ]
  },
  {
   "cell_type": "code",
   "execution_count": 56,
   "id": "4bb7c996",
   "metadata": {},
   "outputs": [
    {
     "data": {
      "text/plain": [
       "652"
      ]
     },
     "execution_count": 56,
     "metadata": {},
     "output_type": "execute_result"
    }
   ],
   "source": [
    "# New sample size\n",
    "df_boosted.count()"
   ]
  },
  {
   "cell_type": "code",
   "execution_count": 57,
   "id": "6907770c",
   "metadata": {},
   "outputs": [
    {
     "name": "stdout",
     "output_type": "stream",
     "text": [
      "+---------------------+-----+\n",
      "|Quality_of_Sleep_Tier|count|\n",
      "+---------------------+-----+\n",
      "|                    1|  224|\n",
      "|                    3|  193|\n",
      "|                    2|  235|\n",
      "+---------------------+-----+\n",
      "\n"
     ]
    },
    {
     "data": {
      "image/png": "[encoded data removed]",
      "text/plain": [
       "<Figure size 432x288 with 1 Axes>"
      ]
     },
     "metadata": {},
     "output_type": "display_data"
    }
   ],
   "source": [
    "# Pie chart of Quality of Sleep Tier\n",
    "df_boosted.toPandas()[\"Quality_of_Sleep_Tier\"].value_counts().plot.pie()\n",
    "df_boosted.groupBy(\"Quality_of_Sleep_Tier\").agg(count(\"Quality_of_Sleep_Tier\").alias(\"count\")).show()"
   ]
  },
  {
   "cell_type": "code",
   "execution_count": 58,
   "id": "b850df8f",
   "metadata": {},
   "outputs": [
    {
     "name": "stdout",
     "output_type": "stream",
     "text": [
      "('Age', 'Sleep Duration', 0.3927868095888742)\n",
      "('Age', 'Quality of Sleep', 0.1097531151772011)\n",
      "('Age', 'Physical Activity Level', -0.40284345642048747)\n",
      "('Age', 'Stress Level', -0.17814265852110542)\n",
      "('Age', 'BMI Category', 0.33848308777415026)\n",
      "('Age', 'Heart Rate', -0.28178094006064375)\n",
      "('Age', 'Daily Steps', -0.07073466817320376)\n",
      "('Age', 'Quality_of_Sleep_Tier', 0.08044540179382485)\n",
      "('Age', 'Have_Sleep_Disorder', 0.359839197298397)\n",
      "('Age', 'PhoneUse', 0.09676799030993052)\n",
      "('Age', 'WearsGlasses', 0.16691328313501044)\n",
      "('Age', 'Religious', -0.07790858865218747)\n",
      "('Sleep Duration', 'Quality of Sleep', 0.5258107748861234)\n",
      "('Sleep Duration', 'Physical Activity Level', 0.16408207684903361)\n",
      "('Sleep Duration', 'Stress Level', -0.5963062787685084)\n",
      "('Sleep Duration', 'BMI Category', -0.4132629249974354)\n",
      "('Sleep Duration', 'Heart Rate', -0.5421402264035373)\n",
      "('Sleep Duration', 'Daily Steps', 0.27572601780228573)\n",
      "('Sleep Duration', 'Quality_of_Sleep_Tier', 0.48614492095816714)\n",
      "('Sleep Duration', 'Have_Sleep_Disorder', -0.2962670618777995)\n",
      "('Sleep Duration', 'PhoneUse', -0.029834460204636162)\n",
      "('Sleep Duration', 'WearsGlasses', 0.022541197535732978)\n",
      "('Sleep Duration', 'Religious', 0.028868493270800155)\n",
      "('Quality of Sleep', 'Physical Activity Level', 0.31732883778999055)\n",
      "('Quality of Sleep', 'Stress Level', -0.4253166156251285)\n",
      "('Quality of Sleep', 'BMI Category', -0.5046072041785498)\n",
      "('Quality of Sleep', 'Heart Rate', -0.507318034478439)\n",
      "('Quality of Sleep', 'Daily Steps', 0.41764388001239494)\n",
      "('Quality of Sleep', 'Quality_of_Sleep_Tier', 0.9156304602492324)\n",
      "('Quality of Sleep', 'Have_Sleep_Disorder', -0.36817603243640445)\n",
      "('Quality of Sleep', 'PhoneUse', -0.07041190101527298)\n",
      "('Quality of Sleep', 'WearsGlasses', 0.0800054444375268)\n",
      "('Quality of Sleep', 'Religious', 0.07038734741311295)\n",
      "('Physical Activity Level', 'Stress Level', -0.21265602516842294)\n",
      "('Physical Activity Level', 'BMI Category', -0.512590390488183)\n",
      "('Physical Activity Level', 'Heart Rate', -0.15195674683379512)\n",
      "('Physical Activity Level', 'Daily Steps', 0.6781849239762838)\n",
      "('Physical Activity Level', 'Quality_of_Sleep_Tier', 0.3201636791072759)\n",
      "('Physical Activity Level', 'Have_Sleep_Disorder', -0.48384860589445444)\n",
      "('Physical Activity Level', 'PhoneUse', -0.17601283399372022)\n",
      "('Physical Activity Level', 'WearsGlasses', -0.11327930147009904)\n",
      "('Physical Activity Level', 'Religious', -0.023180239998131746)\n",
      "('Stress Level', 'BMI Category', 0.40224479937666807)\n",
      "('Stress Level', 'Heart Rate', 0.5142153597015865)\n",
      "('Stress Level', 'Daily Steps', -0.2771143225035394)\n",
      "('Stress Level', 'Quality_of_Sleep_Tier', -0.3900728789446417)\n",
      "('Stress Level', 'Have_Sleep_Disorder', 0.36875813624272835)\n",
      "('Stress Level', 'PhoneUse', 0.00012199635467417556)\n",
      "('Stress Level', 'WearsGlasses', 0.035808350124151324)\n",
      "('Stress Level', 'Religious', -0.0506054155146756)\n",
      "('BMI Category', 'Heart Rate', 0.5029073480914074)\n",
      "('BMI Category', 'Daily Steps', -0.4853196222010553)\n",
      "('BMI Category', 'Quality_of_Sleep_Tier', -0.4582364266543753)\n",
      "('BMI Category', 'Have_Sleep_Disorder', 0.7382317471951103)\n",
      "('BMI Category', 'PhoneUse', 0.18489228661179324)\n",
      "('BMI Category', 'WearsGlasses', 0.10326323677926351)\n",
      "('BMI Category', 'Religious', -0.033416123797514054)\n",
      "('Heart Rate', 'Daily Steps', -0.3170531997926335)\n",
      "('Heart Rate', 'Quality_of_Sleep_Tier', -0.4146739300959067)\n",
      "('Heart Rate', 'Have_Sleep_Disorder', 0.35686653197764934)\n",
      "('Heart Rate', 'PhoneUse', 0.05609143362845725)\n",
      "('Heart Rate', 'WearsGlasses', -0.014019763355408955)\n",
      "('Heart Rate', 'Religious', 0.044577000853594013)\n",
      "('Daily Steps', 'Quality_of_Sleep_Tier', 0.42723467572177726)\n",
      "('Daily Steps', 'Have_Sleep_Disorder', -0.35171654065419766)\n",
      "('Daily Steps', 'PhoneUse', -0.06246234040468023)\n",
      "('Daily Steps', 'WearsGlasses', -0.008223108147977547)\n",
      "('Daily Steps', 'Religious', -0.03481295174017326)\n",
      "('Quality_of_Sleep_Tier', 'Have_Sleep_Disorder', -0.34485237742769026)\n",
      "('Quality_of_Sleep_Tier', 'PhoneUse', -0.04600909838425421)\n",
      "('Quality_of_Sleep_Tier', 'WearsGlasses', 0.0568776652431731)\n",
      "('Quality_of_Sleep_Tier', 'Religious', 0.037905371372936786)\n",
      "('Have_Sleep_Disorder', 'PhoneUse', 0.19109697267919162)\n",
      "('Have_Sleep_Disorder', 'WearsGlasses', 0.18970154718711424)\n",
      "('Have_Sleep_Disorder', 'Religious', -0.06474062123730112)\n",
      "('PhoneUse', 'WearsGlasses', -0.018773549349542448)\n",
      "('PhoneUse', 'Religious', -0.049004235158982966)\n",
      "('WearsGlasses', 'Religious', 0.06940142689827537)\n"
     ]
    }
   ],
   "source": [
    "# Correlation between all numerical values\n",
    "numerical_cols = [col_name for col_name, dtype in df_boosted.dtypes if dtype in [\"int\", \"float\"]]\n",
    "correlations = []\n",
    "\n",
    "# Loop through each pair of numerical columns to compute correlation\n",
    "for i in range(len(numerical_cols)):\n",
    "    for j in range(i + 1, len(numerical_cols)):\n",
    "        col1 = numerical_cols[i]\n",
    "        col2 = numerical_cols[j]\n",
    "        correlation = df_boosted.select(corr(col1, col2)).collect()[0][0]\n",
    "        correlations.append((col1, col2, correlation))\n",
    "\n",
    "# Print out correlation values in readable format\n",
    "for corr in correlations:\n",
    "    print (corr)"
   ]
  },
  {
   "cell_type": "code",
   "execution_count": 59,
   "id": "986093ee",
   "metadata": {},
   "outputs": [
    {
     "name": "stdout",
     "output_type": "stream",
     "text": [
      "root\n",
      " |-- Gender: string (nullable = true)\n",
      " |-- Age: integer (nullable = true)\n",
      " |-- Occupation: string (nullable = true)\n",
      " |-- Sleep Duration: float (nullable = true)\n",
      " |-- Quality of Sleep: integer (nullable = true)\n",
      " |-- Physical Activity Level: integer (nullable = true)\n",
      " |-- Stress Level: integer (nullable = true)\n",
      " |-- BMI Category: integer (nullable = true)\n",
      " |-- Blood Pressure: string (nullable = true)\n",
      " |-- Heart Rate: integer (nullable = true)\n",
      " |-- Daily Steps: integer (nullable = true)\n",
      " |-- Sleep Disorder: string (nullable = true)\n",
      " |-- Quality_of_Sleep_Tier: integer (nullable = true)\n",
      " |-- Have_Sleep_Disorder: integer (nullable = false)\n",
      " |-- Bedtime: string (nullable = true)\n",
      " |-- PhoneUse: integer (nullable = false)\n",
      " |-- WearsGlasses: integer (nullable = false)\n",
      " |-- Religious: integer (nullable = false)\n",
      "\n"
     ]
    }
   ],
   "source": [
    "df_boosted.printSchema()"
   ]
  },
  {
   "cell_type": "code",
   "execution_count": 73,
   "id": "2a1f4c90",
   "metadata": {},
   "outputs": [
    {
     "name": "stdout",
     "output_type": "stream",
     "text": [
      "+------+---+--------------------+--------------+-----------------------+------------+------------+--------------+----------+-----------+---------------------+-------------------+-------+--------+------------+---------+----------+--------------+------------------+-----------+--------------------+\n",
      "|Gender|Age|          Occupation|Sleep Duration|Physical Activity Level|Stress Level|BMI Category|Blood Pressure|Heart Rate|Daily Steps|Quality_of_Sleep_Tier|Have_Sleep_Disorder|Bedtime|PhoneUse|WearsGlasses|Religious|Gender_num|Occupation_num|Blood Pressure_num|Bedtime_num|            features|\n",
      "+------+---+--------------------+--------------+-----------------------+------------+------------+--------------+----------+-----------+---------------------+-------------------+-------+--------+------------+---------+----------+--------------+------------------+-----------+--------------------+\n",
      "|  Male| 27|   Software Engineer|           6.1|                     42|           6|           2|        126/83|        77|       5200|                    1|                  0|   1:00|       1|           1|        1|       1.0|           8.0|              20.0|        7.0|[1.0,8.0,20.0,7.0...|\n",
      "|  Male| 28|              Doctor|           6.2|                     82|           8|           1|        125/80|        75|       8000|                    1|                  0|   0:30|       0|           0|        1|       1.0|           2.0|               2.0|        4.0|[1.0,2.0,2.0,4.0,...|\n",
      "|  Male| 28|              Doctor|           6.2|                     67|           8|           1|        125/80|        75|       6000|                    1|                  0|   1:00|       1|           0|        1|       1.0|           2.0|               2.0|        7.0|[1.0,2.0,2.0,7.0,...|\n",
      "|  Male| 28|Sales Representative|           5.9|                     33|           8|           3|        140/90|        85|       2500|                    1|                  1|   1:00|       1|           0|        1|       1.0|           9.0|               6.0|        7.0|[1.0,9.0,6.0,7.0,...|\n",
      "|  Male| 28|Sales Representative|           5.9|                     31|           6|           3|        140/90|        85|       3000|                    1|                  1|   1:40|       1|           0|        1|       1.0|           9.0|               6.0|       16.0|[1.0,9.0,6.0,16.0...|\n",
      "|  Male| 28|   Software Engineer|           5.9|                     30|           5|           3|        140/90|        85|       2800|                    1|                  1|   3:00|       1|           0|        1|       1.0|           8.0|               6.0|       13.0|[1.0,8.0,6.0,13.0...|\n",
      "|  Male| 29|             Teacher|           6.3|                     41|           6|           3|        140/90|        82|       3300|                    1|                  1|   0:50|       1|           1|        1|       1.0|           4.0|               6.0|       14.0|[1.0,4.0,6.0,14.0...|\n",
      "|  Male| 29|              Doctor|           6.3|                     75|           7|           1|        120/80|        70|       6000|                    2|                  0|   2:50|       0|           0|        0|       1.0|           2.0|               3.0|       39.0|[1.0,2.0,3.0,39.0...|\n",
      "|  Male| 29|              Doctor|           6.4|                     77|           7|           1|        120/80|        70|       4000|                    1|                  0|   1:30|       1|           1|        1|       1.0|           2.0|               3.0|        2.0|[1.0,2.0,3.0,2.0,...|\n",
      "|  Male| 29|              Doctor|           5.5|                     71|           8|           1|        120/80|        70|       6000|                    2|                  0|   3:30|       0|           1|        1|       1.0|           2.0|               3.0|       29.0|[1.0,2.0,3.0,29.0...|\n",
      "|  Male| 29|              Doctor|           5.7|                     55|           7|           1|        120/80|        70|       8000|                    2|                  0|   4:30|       0|           1|        1|       1.0|           2.0|               3.0|       40.0|[1.0,2.0,3.0,40.0...|\n",
      "|  Male| 29|              Doctor|           4.3|                     72|           9|           2|        120/80|        88|       6000|                    1|                  1|   3:00|       0|           1|        0|       1.0|           2.0|               3.0|       13.0|[1.0,2.0,3.0,13.0...|\n",
      "|  Male| 29|              Doctor|           5.3|                     55|           8|           2|        120/80|        70|       4500|                    1|                  0|   2:00|       1|           0|        0|       1.0|           2.0|               3.0|        6.0|[1.0,2.0,3.0,6.0,...|\n",
      "|  Male| 29|              Doctor|           6.0|                     42|           8|           1|        120/80|        70|       6000|                    2|                  0|   0:50|       1|           1|        1|       1.0|           2.0|               3.0|       14.0|[1.0,2.0,3.0,14.0...|\n",
      "|  Male| 29|              Doctor|           5.6|                     62|           8|           1|        120/80|        70|       5000|                    2|                  1|   3:00|       1|           0|        1|       1.0|           2.0|               3.0|       13.0|[1.0,2.0,3.0,13.0...|\n",
      "|  Male| 29|              Doctor|           5.7|                     44|           8|           1|        120/80|        70|       8000|                    2|                  1|   2:20|       1|           1|        1|       1.0|           2.0|               3.0|       19.0|[1.0,2.0,3.0,19.0...|\n",
      "|Female| 29|               Nurse|           6.5|                     30|           7|           1|        132/87|        80|       4000|                    1|                  1|   1:50|       1|           1|        1|       0.0|           0.0|               7.0|       24.0|[0.0,0.0,7.0,24.0...|\n",
      "|  Male| 29|              Doctor|           6.0|                     38|           8|           1|        120/80|        70|       8000|                    2|                  1|   0:00|       1|           1|        0|       1.0|           2.0|               3.0|        0.0|[1.0,2.0,3.0,0.0,...|\n",
      "|Female| 29|               Nurse|           6.5|                     42|           7|           1|        132/87|        80|       4000|                    1|                  1|   1:15|       1|           1|        1|       0.0|           0.0|               7.0|        9.0|[0.0,0.0,7.0,9.0,...|\n",
      "|  Male| 30|              Doctor|           6.6|                     73|           7|           1|        120/80|        70|       5000|                    2|                  0|  23:30|       0|           0|        1|       1.0|           2.0|               3.0|        1.0|[1.0,2.0,3.0,1.0,...|\n",
      "+------+---+--------------------+--------------+-----------------------+------------+------------+--------------+----------+-----------+---------------------+-------------------+-------+--------+------------+---------+----------+--------------+------------------+-----------+--------------------+\n",
      "only showing top 20 rows\n",
      "\n"
     ]
    }
   ],
   "source": [
    "# Make a copy of df_boosted for correlation analysis\n",
    "df_corr = df_boosted\n",
    "df_corr = df_corr.drop(\"Quality of Sleep\")\n",
    "df_corr = df_corr.drop(\"Sleep Disorder\")\n",
    "\n",
    "# Identify numerical columns\n",
    "numerical_cols = [col_name for col_name, col_type in df_corr.dtypes if col_type != \"string\"]\n",
    "\n",
    "# Identify string categorical columns\n",
    "string_categorical_cols = [col_name for col_name, col_type in df_corr.dtypes if col_type == \"string\"]\n",
    "\n",
    "# Apply StringIndexer to string categorical columns\n",
    "indexers = [StringIndexer(inputCol=col, outputCol=col+\"_num\", handleInvalid=\"keep\").fit(df_corr) for col in string_categorical_cols]\n",
    "for indexer in indexers:\n",
    "    df_corr = indexer.transform(df_corr)\n",
    "# Assemble features into a vector column to allow for corr() \n",
    "assembler = VectorAssembler(inputCols=[col+\"_num\" for col in string_categorical_cols] + numerical_cols, outputCol=\"features\")\n",
    "df_corr = assembler.transform(df_corr)\n",
    "df_corr.show()"
   ]
  },
  {
   "cell_type": "code",
   "execution_count": 74,
   "id": "01d3d7cd",
   "metadata": {},
   "outputs": [
    {
     "name": "stdout",
     "output_type": "stream",
     "text": [
      "[[1.0, 0.24626651038273217, -0.09109567661895962, 0.04610345622944376, -0.5656304536998192, -0.256373177241351, 0.38630036100291976, 0.22515844600192414, -0.18551620161522922, 0.21456430307823168, 0.16259395906244287, -0.028119893222167344, -0.24041896114330408, -0.12484991743274322, -0.13770173898080704, 0.03793840277631675], [0.24626651038273217, 1.0, 0.16173638050331657, 0.0543440526744793, -0.4243566650504381, -0.2773826757520797, 0.09209903063473533, -0.008703662485095446, 0.16038642738864178, 0.12612288333385627, -0.0776552925062662, -0.09049253277868391, 0.022125856835544265, 0.002809368988794514, -0.05045761703268175, 0.010074519859758088], [-0.09109567661895962, 0.16173638050331657, 1.0, -0.038253961021411584, -0.2512634538120759, -0.14910363833661716, 0.030321367282862437, -0.01809029559467086, 0.1373916271525697, 0.2377215130731299, -0.14321267742884666, -0.10162301927970774, -0.08334028685716724, 0.11547014618398392, -0.015263718556354621, 0.08898792293974381], [0.04610345622944376, 0.0543440526744793, -0.038253961021411584, 1.0, -0.10121191702884143, -0.0842287469341978, -0.034083142763496686, 0.07851881820360886, 0.04442738981549875, 0.05292138991502194, -0.06499150745720138, -0.06067417212867354, 0.05131652238566429, -0.013827273262930602, 0.0067312348417901905, -0.09655377539458171], [-0.5656304536998192, -0.4243566650504381, -0.2512634538120759, -0.10121191702884143, 1.0, 0.39278680958887424, -0.40284345642048736, -0.17814265852110558, 0.3384830877741497, -0.28178094006064575, -0.07073466817320379, 0.08044540179382427, 0.359839197298396, 0.09676799030993033, 0.16691328313501025, -0.07790858865218774], [-0.256373177241351, -0.2773826757520797, -0.14910363833661716, -0.0842287469341978, 0.39278680958887424, 1.0, 0.16408207684903367, -0.5963062787685086, -0.41326292499743517, -0.5421402264035383, 0.27572601780228595, 0.48614492095816675, -0.2962670618777992, -0.02983446020463647, 0.022541197535732964, 0.028868493270800037], [0.38630036100291976, 0.09209903063473533, 0.030321367282862437, -0.034083142763496686, -0.40284345642048736, 0.16408207684903367, 1.0, -0.21265602516842336, -0.5125903904881819, -0.15195674683379437, 0.6781849239762835, 0.32016367910727594, -0.48384860589445383, -0.17601283399371997, -0.11327930147009892, -0.023180239998131645], [0.22515844600192414, -0.008703662485095446, -0.01809029559467086, 0.07851881820360886, -0.17814265852110558, -0.5963062787685086, -0.21265602516842336, 1.0, 0.40224479937666757, 0.5142153597015873, -0.2771143225035401, -0.3900728789446418, 0.36875813624272835, 0.00012199635467412614, 0.03580835012415135, -0.0506054155146754], [-0.18551620161522922, 0.16038642738864178, 0.1373916271525697, 0.04442738981549875, 0.3384830877741497, -0.41326292499743517, -0.5125903904881819, 0.40224479937666757, 1.0, 0.5029073480914055, -0.4853196222010553, -0.4582364266543729, 0.7382317471951113, 0.18489228661179233, 0.1032632367792631, -0.03341612379751407], [0.21456430307823168, 0.12612288333385627, 0.2377215130731299, 0.05292138991502194, -0.28178094006064575, -0.5421402264035383, -0.15195674683379437, 0.5142153597015873, 0.5029073480914055, 1.0, -0.31705319979263374, -0.41467393009590675, 0.35686653197764867, 0.056091433628457, -0.014019763355409352, 0.044577000853594236], [0.16259395906244287, -0.0776552925062662, -0.14321267742884666, -0.06499150745720138, -0.07073466817320379, 0.27572601780228595, 0.6781849239762835, -0.2771143225035401, -0.4853196222010553, -0.31705319979263374, 1.0, 0.42723467572177737, -0.3517165406541976, -0.062462340404680294, -0.008223108147977562, -0.03481295174017321], [-0.028119893222167344, -0.09049253277868391, -0.10162301927970774, -0.06067417212867354, 0.08044540179382427, 0.48614492095816675, 0.32016367910727594, -0.3900728789446418, -0.4582364266543729, -0.41467393009590675, 0.42723467572177737, 1.0, -0.34485237742768987, -0.046009098384254626, 0.05687766524317298, 0.037905371372936855], [-0.24041896114330408, 0.022125856835544265, -0.08334028685716724, 0.05131652238566429, 0.359839197298396, -0.2962670618777992, -0.48384860589445383, 0.36875813624272835, 0.7382317471951113, 0.35686653197764867, -0.3517165406541976, -0.34485237742768987, 1.0, 0.19109697267919115, 0.1897015471871134, -0.0647406212373011], [-0.12484991743274322, 0.002809368988794514, 0.11547014618398392, -0.013827273262930602, 0.09676799030993033, -0.02983446020463647, -0.17601283399371997, 0.00012199635467412614, 0.18489228661179233, 0.056091433628457, -0.062462340404680294, -0.046009098384254626, 0.19109697267919115, 1.0, -0.01877354934954245, -0.04900423515898292], [-0.13770173898080704, -0.05045761703268175, -0.015263718556354621, 0.0067312348417901905, 0.16691328313501025, 0.022541197535732964, -0.11327930147009892, 0.03580835012415135, 0.1032632367792631, -0.014019763355409352, -0.008223108147977562, 0.05687766524317298, 0.1897015471871134, -0.01877354934954245, 1.0, 0.06940142689827532], [0.03793840277631675, 0.010074519859758088, 0.08898792293974381, -0.09655377539458171, -0.07790858865218774, 0.028868493270800037, -0.023180239998131645, -0.0506054155146754, -0.03341612379751407, 0.044577000853594236, -0.03481295174017321, 0.037905371372936855, -0.0647406212373011, -0.04900423515898292, 0.06940142689827532, 1.0]]\n",
      "-RECORD 0----------------------------------------\n",
      " Age                     | 1.0                   \n",
      " Sleep Duration          | 0.24626651038273217   \n",
      " Physical Activity Level | -0.09109567661895962  \n",
      " Stress Level            | 0.04610345622944376   \n",
      " BMI Category            | -0.5656304536998192   \n",
      " Heart Rate              | -0.256373177241351    \n",
      " Daily Steps             | 0.38630036100291976   \n",
      " Quality_of_Sleep_Tier   | 0.22515844600192414   \n",
      " Have_Sleep_Disorder     | -0.18551620161522922  \n",
      " PhoneUse                | 0.21456430307823168   \n",
      " WearsGlasses            | 0.16259395906244287   \n",
      " Religious               | -0.028119893222167344 \n",
      " Gender_num              | -0.24041896114330408  \n",
      " Occupation_num          | -0.12484991743274322  \n",
      " Blood Pressure_num      | -0.13770173898080704  \n",
      " Bedtime_num             | 0.03793840277631675   \n",
      "-RECORD 1----------------------------------------\n",
      " Age                     | 0.24626651038273217   \n",
      " Sleep Duration          | 1.0                   \n",
      " Physical Activity Level | 0.16173638050331657   \n",
      " Stress Level            | 0.0543440526744793    \n",
      " BMI Category            | -0.4243566650504381   \n",
      " Heart Rate              | -0.2773826757520797   \n",
      " Daily Steps             | 0.09209903063473533   \n",
      " Quality_of_Sleep_Tier   | -0.008703662485095446 \n",
      " Have_Sleep_Disorder     | 0.16038642738864178   \n",
      " PhoneUse                | 0.12612288333385627   \n",
      " WearsGlasses            | -0.0776552925062662   \n",
      " Religious               | -0.09049253277868391  \n",
      " Gender_num              | 0.022125856835544265  \n",
      " Occupation_num          | 0.002809368988794514  \n",
      " Blood Pressure_num      | -0.05045761703268175  \n",
      " Bedtime_num             | 0.010074519859758088  \n",
      "-RECORD 2----------------------------------------\n",
      " Age                     | -0.09109567661895962  \n",
      " Sleep Duration          | 0.16173638050331657   \n",
      " Physical Activity Level | 1.0                   \n",
      " Stress Level            | -0.038253961021411584 \n",
      " BMI Category            | -0.2512634538120759   \n",
      " Heart Rate              | -0.14910363833661716  \n",
      " Daily Steps             | 0.030321367282862437  \n",
      " Quality_of_Sleep_Tier   | -0.01809029559467086  \n",
      " Have_Sleep_Disorder     | 0.1373916271525697    \n",
      " PhoneUse                | 0.2377215130731299    \n",
      " WearsGlasses            | -0.14321267742884666  \n",
      " Religious               | -0.10162301927970774  \n",
      " Gender_num              | -0.08334028685716724  \n",
      " Occupation_num          | 0.11547014618398392   \n",
      " Blood Pressure_num      | -0.015263718556354621 \n",
      " Bedtime_num             | 0.08898792293974381   \n",
      "-RECORD 3----------------------------------------\n",
      " Age                     | 0.04610345622944376   \n",
      " Sleep Duration          | 0.0543440526744793    \n",
      " Physical Activity Level | -0.038253961021411584 \n",
      " Stress Level            | 1.0                   \n",
      " BMI Category            | -0.10121191702884143  \n",
      " Heart Rate              | -0.0842287469341978   \n",
      " Daily Steps             | -0.034083142763496686 \n",
      " Quality_of_Sleep_Tier   | 0.07851881820360886   \n",
      " Have_Sleep_Disorder     | 0.04442738981549875   \n",
      " PhoneUse                | 0.05292138991502194   \n",
      " WearsGlasses            | -0.06499150745720138  \n",
      " Religious               | -0.06067417212867354  \n",
      " Gender_num              | 0.05131652238566429   \n",
      " Occupation_num          | -0.013827273262930602 \n",
      " Blood Pressure_num      | 0.0067312348417901905 \n",
      " Bedtime_num             | -0.09655377539458171  \n",
      "-RECORD 4----------------------------------------\n",
      " Age                     | -0.5656304536998192   \n",
      " Sleep Duration          | -0.4243566650504381   \n",
      " Physical Activity Level | -0.2512634538120759   \n",
      " Stress Level            | -0.10121191702884143  \n",
      " BMI Category            | 1.0                   \n",
      " Heart Rate              | 0.39278680958887424   \n",
      " Daily Steps             | -0.40284345642048736  \n",
      " Quality_of_Sleep_Tier   | -0.17814265852110558  \n",
      " Have_Sleep_Disorder     | 0.3384830877741497    \n",
      " PhoneUse                | -0.28178094006064575  \n",
      " WearsGlasses            | -0.07073466817320379  \n",
      " Religious               | 0.08044540179382427   \n",
      " Gender_num              | 0.359839197298396     \n",
      " Occupation_num          | 0.09676799030993033   \n",
      " Blood Pressure_num      | 0.16691328313501025   \n",
      " Bedtime_num             | -0.07790858865218774  \n",
      "-RECORD 5----------------------------------------\n",
      " Age                     | -0.256373177241351    \n",
      " Sleep Duration          | -0.2773826757520797   \n",
      " Physical Activity Level | -0.14910363833661716  \n",
      " Stress Level            | -0.0842287469341978   \n",
      " BMI Category            | 0.39278680958887424   \n",
      " Heart Rate              | 1.0                   \n",
      " Daily Steps             | 0.16408207684903367   \n",
      " Quality_of_Sleep_Tier   | -0.5963062787685086   \n",
      " Have_Sleep_Disorder     | -0.41326292499743517  \n",
      " PhoneUse                | -0.5421402264035383   \n",
      " WearsGlasses            | 0.27572601780228595   \n",
      " Religious               | 0.48614492095816675   \n",
      " Gender_num              | -0.2962670618777992   \n",
      " Occupation_num          | -0.02983446020463647  \n",
      " Blood Pressure_num      | 0.022541197535732964  \n",
      " Bedtime_num             | 0.028868493270800037  \n",
      "-RECORD 6----------------------------------------\n",
      " Age                     | 0.38630036100291976   \n",
      " Sleep Duration          | 0.09209903063473533   \n",
      " Physical Activity Level | 0.030321367282862437  \n",
      " Stress Level            | -0.034083142763496686 \n",
      " BMI Category            | -0.40284345642048736  \n",
      " Heart Rate              | 0.16408207684903367   \n",
      " Daily Steps             | 1.0                   \n",
      " Quality_of_Sleep_Tier   | -0.21265602516842336  \n",
      " Have_Sleep_Disorder     | -0.5125903904881819   \n",
      " PhoneUse                | -0.15195674683379437  \n",
      " WearsGlasses            | 0.6781849239762835    \n",
      " Religious               | 0.32016367910727594   \n",
      " Gender_num              | -0.48384860589445383  \n",
      " Occupation_num          | -0.17601283399371997  \n",
      " Blood Pressure_num      | -0.11327930147009892  \n",
      " Bedtime_num             | -0.023180239998131645 \n",
      "-RECORD 7----------------------------------------\n",
      " Age                     | 0.22515844600192414   \n",
      " Sleep Duration          | -0.008703662485095446 \n",
      " Physical Activity Level | -0.01809029559467086  \n",
      " Stress Level            | 0.07851881820360886   \n",
      " BMI Category            | -0.17814265852110558  \n",
      " Heart Rate              | -0.5963062787685086   \n",
      " Daily Steps             | -0.21265602516842336  \n",
      " Quality_of_Sleep_Tier   | 1.0                   \n",
      " Have_Sleep_Disorder     | 0.40224479937666757   \n",
      " PhoneUse                | 0.5142153597015873    \n",
      " WearsGlasses            | -0.2771143225035401   \n",
      " Religious               | -0.3900728789446418   \n",
      " Gender_num              | 0.36875813624272835   \n",
      " Occupation_num          | 1.2199635467412614E-4 \n",
      " Blood Pressure_num      | 0.03580835012415135   \n",
      " Bedtime_num             | -0.0506054155146754   \n",
      "-RECORD 8----------------------------------------\n",
      " Age                     | -0.18551620161522922  \n",
      " Sleep Duration          | 0.16038642738864178   \n",
      " Physical Activity Level | 0.1373916271525697    \n",
      " Stress Level            | 0.04442738981549875   \n",
      " BMI Category            | 0.3384830877741497    \n",
      " Heart Rate              | -0.41326292499743517  \n",
      " Daily Steps             | -0.5125903904881819   \n",
      " Quality_of_Sleep_Tier   | 0.40224479937666757   \n",
      " Have_Sleep_Disorder     | 1.0                   \n",
      " PhoneUse                | 0.5029073480914055    \n",
      " WearsGlasses            | -0.4853196222010553   \n",
      " Religious               | -0.4582364266543729   \n",
      " Gender_num              | 0.7382317471951113    \n",
      " Occupation_num          | 0.18489228661179233   \n",
      " Blood Pressure_num      | 0.1032632367792631    \n",
      " Bedtime_num             | -0.03341612379751407  \n",
      "-RECORD 9----------------------------------------\n",
      " Age                     | 0.21456430307823168   \n",
      " Sleep Duration          | 0.12612288333385627   \n",
      " Physical Activity Level | 0.2377215130731299    \n",
      " Stress Level            | 0.05292138991502194   \n",
      " BMI Category            | -0.28178094006064575  \n",
      " Heart Rate              | -0.5421402264035383   \n",
      " Daily Steps             | -0.15195674683379437  \n",
      " Quality_of_Sleep_Tier   | 0.5142153597015873    \n",
      " Have_Sleep_Disorder     | 0.5029073480914055    \n",
      " PhoneUse                | 1.0                   \n",
      " WearsGlasses            | -0.31705319979263374  \n",
      " Religious               | -0.41467393009590675  \n",
      " Gender_num              | 0.35686653197764867   \n",
      " Occupation_num          | 0.056091433628457     \n",
      " Blood Pressure_num      | -0.014019763355409352 \n",
      " Bedtime_num             | 0.044577000853594236  \n",
      "-RECORD 10---------------------------------------\n",
      " Age                     | 0.16259395906244287   \n",
      " Sleep Duration          | -0.0776552925062662   \n",
      " Physical Activity Level | -0.14321267742884666  \n",
      " Stress Level            | -0.06499150745720138  \n",
      " BMI Category            | -0.07073466817320379  \n",
      " Heart Rate              | 0.27572601780228595   \n",
      " Daily Steps             | 0.6781849239762835    \n",
      " Quality_of_Sleep_Tier   | -0.2771143225035401   \n",
      " Have_Sleep_Disorder     | -0.4853196222010553   \n",
      " PhoneUse                | -0.31705319979263374  \n",
      " WearsGlasses            | 1.0                   \n",
      " Religious               | 0.42723467572177737   \n",
      " Gender_num              | -0.3517165406541976   \n",
      " Occupation_num          | -0.062462340404680294 \n",
      " Blood Pressure_num      | -0.008223108147977562 \n",
      " Bedtime_num             | -0.03481295174017321  \n",
      "-RECORD 11---------------------------------------\n",
      " Age                     | -0.028119893222167344 \n",
      " Sleep Duration          | -0.09049253277868391  \n",
      " Physical Activity Level | -0.10162301927970774  \n",
      " Stress Level            | -0.06067417212867354  \n",
      " BMI Category            | 0.08044540179382427   \n",
      " Heart Rate              | 0.48614492095816675   \n",
      " Daily Steps             | 0.32016367910727594   \n",
      " Quality_of_Sleep_Tier   | -0.3900728789446418   \n",
      " Have_Sleep_Disorder     | -0.4582364266543729   \n",
      " PhoneUse                | -0.41467393009590675  \n",
      " WearsGlasses            | 0.42723467572177737   \n",
      " Religious               | 1.0                   \n",
      " Gender_num              | -0.34485237742768987  \n",
      " Occupation_num          | -0.046009098384254626 \n",
      " Blood Pressure_num      | 0.05687766524317298   \n",
      " Bedtime_num             | 0.037905371372936855  \n",
      "-RECORD 12---------------------------------------\n",
      " Age                     | -0.24041896114330408  \n",
      " Sleep Duration          | 0.022125856835544265  \n",
      " Physical Activity Level | -0.08334028685716724  \n",
      " Stress Level            | 0.05131652238566429   \n",
      " BMI Category            | 0.359839197298396     \n",
      " Heart Rate              | -0.2962670618777992   \n",
      " Daily Steps             | -0.48384860589445383  \n",
      " Quality_of_Sleep_Tier   | 0.36875813624272835   \n",
      " Have_Sleep_Disorder     | 0.7382317471951113    \n",
      " PhoneUse                | 0.35686653197764867   \n",
      " WearsGlasses            | -0.3517165406541976   \n",
      " Religious               | -0.34485237742768987  \n",
      " Gender_num              | 1.0                   \n",
      " Occupation_num          | 0.19109697267919115   \n",
      " Blood Pressure_num      | 0.1897015471871134    \n",
      " Bedtime_num             | -0.0647406212373011   \n",
      "-RECORD 13---------------------------------------\n",
      " Age                     | -0.12484991743274322  \n",
      " Sleep Duration          | 0.002809368988794514  \n",
      " Physical Activity Level | 0.11547014618398392   \n",
      " Stress Level            | -0.013827273262930602 \n",
      " BMI Category            | 0.09676799030993033   \n",
      " Heart Rate              | -0.02983446020463647  \n",
      " Daily Steps             | -0.17601283399371997  \n",
      " Quality_of_Sleep_Tier   | 1.2199635467412614E-4 \n",
      " Have_Sleep_Disorder     | 0.18489228661179233   \n",
      " PhoneUse                | 0.056091433628457     \n",
      " WearsGlasses            | -0.062462340404680294 \n",
      " Religious               | -0.046009098384254626 \n",
      " Gender_num              | 0.19109697267919115   \n",
      " Occupation_num          | 1.0                   \n",
      " Blood Pressure_num      | -0.01877354934954245  \n",
      " Bedtime_num             | -0.04900423515898292  \n",
      "-RECORD 14---------------------------------------\n",
      " Age                     | -0.13770173898080704  \n",
      " Sleep Duration          | -0.05045761703268175  \n",
      " Physical Activity Level | -0.015263718556354621 \n",
      " Stress Level            | 0.0067312348417901905 \n",
      " BMI Category            | 0.16691328313501025   \n",
      " Heart Rate              | 0.022541197535732964  \n",
      " Daily Steps             | -0.11327930147009892  \n",
      " Quality_of_Sleep_Tier   | 0.03580835012415135   \n",
      " Have_Sleep_Disorder     | 0.1032632367792631    \n",
      " PhoneUse                | -0.014019763355409352 \n",
      " WearsGlasses            | -0.008223108147977562 \n",
      " Religious               | 0.05687766524317298   \n",
      " Gender_num              | 0.1897015471871134    \n",
      " Occupation_num          | -0.01877354934954245  \n",
      " Blood Pressure_num      | 1.0                   \n",
      " Bedtime_num             | 0.06940142689827532   \n",
      "-RECORD 15---------------------------------------\n",
      " Age                     | 0.03793840277631675   \n",
      " Sleep Duration          | 0.010074519859758088  \n",
      " Physical Activity Level | 0.08898792293974381   \n",
      " Stress Level            | -0.09655377539458171  \n",
      " BMI Category            | -0.07790858865218774  \n",
      " Heart Rate              | 0.028868493270800037  \n",
      " Daily Steps             | -0.023180239998131645 \n",
      " Quality_of_Sleep_Tier   | -0.0506054155146754   \n",
      " Have_Sleep_Disorder     | -0.03341612379751407  \n",
      " PhoneUse                | 0.044577000853594236  \n",
      " WearsGlasses            | -0.03481295174017321  \n",
      " Religious               | 0.037905371372936855  \n",
      " Gender_num              | -0.0647406212373011   \n",
      " Occupation_num          | -0.04900423515898292  \n",
      " Blood Pressure_num      | 0.06940142689827532   \n",
      " Bedtime_num             | 1.0                   \n",
      "\n"
     ]
    }
   ],
   "source": [
    "# Correlation matrix\n",
    "matrix = Correlation.corr(df_corr, \"features\")\n",
    "\n",
    "# Extract correlation matrix as a numpy array\n",
    "correlation_matrix = matrix.collect()[0][\"pearson(features)\"].toArray()\n",
    "print (correlation_matrix.tolist())\n",
    "\n",
    "# Convert correlation matrix to DataFrame for easier formatting\n",
    "correlation_matrix_df = spark.createDataFrame(correlation_matrix.tolist(), numerical_cols + [col+\"_num\" for col in string_categorical_cols])\n",
    "correlation_matrix_df.show(truncate=False, vertical=True)\n"
   ]
  },
  {
   "cell_type": "code",
   "execution_count": 75,
   "id": "0ee37c31",
   "metadata": {},
   "outputs": [
    {
     "name": "stdout",
     "output_type": "stream",
     "text": [
      "+------+---+--------------------+--------------+-----------------------+------------+------------+--------------+-----------+---------------------+-------------------+-------+--------+\n",
      "|Gender|Age|          Occupation|Sleep Duration|Physical Activity Level|Stress Level|BMI Category|Blood Pressure|Daily Steps|Quality_of_Sleep_Tier|Have_Sleep_Disorder|Bedtime|PhoneUse|\n",
      "+------+---+--------------------+--------------+-----------------------+------------+------------+--------------+-----------+---------------------+-------------------+-------+--------+\n",
      "|  Male| 27|   Software Engineer|           6.1|                     42|           6|           2|        126/83|       5200|                    1|                  0|   1:00|       1|\n",
      "|  Male| 28|              Doctor|           6.2|                     82|           8|           1|        125/80|       8000|                    1|                  0|   0:30|       0|\n",
      "|  Male| 28|              Doctor|           6.2|                     67|           8|           1|        125/80|       6000|                    1|                  0|   1:00|       1|\n",
      "|  Male| 28|Sales Representative|           5.9|                     33|           8|           3|        140/90|       2500|                    1|                  1|   1:00|       1|\n",
      "|  Male| 28|Sales Representative|           5.9|                     31|           6|           3|        140/90|       3000|                    1|                  1|   1:40|       1|\n",
      "|  Male| 28|   Software Engineer|           5.9|                     30|           5|           3|        140/90|       2800|                    1|                  1|   3:00|       1|\n",
      "|  Male| 29|             Teacher|           6.3|                     41|           6|           3|        140/90|       3300|                    1|                  1|   0:50|       1|\n",
      "|  Male| 29|              Doctor|           6.3|                     75|           7|           1|        120/80|       6000|                    2|                  0|   2:50|       0|\n",
      "|  Male| 29|              Doctor|           6.4|                     77|           7|           1|        120/80|       4000|                    1|                  0|   1:30|       1|\n",
      "|  Male| 29|              Doctor|           5.5|                     71|           8|           1|        120/80|       6000|                    2|                  0|   3:30|       0|\n",
      "|  Male| 29|              Doctor|           5.7|                     55|           7|           1|        120/80|       8000|                    2|                  0|   4:30|       0|\n",
      "|  Male| 29|              Doctor|           4.3|                     72|           9|           2|        120/80|       6000|                    1|                  1|   3:00|       0|\n",
      "|  Male| 29|              Doctor|           5.3|                     55|           8|           2|        120/80|       4500|                    1|                  0|   2:00|       1|\n",
      "|  Male| 29|              Doctor|           6.0|                     42|           8|           1|        120/80|       6000|                    2|                  0|   0:50|       1|\n",
      "|  Male| 29|              Doctor|           5.6|                     62|           8|           1|        120/80|       5000|                    2|                  1|   3:00|       1|\n",
      "|  Male| 29|              Doctor|           5.7|                     44|           8|           1|        120/80|       8000|                    2|                  1|   2:20|       1|\n",
      "|Female| 29|               Nurse|           6.5|                     30|           7|           1|        132/87|       4000|                    1|                  1|   1:50|       1|\n",
      "|  Male| 29|              Doctor|           6.0|                     38|           8|           1|        120/80|       8000|                    2|                  1|   0:00|       1|\n",
      "|Female| 29|               Nurse|           6.5|                     42|           7|           1|        132/87|       4000|                    1|                  1|   1:15|       1|\n",
      "|  Male| 30|              Doctor|           6.6|                     73|           7|           1|        120/80|       5000|                    2|                  0|  23:30|       0|\n",
      "+------+---+--------------------+--------------+-----------------------+------------+------------+--------------+-----------+---------------------+-------------------+-------+--------+\n",
      "only showing top 20 rows\n",
      "\n"
     ]
    }
   ],
   "source": [
    "# Creating final df to hold our remaining features\n",
    "df_final = df_boosted\n",
    "df_final = df_final.drop(\"Quality of Sleep\")\n",
    "df_final = df_final.drop(\"Sleep Disorder\")\n",
    "df_final = df_final.drop(\"Religious\")\n",
    "df_final = df_final.drop(\"WearsGlasses\")\n",
    "df_final = df_final.drop(\"Heart Rate\")\n",
    "df_final.show()"
   ]
  },
  {
   "cell_type": "code",
   "execution_count": 76,
   "id": "6ac5c219",
   "metadata": {},
   "outputs": [
    {
     "name": "stdout",
     "output_type": "stream",
     "text": [
      "root\n",
      " |-- Gender: string (nullable = true)\n",
      " |-- Age: integer (nullable = true)\n",
      " |-- Occupation: string (nullable = true)\n",
      " |-- Sleep Duration: float (nullable = true)\n",
      " |-- Physical Activity Level: integer (nullable = true)\n",
      " |-- Stress Level: integer (nullable = true)\n",
      " |-- BMI Category: integer (nullable = true)\n",
      " |-- Blood Pressure: string (nullable = true)\n",
      " |-- Daily Steps: integer (nullable = true)\n",
      " |-- Quality_of_Sleep_Tier: integer (nullable = true)\n",
      " |-- Have_Sleep_Disorder: integer (nullable = false)\n",
      " |-- Bedtime: string (nullable = true)\n",
      " |-- PhoneUse: integer (nullable = false)\n",
      "\n"
     ]
    }
   ],
   "source": [
    "df_final.printSchema()"
   ]
  },
  {
   "cell_type": "code",
   "execution_count": 78,
   "id": "94c8da70",
   "metadata": {},
   "outputs": [
    {
     "name": "stdout",
     "output_type": "stream",
     "text": [
      "42\n",
      "25\n",
      "11\n"
     ]
    }
   ],
   "source": [
    "# Count of unique values \n",
    "print(df_final.select(\"Bedtime\").distinct().count())\n",
    "print(df_final.select(\"Blood Pressure\").distinct().count())\n",
    "print(df_final.select(\"Occupation\").distinct().count())\n"
   ]
  },
  {
   "cell_type": "code",
   "execution_count": 81,
   "id": "6e00071f",
   "metadata": {},
   "outputs": [
    {
     "name": "stdout",
     "output_type": "stream",
     "text": [
      "+------+---+--------------------+--------------+-----------------------+------------+------------+-----------+---------------------+-------------------+-------+--------+--------+---------+\n",
      "|Gender|Age|          Occupation|Sleep Duration|Physical Activity Level|Stress Level|BMI Category|Daily Steps|Quality_of_Sleep_Tier|Have_Sleep_Disorder|Bedtime|PhoneUse|Systolic|Diastolic|\n",
      "+------+---+--------------------+--------------+-----------------------+------------+------------+-----------+---------------------+-------------------+-------+--------+--------+---------+\n",
      "|  Male| 27|   Software Engineer|           6.1|                     42|           6|           2|       5200|                    1|                  0|   1:00|       1|     126|       83|\n",
      "|  Male| 28|              Doctor|           6.2|                     82|           8|           1|       8000|                    1|                  0|   0:30|       0|     125|       80|\n",
      "|  Male| 28|              Doctor|           6.2|                     67|           8|           1|       6000|                    1|                  0|   1:00|       1|     125|       80|\n",
      "|  Male| 28|Sales Representative|           5.9|                     33|           8|           3|       2500|                    1|                  1|   1:00|       1|     140|       90|\n",
      "|  Male| 28|Sales Representative|           5.9|                     31|           6|           3|       3000|                    1|                  1|   1:40|       1|     140|       90|\n",
      "|  Male| 28|   Software Engineer|           5.9|                     30|           5|           3|       2800|                    1|                  1|   3:00|       1|     140|       90|\n",
      "|  Male| 29|             Teacher|           6.3|                     41|           6|           3|       3300|                    1|                  1|   0:50|       1|     140|       90|\n",
      "|  Male| 29|              Doctor|           6.3|                     75|           7|           1|       6000|                    2|                  0|   2:50|       0|     120|       80|\n",
      "|  Male| 29|              Doctor|           6.4|                     77|           7|           1|       4000|                    1|                  0|   1:30|       1|     120|       80|\n",
      "|  Male| 29|              Doctor|           5.5|                     71|           8|           1|       6000|                    2|                  0|   3:30|       0|     120|       80|\n",
      "|  Male| 29|              Doctor|           5.7|                     55|           7|           1|       8000|                    2|                  0|   4:30|       0|     120|       80|\n",
      "|  Male| 29|              Doctor|           4.3|                     72|           9|           2|       6000|                    1|                  1|   3:00|       0|     120|       80|\n",
      "|  Male| 29|              Doctor|           5.3|                     55|           8|           2|       4500|                    1|                  0|   2:00|       1|     120|       80|\n",
      "|  Male| 29|              Doctor|           6.0|                     42|           8|           1|       6000|                    2|                  0|   0:50|       1|     120|       80|\n",
      "|  Male| 29|              Doctor|           5.6|                     62|           8|           1|       5000|                    2|                  1|   3:00|       1|     120|       80|\n",
      "|  Male| 29|              Doctor|           5.7|                     44|           8|           1|       8000|                    2|                  1|   2:20|       1|     120|       80|\n",
      "|Female| 29|               Nurse|           6.5|                     30|           7|           1|       4000|                    1|                  1|   1:50|       1|     132|       87|\n",
      "|  Male| 29|              Doctor|           6.0|                     38|           8|           1|       8000|                    2|                  1|   0:00|       1|     120|       80|\n",
      "|Female| 29|               Nurse|           6.5|                     42|           7|           1|       4000|                    1|                  1|   1:15|       1|     132|       87|\n",
      "|  Male| 30|              Doctor|           6.6|                     73|           7|           1|       5000|                    2|                  0|  23:30|       0|     120|       80|\n",
      "+------+---+--------------------+--------------+-----------------------+------------+------------+-----------+---------------------+-------------------+-------+--------+--------+---------+\n",
      "only showing top 20 rows\n",
      "\n"
     ]
    }
   ],
   "source": [
    "# Split Blood Pressure based on /\n",
    "df_bp = df_final.withColumn(\"BP_Array\", split(col(\"Blood Pressure\"), \"/\"))\n",
    "\n",
    "# Create Systolic and Diastolic columns from the array\n",
    "df_bp = df_bp.withColumn(\"Systolic\", col(\"BP_Array\").getItem(0).cast(\"int\"))\n",
    "df_bp = df_bp.withColumn(\"Diastolic\", col(\"BP_Array\").getItem(1).cast(\"int\"))\n",
    "\n",
    "# Drop the array and Blood Pressure\n",
    "df_bp = df_bp.drop(\"BP_Array\")\n",
    "df_bp = df_bp.drop(\"Blood Pressure\")\n",
    "df_bp.show()"
   ]
  },
  {
   "cell_type": "code",
   "execution_count": 95,
   "id": "c418e456",
   "metadata": {},
   "outputs": [
    {
     "name": "stdout",
     "output_type": "stream",
     "text": [
      "+------+---+--------------+-----------------------+------------+------------+-----------+---------------------+-------------------+-------+--------+--------+---------+----------------+\n",
      "|Gender|Age|Sleep Duration|Physical Activity Level|Stress Level|BMI Category|Daily Steps|Quality_of_Sleep_Tier|Have_Sleep_Disorder|Bedtime|PhoneUse|Systolic|Diastolic|OccupationVector|\n",
      "+------+---+--------------+-----------------------+------------+------------+-----------+---------------------+-------------------+-------+--------+--------+---------+----------------+\n",
      "|  Male| 27|           6.1|                     42|           6|           2|       5200|                    1|                  0|   1:00|       1|     126|       83|  (10,[8],[1.0])|\n",
      "|  Male| 28|           6.2|                     82|           8|           1|       8000|                    1|                  0|   0:30|       0|     125|       80|  (10,[2],[1.0])|\n",
      "|  Male| 28|           6.2|                     67|           8|           1|       6000|                    1|                  0|   1:00|       1|     125|       80|  (10,[2],[1.0])|\n",
      "|  Male| 28|           5.9|                     33|           8|           3|       2500|                    1|                  1|   1:00|       1|     140|       90|  (10,[9],[1.0])|\n",
      "|  Male| 28|           5.9|                     31|           6|           3|       3000|                    1|                  1|   1:40|       1|     140|       90|  (10,[9],[1.0])|\n",
      "|  Male| 28|           5.9|                     30|           5|           3|       2800|                    1|                  1|   3:00|       1|     140|       90|  (10,[8],[1.0])|\n",
      "|  Male| 29|           6.3|                     41|           6|           3|       3300|                    1|                  1|   0:50|       1|     140|       90|  (10,[4],[1.0])|\n",
      "|  Male| 29|           6.3|                     75|           7|           1|       6000|                    2|                  0|   2:50|       0|     120|       80|  (10,[2],[1.0])|\n",
      "|  Male| 29|           6.4|                     77|           7|           1|       4000|                    1|                  0|   1:30|       1|     120|       80|  (10,[2],[1.0])|\n",
      "|  Male| 29|           5.5|                     71|           8|           1|       6000|                    2|                  0|   3:30|       0|     120|       80|  (10,[2],[1.0])|\n",
      "|  Male| 29|           5.7|                     55|           7|           1|       8000|                    2|                  0|   4:30|       0|     120|       80|  (10,[2],[1.0])|\n",
      "|  Male| 29|           4.3|                     72|           9|           2|       6000|                    1|                  1|   3:00|       0|     120|       80|  (10,[2],[1.0])|\n",
      "|  Male| 29|           5.3|                     55|           8|           2|       4500|                    1|                  0|   2:00|       1|     120|       80|  (10,[2],[1.0])|\n",
      "|  Male| 29|           6.0|                     42|           8|           1|       6000|                    2|                  0|   0:50|       1|     120|       80|  (10,[2],[1.0])|\n",
      "|  Male| 29|           5.6|                     62|           8|           1|       5000|                    2|                  1|   3:00|       1|     120|       80|  (10,[2],[1.0])|\n",
      "|  Male| 29|           5.7|                     44|           8|           1|       8000|                    2|                  1|   2:20|       1|     120|       80|  (10,[2],[1.0])|\n",
      "|Female| 29|           6.5|                     30|           7|           1|       4000|                    1|                  1|   1:50|       1|     132|       87|  (10,[0],[1.0])|\n",
      "|  Male| 29|           6.0|                     38|           8|           1|       8000|                    2|                  1|   0:00|       1|     120|       80|  (10,[2],[1.0])|\n",
      "|Female| 29|           6.5|                     42|           7|           1|       4000|                    1|                  1|   1:15|       1|     132|       87|  (10,[0],[1.0])|\n",
      "|  Male| 30|           6.6|                     73|           7|           1|       5000|                    2|                  0|  23:30|       0|     120|       80|  (10,[2],[1.0])|\n",
      "+------+---+--------------+-----------------------+------------+------------+-----------+---------------------+-------------------+-------+--------+--------+---------+----------------+\n",
      "only showing top 20 rows\n",
      "\n",
      "+--------------------+-----+\n",
      "|          Occupation|count|\n",
      "+--------------------+-----+\n",
      "|           Scientist|    9|\n",
      "|               Nurse|  143|\n",
      "|         Salesperson|   57|\n",
      "|              Lawyer|   80|\n",
      "|             Teacher|   76|\n",
      "|Sales Representative|    6|\n",
      "|              Doctor|   95|\n",
      "|            Engineer|  117|\n",
      "|          Accountant|   60|\n",
      "|             Manager|    1|\n",
      "|   Software Engineer|    8|\n",
      "+--------------------+-----+\n",
      "\n"
     ]
    }
   ],
   "source": [
    "# String index for Occupation\n",
    "indexer = StringIndexer(inputCol=\"Occupation\", outputCol=\"OccupationIndex\")\n",
    "df_occ = indexer.fit(df_bp).transform(df_bp)\n",
    "\n",
    "# Apply OneHotEncoder to the indexed column\n",
    "encoder = OneHotEncoder(inputCol=\"OccupationIndex\", outputCol=\"OccupationVector\")\n",
    "df_occ = encoder.fit(df_occ).transform(df_occ)\n",
    "\n",
    "# Drop the rest of the other columns\n",
    "df_occ = df_occ.drop(\"OccupationIndex\")\n",
    "df_occ = df_occ.drop(\"Occupation\")\n",
    "df_occ.show()\n",
    "\n",
    "df_bp.groupBy(\"Occupation\").agg(count(\"Occupation\").alias(\"count\")).show()"
   ]
  },
  {
   "cell_type": "code",
   "execution_count": 96,
   "id": "0ef3afd1",
   "metadata": {},
   "outputs": [
    {
     "name": "stdout",
     "output_type": "stream",
     "text": [
      "{'Nurse': 0, 'Engineer': 1, 'Doctor': 2, 'Lawyer': 3, 'Teacher': 4, 'Accountant': 5, 'Salesperson': 6, 'Scientist': 7, 'Software Engineer': 8, 'Sales Representative': 9, 'Manager': 10}\n"
     ]
    }
   ],
   "source": [
    "occupation_dist = df_bp.groupBy(\"Occupation\").agg(count(\"Occupation\").alias(\"count\"))\n",
    "\n",
    "# Sort them such that they match the StringIndexer where most frequent occupation gets 0 etc.\n",
    "sorted_occupations = occupation_dist.orderBy(desc(\"count\")).collect()\n",
    "\n",
    "# Create a dictionary mapping occupation values to indices\n",
    "occupation_index_map = {row[\"Occupation\"]: index for index, row in enumerate(sorted_occupations)}\n",
    "print(occupation_index_map)"
   ]
  },
  {
   "cell_type": "code",
   "execution_count": 97,
   "id": "d07bed69",
   "metadata": {},
   "outputs": [
    {
     "name": "stdout",
     "output_type": "stream",
     "text": [
      "+----+---+--------------+-----------------------+------------+------------+-----------+---------------------+-------------------+-------+--------+--------+---------+----------------+\n",
      "|Male|Age|Sleep Duration|Physical Activity Level|Stress Level|BMI Category|Daily Steps|Quality_of_Sleep_Tier|Have_Sleep_Disorder|Bedtime|PhoneUse|Systolic|Diastolic|OccupationVector|\n",
      "+----+---+--------------+-----------------------+------------+------------+-----------+---------------------+-------------------+-------+--------+--------+---------+----------------+\n",
      "|   1| 27|           6.1|                     42|           6|           2|       5200|                    1|                  0|   1:00|       1|     126|       83|  (10,[8],[1.0])|\n",
      "|   1| 28|           6.2|                     82|           8|           1|       8000|                    1|                  0|   0:30|       0|     125|       80|  (10,[2],[1.0])|\n",
      "|   1| 28|           6.2|                     67|           8|           1|       6000|                    1|                  0|   1:00|       1|     125|       80|  (10,[2],[1.0])|\n",
      "|   1| 28|           5.9|                     33|           8|           3|       2500|                    1|                  1|   1:00|       1|     140|       90|  (10,[9],[1.0])|\n",
      "|   1| 28|           5.9|                     31|           6|           3|       3000|                    1|                  1|   1:40|       1|     140|       90|  (10,[9],[1.0])|\n",
      "|   1| 28|           5.9|                     30|           5|           3|       2800|                    1|                  1|   3:00|       1|     140|       90|  (10,[8],[1.0])|\n",
      "|   1| 29|           6.3|                     41|           6|           3|       3300|                    1|                  1|   0:50|       1|     140|       90|  (10,[4],[1.0])|\n",
      "|   1| 29|           6.3|                     75|           7|           1|       6000|                    2|                  0|   2:50|       0|     120|       80|  (10,[2],[1.0])|\n",
      "|   1| 29|           6.4|                     77|           7|           1|       4000|                    1|                  0|   1:30|       1|     120|       80|  (10,[2],[1.0])|\n",
      "|   1| 29|           5.5|                     71|           8|           1|       6000|                    2|                  0|   3:30|       0|     120|       80|  (10,[2],[1.0])|\n",
      "|   1| 29|           5.7|                     55|           7|           1|       8000|                    2|                  0|   4:30|       0|     120|       80|  (10,[2],[1.0])|\n",
      "|   1| 29|           4.3|                     72|           9|           2|       6000|                    1|                  1|   3:00|       0|     120|       80|  (10,[2],[1.0])|\n",
      "|   1| 29|           5.3|                     55|           8|           2|       4500|                    1|                  0|   2:00|       1|     120|       80|  (10,[2],[1.0])|\n",
      "|   1| 29|           6.0|                     42|           8|           1|       6000|                    2|                  0|   0:50|       1|     120|       80|  (10,[2],[1.0])|\n",
      "|   1| 29|           5.6|                     62|           8|           1|       5000|                    2|                  1|   3:00|       1|     120|       80|  (10,[2],[1.0])|\n",
      "|   1| 29|           5.7|                     44|           8|           1|       8000|                    2|                  1|   2:20|       1|     120|       80|  (10,[2],[1.0])|\n",
      "|   0| 29|           6.5|                     30|           7|           1|       4000|                    1|                  1|   1:50|       1|     132|       87|  (10,[0],[1.0])|\n",
      "|   1| 29|           6.0|                     38|           8|           1|       8000|                    2|                  1|   0:00|       1|     120|       80|  (10,[2],[1.0])|\n",
      "|   0| 29|           6.5|                     42|           7|           1|       4000|                    1|                  1|   1:15|       1|     132|       87|  (10,[0],[1.0])|\n",
      "|   1| 30|           6.6|                     73|           7|           1|       5000|                    2|                  0|  23:30|       0|     120|       80|  (10,[2],[1.0])|\n",
      "+----+---+--------------+-----------------------+------------+------------+-----------+---------------------+-------------------+-------+--------+--------+---------+----------------+\n",
      "only showing top 20 rows\n",
      "\n"
     ]
    }
   ],
   "source": [
    "# Changing gender to just Male\n",
    "df_occ = df_occ.withColumn(\"Gender\", when(col(\"Gender\") == \"Male\", 1).otherwise(0))\n",
    "# Renaming it\n",
    "df_occ = df_occ.withColumnRenamed(\"Gender\", \"Male\")\n",
    "df_occ = df_occ.withColumn(\"Male\", col(\"Male\").cast(IntegerType()))\n",
    "df_occ.show()\n"
   ]
  },
  {
   "cell_type": "markdown",
   "id": "b2a363a7",
   "metadata": {},
   "source": [
    "## 4.2 Data Projection"
   ]
  },
  {
   "cell_type": "code",
   "execution_count": 101,
   "id": "b2e84755",
   "metadata": {},
   "outputs": [
    {
     "name": "stderr",
     "output_type": "stream",
     "text": [
      "/home/ubuntu/.local/lib/python3.10/site-packages/seaborn/distributions.py:2619: FutureWarning: `distplot` is a deprecated function and will be removed in a future version. Please adapt your code to use either `displot` (a figure-level function with similar flexibility) or `histplot` (an axes-level function for histograms).\n",
      "  warnings.warn(msg, FutureWarning)\n"
     ]
    },
    {
     "data": {
      "text/plain": [
       "Text(0.5, 1.0, 'Density Distribution of Sleep Duration')"
      ]
     },
     "execution_count": 101,
     "metadata": {},
     "output_type": "execute_result"
    },
    {
     "data": {
      "image/png": "[encoded data removed]",
      "text/plain": [
       "<Figure size 432x288 with 1 Axes>"
      ]
     },
     "metadata": {
      "needs_background": "light"
     },
     "output_type": "display_data"
    }
   ],
   "source": [
    "sns.distplot(df_occ.toPandas()['Sleep Duration'])\n",
    "plt.title(\"Density Distribution of Sleep Duration\")"
   ]
  },
  {
   "cell_type": "code",
   "execution_count": 102,
   "id": "1c978227",
   "metadata": {},
   "outputs": [
    {
     "name": "stderr",
     "output_type": "stream",
     "text": [
      "/home/ubuntu/.local/lib/python3.10/site-packages/seaborn/distributions.py:2619: FutureWarning: `distplot` is a deprecated function and will be removed in a future version. Please adapt your code to use either `displot` (a figure-level function with similar flexibility) or `histplot` (an axes-level function for histograms).\n",
      "  warnings.warn(msg, FutureWarning)\n"
     ]
    },
    {
     "data": {
      "text/plain": [
       "Text(0.5, 1.0, 'Density Distribution of Physical Activity Level')"
      ]
     },
     "execution_count": 102,
     "metadata": {},
     "output_type": "execute_result"
    },
    {
     "data": {
      "image/png": "[encoded data removed]",
      "text/plain": [
       "<Figure size 432x288 with 1 Axes>"
      ]
     },
     "metadata": {
      "needs_background": "light"
     },
     "output_type": "display_data"
    }
   ],
   "source": [
    "sns.distplot(df_occ.toPandas()['Physical Activity Level'])\n",
    "plt.title(\"Density Distribution of Physical Activity Level\")"
   ]
  },
  {
   "cell_type": "code",
   "execution_count": 103,
   "id": "247ee1a0",
   "metadata": {},
   "outputs": [
    {
     "name": "stderr",
     "output_type": "stream",
     "text": [
      "/home/ubuntu/.local/lib/python3.10/site-packages/seaborn/distributions.py:2619: FutureWarning: `distplot` is a deprecated function and will be removed in a future version. Please adapt your code to use either `displot` (a figure-level function with similar flexibility) or `histplot` (an axes-level function for histograms).\n",
      "  warnings.warn(msg, FutureWarning)\n"
     ]
    },
    {
     "data": {
      "text/plain": [
       "Text(0.5, 1.0, 'Density Distribution of Daily Steps')"
      ]
     },
     "execution_count": 103,
     "metadata": {},
     "output_type": "execute_result"
    },
    {
     "data": {
      "image/png": "[encoded data removed]",
      "text/plain": [
       "<Figure size 432x288 with 1 Axes>"
      ]
     },
     "metadata": {
      "needs_background": "light"
     },
     "output_type": "display_data"
    }
   ],
   "source": [
    "sns.distplot(df_occ.toPandas()['Daily Steps'])\n",
    "plt.title(\"Density Distribution of Daily Steps\")"
   ]
  },
  {
   "cell_type": "code",
   "execution_count": 106,
   "id": "59e00ee9",
   "metadata": {},
   "outputs": [
    {
     "name": "stderr",
     "output_type": "stream",
     "text": [
      "/home/ubuntu/.local/lib/python3.10/site-packages/seaborn/distributions.py:2619: FutureWarning: `distplot` is a deprecated function and will be removed in a future version. Please adapt your code to use either `displot` (a figure-level function with similar flexibility) or `histplot` (an axes-level function for histograms).\n",
      "  warnings.warn(msg, FutureWarning)\n"
     ]
    },
    {
     "data": {
      "text/plain": [
       "Text(0.5, 1.0, 'Density Distribution of Physical Activity Level Log')"
      ]
     },
     "execution_count": 106,
     "metadata": {},
     "output_type": "execute_result"
    },
    {
     "data": {
      "image/png": "[encoded data removed]",
      "text/plain": [
       "<Figure size 432x288 with 1 Axes>"
      ]
     },
     "metadata": {
      "needs_background": "light"
     },
     "output_type": "display_data"
    }
   ],
   "source": [
    "# Log them and create new column\n",
    "df_occ = df_occ.withColumn(\"Physical_Activity_Level_Log\", log(col(\"Physical Activity Level\")))\n",
    "df_occ = df_occ.withColumn(\"Daily_Steps_Log\", log(col(\"Daily Steps\")))\n",
    "sns.distplot(df_occ.toPandas()['Physical_Activity_Level_Log'])\n",
    "plt.title(\"Density Distribution of Physical Activity Level Log\")"
   ]
  },
  {
   "cell_type": "code",
   "execution_count": 107,
   "id": "80d55082",
   "metadata": {},
   "outputs": [
    {
     "name": "stderr",
     "output_type": "stream",
     "text": [
      "/home/ubuntu/.local/lib/python3.10/site-packages/seaborn/distributions.py:2619: FutureWarning: `distplot` is a deprecated function and will be removed in a future version. Please adapt your code to use either `displot` (a figure-level function with similar flexibility) or `histplot` (an axes-level function for histograms).\n",
      "  warnings.warn(msg, FutureWarning)\n"
     ]
    },
    {
     "data": {
      "text/plain": [
       "Text(0.5, 1.0, 'Density Distribution of Daily Steps Log')"
      ]
     },
     "execution_count": 107,
     "metadata": {},
     "output_type": "execute_result"
    },
    {
     "data": {
      "image/png": "[encoded data removed]",
      "text/plain": [
       "<Figure size 432x288 with 1 Axes>"
      ]
     },
     "metadata": {
      "needs_background": "light"
     },
     "output_type": "display_data"
    }
   ],
   "source": [
    "sns.distplot(df_occ.toPandas()['Daily_Steps_Log'])\n",
    "plt.title(\"Density Distribution of Daily Steps Log\")"
   ]
  },
  {
   "cell_type": "code",
   "execution_count": 110,
   "id": "6be5ed4f",
   "metadata": {},
   "outputs": [
    {
     "name": "stdout",
     "output_type": "stream",
     "text": [
      "652\n",
      "17\n"
     ]
    }
   ],
   "source": [
    "print(df_occ.count())\n",
    "print(len(df_occ.columns))"
   ]
  },
  {
   "cell_type": "markdown",
   "id": "eab3d8b8",
   "metadata": {},
   "source": [
    "## 6.3 Build model with selected parameter(s)\n"
   ]
  },
  {
   "cell_type": "code",
   "execution_count": null,
   "id": "68b35ae7",
   "metadata": {},
   "outputs": [],
   "source": []
  }
 ],
 "metadata": {
  "kernelspec": {
   "display_name": "Python 3 (ipykernel)",
   "language": "python",
   "name": "python3"
  },
  "language_info": {
   "codemirror_mode": {
    "name": "ipython",
    "version": 3
   },
   "file_extension": ".py",
   "mimetype": "text/x-python",
   "name": "python",
   "nbconvert_exporter": "python",
   "pygments_lexer": "ipython3",
   "version": "3.10.12"
  }
 },
 "nbformat": 4,
 "nbformat_minor": 5
}
